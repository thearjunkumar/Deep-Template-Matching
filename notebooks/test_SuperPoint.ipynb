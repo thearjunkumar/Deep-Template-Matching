{
 "cells": [
  {
   "cell_type": "code",
   "execution_count": 2,
   "metadata": {
    "collapsed": true
   },
   "outputs": [],
   "source": [
    "import math\n",
    "import argparse\n",
    "import pprint\n",
    "from distutils.util import strtobool\n",
    "from pathlib import Path\n",
    "from loguru import logger as loguru_logger\n",
    "from src.config.default import get_cfg_defaults\n",
    "import pytorch_lightning as pl\n",
    "from pytorch_lightning.utilities import rank_zero_only\n",
    "from pytorch_lightning.loggers import TensorBoardLogger\n",
    "from pytorch_lightning.callbacks import ModelCheckpoint, LearningRateMonitor\n",
    "from pytorch_lightning.plugins import DDPPlugin\n",
    "from src.lightning.lightning_tm import PL_Tm\n",
    "from src.utils.profiler import build_profiler\n",
    "from src.config.default import get_cfg_defaults\n",
    "from src.utils.misc import lower_config\n",
    "import matplotlib.pyplot as plt\n",
    "import torch\n",
    "from src.models.SuperPointNet_gs import SuperPointNet_gauss2\n",
    "import cv2"
   ]
  },
  {
   "cell_type": "code",
   "execution_count": 78,
   "outputs": [],
   "source": [
    "def draw_keypoint_1(outs_post, image):\n",
    "        from src.utils.print_tool import print_dict_attr\n",
    "        print_dict_attr(outs_post, 'shape')\n",
    "        from src.utils.draw import draw_keypoints\n",
    "        from src.utils.utils import toNumpy\n",
    "        pts_int = outs_post['pts_int']\n",
    "        pts_offset = outs_post['pts_offset']\n",
    "        pts_desc = outs_post['pts_desc']\n",
    "        img = draw_keypoints(toNumpy(image[0].squeeze()),\n",
    "                                toNumpy((pts_int[0] + pts_offset[0]).squeeze()).transpose())\n",
    "        # print(\"img: \", img_0)\n",
    "        # print(img)\n",
    "        plt.imshow(img)\n",
    "        plt.show()\n",
    "        cv2.imwrite('a.jpg',img)\n",
    "\n",
    "        # from src.models.model_wrap import PointTracker\n",
    "        #\n",
    "        # tracker = PointTracker(max_length=2, nn_thresh=0.7)\n",
    "        #\n",
    "        # for i in range(1):\n",
    "        #     f = lambda x: toNumpy(x.squeeze())\n",
    "        #     tracker.update(f(pts_int[i]).transpose(), f(pts_desc[i]).transpose())\n",
    "\n",
    "        # matches = tracker.get_matches().T\n",
    "        # print(\"matches: \", matches.transpose().shape)\n",
    "\n",
    "        # from src.utils.draw import draw_matches\n",
    "        # # filename = path_match + '/' + f_num + 'm.png'\n",
    "        # draw_matches(f(data[\"image0\"]), f(data[\"image1\"]), matches, filename='', show=True)\n",
    "\n",
    "def visualize(img_path):\n",
    "    config = get_cfg_defaults()\n",
    "    config.merge_from_file('../config/linemod2d_train.py')\n",
    "    config.merge_from_file('../config/model_tm.py')\n",
    "    _config = lower_config(config)\n",
    "    device = torch.device('cuda' if torch.cuda.is_available() else 'cpu')\n",
    "    model = SuperPointNet_gauss2(_config['tm']['superpoint'])\n",
    "    model.load_state_dict(torch.load('../pretrained/superPointNet_170000_checkpoint.pth.tar')['model_state_dict'])\n",
    "    matcher = model.eval().cuda()\n",
    "    model = model.to(device)\n",
    "\n",
    "    # check keras-like model summary using torchsummary\n",
    "    # from torchsummary import summary\n",
    "    # summary(model, input_size=(1, 240, 320))\n",
    "\n",
    "    ## test\n",
    "    image =  cv2.imread(img_path, cv2.IMREAD_GRAYSCALE)\n",
    "    image = torch.from_numpy(image).float()[None] / 255\n",
    "\n",
    "    image = image[None,:,:] # bs ,1, H, W\n",
    "    # print(image.shape)\n",
    "    outs = model(image.to(device))\n",
    "    # print(\"outs: \", list(outs))\n",
    "\n",
    "    from src.utils.print_tool import print_dict_attr\n",
    "    print_dict_attr(outs, 'shape')\n",
    "\n",
    "    from src.models.model_utils import SuperPointNet_process\n",
    "    params = {\n",
    "        'out_num_points': 500,\n",
    "        'patch_size': 5,\n",
    "        'device': device,\n",
    "        'nms_dist': 2,\n",
    "        'conf_thresh': 0.015\n",
    "    }\n",
    "\n",
    "    sp_processer = SuperPointNet_process(**params)\n",
    "    outs = model.process_output(sp_processer, outs)\n",
    "    image = image*255\n",
    "    draw_keypoint_1(outs, image)\n",
    "\n",
    "\n",
    "\n"
   ],
   "metadata": {
    "collapsed": false,
    "pycharm": {
     "name": "#%%\n"
    }
   }
  },
  {
   "cell_type": "code",
   "execution_count": 79,
   "outputs": [
    {
     "name": "stdout",
     "output_type": "stream",
     "text": [
      "semi :  torch.Size([1, 65, 61, 396])\n",
      "desc :  torch.Size([1, 256, 61, 396])\n",
      "semi :  torch.Size([1, 65, 61, 396])\n",
      "desc :  torch.Size([1, 256, 61, 396])\n",
      "pts_int :  torch.Size([1, 500, 2])\n",
      "pts_offset :  torch.Size([1, 500, 2])\n",
      "pts_desc :  torch.Size([1, 500, 256])\n"
     ]
    },
    {
     "name": "stderr",
     "output_type": "stream",
     "text": [
      "Clipping input data to the valid range for imshow with RGB data ([0..1] for floats or [0..255] for integers).\n"
     ]
    },
    {
     "data": {
      "text/plain": "<Figure size 432x288 with 1 Axes>",
      "image/png": "[encoded data removed]"
     },
     "metadata": {
      "needs_background": "light"
     },
     "output_type": "display_data"
    },
    {
     "name": "stdout",
     "output_type": "stream",
     "text": [
      "semi :  torch.Size([1, 65, 38, 376])\n",
      "desc :  torch.Size([1, 256, 38, 376])\n",
      "semi :  torch.Size([1, 65, 38, 376])\n",
      "desc :  torch.Size([1, 256, 38, 376])\n",
      "pts_int :  torch.Size([1, 500, 2])\n",
      "pts_offset :  torch.Size([1, 500, 2])\n",
      "pts_desc :  torch.Size([1, 500, 256])\n"
     ]
    },
    {
     "name": "stderr",
     "output_type": "stream",
     "text": [
      "Clipping input data to the valid range for imshow with RGB data ([0..1] for floats or [0..255] for integers).\n"
     ]
    },
    {
     "data": {
      "text/plain": "<Figure size 432x288 with 1 Axes>",
      "image/png": "[encoded data removed]"
     },
     "metadata": {
      "needs_background": "light"
     },
     "output_type": "display_data"
    }
   ],
   "source": [
    "img_path = '/home/gzr/Data/linemod_2d/DATA/steel_test/08159/matchedMask.jpg'\n",
    "visualize(img_path)\n",
    "img_path = '/home/gzr/workspace/SuperPointPretrainedNetwork-master/assets/template_image/canny2.jpg'\n",
    "visualize(img_path)"
   ],
   "metadata": {
    "collapsed": false,
    "pycharm": {
     "name": "#%%\n"
    }
   }
  },
  {
   "cell_type": "code",
   "execution_count": null,
   "outputs": [],
   "source": [],
   "metadata": {
    "collapsed": false,
    "pycharm": {
     "name": "#%%\n"
    }
   }
  }
 ],
 "metadata": {
  "kernelspec": {
   "display_name": "Python 3",
   "language": "python",
   "name": "python3"
  },
  "language_info": {
   "codemirror_mode": {
    "name": "ipython",
    "version": 2
   },
   "file_extension": ".py",
   "mimetype": "text/x-python",
   "name": "python",
   "nbconvert_exporter": "python",
   "pygments_lexer": "ipython2",
   "version": "2.7.6"
  }
 },
 "nbformat": 4,
 "nbformat_minor": 0
}