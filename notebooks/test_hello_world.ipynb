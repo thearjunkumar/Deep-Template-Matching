{
 "cells": [
  {
   "cell_type": "code",
   "execution_count": 15,
   "metadata": {
    "collapsed": true
   },
   "outputs": [
    {
     "name": "stdout",
     "output_type": "stream",
     "text": [
      "torch.Size([2, 3]) torch.Size([2, 3])\n",
      "torch.Size([6]) torch.Size([6])\n",
      "tensor([1, 3, 3, 2, 2, 2])\n",
      "tensor([0, 1, 2, 3, 4])\n"
     ]
    }
   ],
   "source": [
    "from einops.einops import rearrange\n",
    "import torch\n",
    "mask = torch.randn((2,3,4))\n",
    "mask_v, all_j_ids = mask.max(dim=2)  # mask_v: [N,L]\n",
    "print(mask_v.shape,all_j_ids.shape)\n",
    "b_ids, i_ids = torch.where(mask_v) #i_ids : [N*L]\n",
    "print(b_ids.shape,i_ids.shape)\n",
    "j_ids = all_j_ids[b_ids, i_ids]\n",
    "print(j_ids)\n",
    "\n",
    "i_ids = torch.arange(0,5).long()\n",
    "print(i_ids)"
   ]
  },
  {
   "cell_type": "code",
   "execution_count": 17,
   "outputs": [
    {
     "name": "stdout",
     "output_type": "stream",
     "text": [
      "torch.Size([2, 3, 2])\n",
      "b_x shape torch.Size([6])\n",
      "torch.int64\n",
      "tensor([0, 0, 0, 1, 1, 1]) tensor([ 3,  2,  4,  5, 10, 11]) tensor([11,  1,  6,  7,  6,  1])\n",
      "tensor([[[0., 0., 0., 0., 0., 0., 0., 0., 0., 0., 0., 0.],\n",
      "         [0., 0., 0., 0., 0., 0., 0., 0., 0., 0., 0., 0.],\n",
      "         [0., 1., 0., 0., 0., 0., 0., 0., 0., 0., 0., 0.],\n",
      "         [0., 0., 0., 0., 0., 0., 0., 0., 0., 0., 0., 1.],\n",
      "         [0., 0., 0., 0., 0., 0., 1., 0., 0., 0., 0., 0.],\n",
      "         [0., 0., 0., 0., 0., 0., 0., 0., 0., 0., 0., 0.],\n",
      "         [0., 0., 0., 0., 0., 0., 0., 0., 0., 0., 0., 0.],\n",
      "         [0., 0., 0., 0., 0., 0., 0., 0., 0., 0., 0., 0.],\n",
      "         [0., 0., 0., 0., 0., 0., 0., 0., 0., 0., 0., 0.],\n",
      "         [0., 0., 0., 0., 0., 0., 0., 0., 0., 0., 0., 0.],\n",
      "         [0., 0., 0., 0., 0., 0., 0., 0., 0., 0., 0., 0.],\n",
      "         [0., 0., 0., 0., 0., 0., 0., 0., 0., 0., 0., 0.]],\n",
      "\n",
      "        [[0., 0., 0., 0., 0., 0., 0., 0., 0., 0., 0., 0.],\n",
      "         [0., 0., 0., 0., 0., 0., 0., 0., 0., 0., 0., 0.],\n",
      "         [0., 0., 0., 0., 0., 0., 0., 0., 0., 0., 0., 0.],\n",
      "         [0., 0., 0., 0., 0., 0., 0., 0., 0., 0., 0., 0.],\n",
      "         [0., 0., 0., 0., 0., 0., 0., 0., 0., 0., 0., 0.],\n",
      "         [0., 0., 0., 0., 0., 0., 0., 1., 0., 0., 0., 0.],\n",
      "         [0., 0., 0., 0., 0., 0., 0., 0., 0., 0., 0., 0.],\n",
      "         [0., 0., 0., 0., 0., 0., 0., 0., 0., 0., 0., 0.],\n",
      "         [0., 0., 0., 0., 0., 0., 0., 0., 0., 0., 0., 0.],\n",
      "         [0., 0., 0., 0., 0., 0., 0., 0., 0., 0., 0., 0.],\n",
      "         [0., 0., 0., 0., 0., 0., 1., 0., 0., 0., 0., 0.],\n",
      "         [0., 1., 0., 0., 0., 0., 0., 0., 0., 0., 0., 0.]]])\n"
     ]
    }
   ],
   "source": [
    "from einops.einops import rearrange\n",
    "import torch\n",
    "from kornia.utils import create_meshgrid\n",
    "N =2\n",
    "point2d = torch.Tensor([[[11.,3.3],[1,2.2],[5.6,3.8]],[[6.6,5.3],[5.5,9.8],[1.4,11.1]]])\n",
    "print(point2d.shape)\n",
    "\n",
    "point2d = point2d.round().long()\n",
    "b_x = torch.flatten(point2d[:,:,0])\n",
    "b_y = torch.flatten(point2d[:,:,1])\n",
    "print('b_x shape',b_x.shape)\n",
    "b,xx = torch.where(point2d[:,:,0]>=0)\n",
    "print(xx.dtype)\n",
    "#\n",
    "device = point2d.device\n",
    "grid = torch.zeros(2,12,12,device=device)\n",
    "\n",
    "# print(mask)\n",
    "#\n",
    "#\n",
    "print(b,b_y,b_x)\n",
    "grid[b,b_y,b_x] =1\n",
    "print(grid)\n",
    "# torch.where(point2d)\n",
    "# print(point2d)\n",
    "\n",
    "\n",
    "# i_ids = torch.index_select(point2d, dim = 1, index = torch.tensor([0]))\n",
    "#\n",
    "# print(i_ids)\n",
    "# print('point2d')\n",
    "# print(point2d)\n",
    "# print(point2d.shape)\n",
    "\n",
    "# print(grid.shape)\n",
    "# grid[point2d]  =1\n",
    "# print(grid)\n",
    "\n",
    "\n",
    "# x2 = torch.Tensor([[ 0.,  1.,  2.],\n",
    "#                    [ 5.,  6.,  7.],\n",
    "#                    [10., 11., 12.],\n",
    "#                    [10., 11., 12.]])\n",
    "#\n",
    "# mask1 = torch.LongTensor([1,2])\n",
    "# mask2 = torch.LongTensor([2,2])\n",
    "# print(x2.shape)\n",
    "# print(mask1.shape)\n",
    "# x2[mask1,mask2] = -1\n",
    "# print(x2)\n",
    "\n",
    "\n",
    "\n"
   ],
   "metadata": {
    "collapsed": false,
    "pycharm": {
     "name": "#%%\n"
    }
   }
  },
  {
   "cell_type": "code",
   "execution_count": 1,
   "outputs": [
    {
     "name": "stdout",
     "output_type": "stream",
     "text": [
      "tensor([[[[0., 0., 0.],\n",
      "          [0., 0., 0.]]],\n",
      "\n",
      "\n",
      "        [[[1., 1., 1.],\n",
      "          [2., 2., 2.]]]])\n",
      "torch.return_types.topk(\n",
      "values=tensor([[[[0.],\n",
      "          [0.]]],\n",
      "\n",
      "\n",
      "        [[[1.],\n",
      "          [2.]]]]),\n",
      "indices=tensor([[[[0],\n",
      "          [0]]],\n",
      "\n",
      "\n",
      "        [[[0],\n",
      "          [0]]]]))\n"
     ]
    }
   ],
   "source": [
    "\n",
    "import os\n",
    "import numpy as np\n",
    "import torch\n",
    "x = torch.ones((2,1,2,3))\n",
    "heatmap_nms_batch = torch.cumsum(x,2)\n",
    "heatmap_nms_batch[::3] =0\n",
    "print(heatmap_nms_batch)\n",
    "pts_idx = heatmap_nms_batch[...].nonzero()  # [N, 4(batch, 0, y, x)]\n",
    "# print(pts_idx)\n",
    "y = torch.topk(heatmap_nms_batch,1,largest=True,sorted=True)\n",
    "print(y)"
   ],
   "metadata": {
    "collapsed": false,
    "pycharm": {
     "name": "#%%\n"
    }
   }
  },
  {
   "cell_type": "code",
   "execution_count": 72,
   "outputs": [
    {
     "name": "stdout",
     "output_type": "stream",
     "text": [
      "y size torch.Size([1, 16, 2, 2])\n",
      "torch.Size([2, 16, 4])\n",
      "torch.Size([2, 4, 4])\n",
      "y size torch.Size([2, 16, 4])\n",
      "tensor([[[ 0.8415,  0.8415,  0.9093,  0.9093],\n",
      "         [ 0.5403,  0.5403, -0.4161, -0.4161],\n",
      "         [ 0.8415,  0.9093,  0.8415,  0.9093],\n",
      "         [ 0.5403, -0.4161,  0.5403, -0.4161],\n",
      "         [ 0.0998,  0.0998,  0.1987,  0.1987],\n",
      "         [ 0.9950,  0.9950,  0.9801,  0.9801],\n",
      "         [ 0.0998,  0.1987,  0.0998,  0.1987],\n",
      "         [ 0.9950,  0.9801,  0.9950,  0.9801],\n",
      "         [ 0.0100,  0.0100,  0.0200,  0.0200],\n",
      "         [ 0.9999,  0.9999,  0.9998,  0.9998],\n",
      "         [ 0.0100,  0.0200,  0.0100,  0.0200],\n",
      "         [ 0.9999,  0.9998,  0.9999,  0.9998],\n",
      "         [ 0.0010,  0.0010,  0.0020,  0.0020],\n",
      "         [ 1.0000,  1.0000,  1.0000,  1.0000],\n",
      "         [ 0.0010,  0.0020,  0.0010,  0.0020],\n",
      "         [ 1.0000,  1.0000,  1.0000,  1.0000]],\n",
      "\n",
      "        [[ 0.9093,  0.9093,  0.9093,  0.9093],\n",
      "         [-0.4161, -0.4161, -0.4161, -0.4161],\n",
      "         [ 0.9093,  0.8415,  0.9093,  0.1411],\n",
      "         [-0.4161,  0.5403, -0.4161, -0.9900],\n",
      "         [ 0.1987,  0.1987,  0.1987,  0.1987],\n",
      "         [ 0.9801,  0.9801,  0.9801,  0.9801],\n",
      "         [ 0.1987,  0.0998,  0.1987,  0.2955],\n",
      "         [ 0.9801,  0.9950,  0.9801,  0.9553],\n",
      "         [ 0.0200,  0.0200,  0.0200,  0.0200],\n",
      "         [ 0.9998,  0.9998,  0.9998,  0.9998],\n",
      "         [ 0.0200,  0.0100,  0.0200,  0.0300],\n",
      "         [ 0.9998,  0.9999,  0.9998,  0.9996],\n",
      "         [ 0.0020,  0.0020,  0.0020,  0.0020],\n",
      "         [ 1.0000,  1.0000,  1.0000,  1.0000],\n",
      "         [ 0.0020,  0.0010,  0.0020,  0.0030],\n",
      "         [ 1.0000,  1.0000,  1.0000,  1.0000]]])\n"
     ]
    }
   ],
   "source": [
    "import math\n",
    "import torch\n",
    "from torch import nn\n",
    "\n",
    "\n",
    "class PositionEncodingSine(nn.Module):\n",
    "    \"\"\"\n",
    "    This is a sinusoidal position encoding that generalized to 2-dimensional images\n",
    "    \"\"\"\n",
    "\n",
    "    def __init__(self, d_model, max_shape=(512, 512), temp_bug_fix=True):\n",
    "        \"\"\"\n",
    "        Args:\n",
    "            max_shape (tuple): for 1/8 featmap, the max length of 256 corresponds to 2048 pixels\n",
    "            temp_bug_fix (bool): As noted in this [issue](https://github.com/zju3dv/LoFTR/issues/41),\n",
    "                the original implementation of LoFTR includes a bug in the pos-enc impl, which has little impact\n",
    "                on the final performance. For now, we keep both impls for backward compatability.\n",
    "                We will remove the buggy impl after re-training all variants of our released models.\n",
    "        \"\"\"\n",
    "        super().__init__()\n",
    "\n",
    "        pe = torch.zeros((d_model, *max_shape))\n",
    "        y_position = torch.ones(max_shape).cumsum(0).float().unsqueeze(0)\n",
    "        x_position = torch.ones(max_shape).cumsum(1).float().unsqueeze(0)\n",
    "\n",
    "        if temp_bug_fix:\n",
    "            div_term = torch.exp(torch.arange(0, d_model//2, 2).float() * (-math.log(10000.0) / (d_model//2)))\n",
    "        else:  # a buggy implementation (for backward compatability only)\n",
    "            div_term = torch.exp(torch.arange(0, d_model//2, 2).float() * (-math.log(10000.0) / d_model//2))\n",
    "        div_term = div_term[:, None, None]  # [C//4, 1, 1]\n",
    "        pe[0::4, :, :] = torch.sin(x_position * div_term)\n",
    "        pe[1::4, :, :] = torch.cos(x_position * div_term)\n",
    "        pe[2::4, :, :] = torch.sin(y_position * div_term)\n",
    "        pe[3::4, :, :] = torch.cos(y_position * div_term)\n",
    "\n",
    "        self.register_buffer('pe', pe.unsqueeze(0), persistent=False)  # [1, C, H, W]\n",
    "\n",
    "    def forward(self, x):\n",
    "        \"\"\"\n",
    "        Args:\n",
    "            x: [N, C, H, W]\n",
    "        \"\"\"\n",
    "        return x + self.pe[:, :, :x.size(2), :x.size(3)]\n",
    "\n",
    "class PositionEncodingSine_line(nn.Module):\n",
    "    \"\"\"\n",
    "    This is a sinusoidal position encoding that generalized to 1-dimensional sequences\n",
    "    \"\"\"\n",
    "\n",
    "    def __init__(self, d_model, temp_bug_fix=True):\n",
    "        \"\"\"\n",
    "        Args:\n",
    "            max_shape (tuple): for 1/8 featmap, the max length of 256 corresponds to 2048 pixels\n",
    "            temp_bug_fix (bool): As noted in this [issue](https://github.com/zju3dv/LoFTR/issues/41),\n",
    "                the original implementation of LoFTR includes a bug in the pos-enc impl, which has little impact\n",
    "                on the final performance. For now, we keep both impls for backward compatability.\n",
    "                We will remove the buggy impl after re-training all variants of our released models.\n",
    "        \"\"\"\n",
    "        super().__init__()\n",
    "        if temp_bug_fix:\n",
    "            div_term = torch.exp(torch.arange(0, d_model//2, 2).float() * (-math.log(10000.0) / (d_model//2)))\n",
    "        else:  # a buggy implementation (for backward compatability only)\n",
    "            div_term = torch.exp(torch.arange(0, d_model//2, 2).float() * (-math.log(10000.0) / d_model//2))\n",
    "\n",
    "        self.div_term = div_term[:,None, None]  # [C//4, 1]\n",
    "\n",
    "\n",
    "\n",
    "\n",
    "\n",
    "    def forward(self, x, pts_int):\n",
    "        \"\"\"\n",
    "        Args:\n",
    "            x: [bs, C, L]\n",
    "            pts_int:[bs,L,2]\n",
    "        \"\"\"\n",
    "        d_model = x.shape[1]\n",
    "        x_position = pts_int[:,:,0].unsqueeze(0)\n",
    "        y_position = pts_int[:,:,1].unsqueeze(0)\n",
    "\n",
    "        pe = torch.zeros((x.shape[0],d_model, x.shape[2]))\n",
    "        print(pe.size())\n",
    "        b = torch.sin(x_position * self.div_term).permute((1,0,2))\n",
    "        print(b.size())\n",
    "        pe[:,0::4, :] = torch.sin(x_position * self.div_term).permute((1,0,2))\n",
    "        pe[:,1::4, :] = torch.cos(x_position * self.div_term).permute((1,0,2))\n",
    "        pe[:,2::4, :] = torch.sin(y_position * self.div_term).permute((1,0,2))\n",
    "        pe[:,3::4, :] = torch.cos(y_position * self.div_term).permute((1,0,2))\n",
    "        return x + pe\n",
    "\n",
    "\n",
    "model = PositionEncodingSine(16)\n",
    "x = torch.zeros(1,16,2,2)\n",
    "y = model(x)\n",
    "print('y size',y.size())\n",
    "# print(y)\n",
    "model2 = PositionEncodingSine_line(16)\n",
    "x = torch.zeros(2,16,4)\n",
    "\n",
    "pts_int = torch.tensor([[[  0.,   0.],\n",
    "         [  0.,   1.],\n",
    "         [  1.,   0.],[  1.,   1.]],\n",
    "               [[  1.,   1.],\n",
    "         [  1.,   0.],\n",
    "         [  1.,   1.],[  1.,   2.]]\n",
    "                        ])\n",
    "pts_int = pts_int +1\n",
    "\n",
    "y = model2(x,pts_int)\n",
    "print('y size',y.size())\n",
    "print(y)\n",
    "\n",
    "\n",
    "\n"
   ],
   "metadata": {
    "collapsed": false,
    "pycharm": {
     "name": "#%%\n"
    }
   }
  },
  {
   "cell_type": "code",
   "execution_count": 63,
   "outputs": [
    {
     "name": "stdout",
     "output_type": "stream",
     "text": [
      "tensor([[[0.2752, 0.0548],\n",
      "         [0.8540, 0.1985]],\n",
      "\n",
      "        [[0.9737, 0.9222],\n",
      "         [0.7755, 0.3945]]])\n",
      "tensor([[0, 1, 0],\n",
      "        [1, 0, 0],\n",
      "        [1, 0, 1],\n",
      "        [1, 1, 0]])\n",
      "tensor([0.7573, 0.9013, 0.0987, 0.6150])\n",
      "tensor([[0.0757, 9.0545],\n",
      "        [0.0901, 6.0487],\n",
      "        [0.0099, 8.7889],\n",
      "        [0.0615, 7.1877]])\n"
     ]
    }
   ],
   "source": [
    "import torch\n",
    "import einops\n",
    "data = torch.rand([2,2,2],dtype=torch.float)\n",
    "print(data)\n",
    "\n",
    "\n",
    "out = torch.nonzero(torch.gt(data,0.5))\n",
    "\n",
    "print(out)\n",
    "a = torch.rand(4)\n",
    "b = torch.rand(4)\n",
    "print(a)\n",
    "c = torch.stack([a,b],dim=1)/(torch.tensor([10,0.1]))\n",
    "print(c)"
   ],
   "metadata": {
    "collapsed": false,
    "pycharm": {
     "name": "#%%\n"
    }
   }
  },
  {
   "cell_type": "code",
   "execution_count": 3,
   "outputs": [
    {
     "data": {
      "text/plain": "True"
     },
     "execution_count": 3,
     "metadata": {},
     "output_type": "execute_result"
    }
   ],
   "source": [
    "import torch\n",
    "import cv2\n",
    "import numpy as np\n",
    "img = cv2.imread(\"/home/gzr/下载/chorme_download/LINEMOD/ape/JPEGImages/000000.jpg\")\n",
    "\n",
    "\n",
    "img_new = cv2.Canny(img,80,200)\n",
    "\n",
    "cv2.imwrite('aa.jpg',img_new)\n",
    "\n"
   ],
   "metadata": {
    "collapsed": false,
    "pycharm": {
     "name": "#%%\n"
    }
   }
  },
  {
   "cell_type": "code",
   "execution_count": 39,
   "outputs": [
    {
     "name": "stdout",
     "output_type": "stream",
     "text": [
      "torch.Size([2, 3, 1, 2])\n",
      "torch.Size([2, 1, 2, 2])\n",
      "torch.Size([2, 3, 2])\n",
      "tensor([[[2.4777, 2.4777],\n",
      "         [1.6236, 1.6236],\n",
      "         [1.7788, 1.7788]],\n",
      "\n",
      "        [[1.6942, 1.6942],\n",
      "         [1.7929, 1.7929],\n",
      "         [1.8237, 1.8237]]])\n"
     ]
    }
   ],
   "source": [
    "import torch\n",
    "a = torch.randn((2,3,2))\n",
    "b = torch.ones((2,2,2))\n",
    "a = a[:,:,None,:]\n",
    "b = b[:,None,:,:]\n",
    "print(a.size())\n",
    "print(b.size())\n",
    "ab = a - b\n",
    "ab = (ab[:,:,:,0]**2+ab[:,:,:,1]**2)**0.5\n",
    "print(ab.size())\n",
    "print(ab)"
   ],
   "metadata": {
    "collapsed": false,
    "pycharm": {
     "name": "#%%\n"
    }
   }
  },
  {
   "cell_type": "code",
   "execution_count": 91,
   "outputs": [
    {
     "name": "stdout",
     "output_type": "stream",
     "text": [
      "dim_div shape torch.Size([1, 4, 1, 1])\n",
      "torch.Size([2, 4, 2])\n",
      "torch.Size([2, 8, 4, 2])\n"
     ]
    }
   ],
   "source": [
    "class GeometryPositionEncodingSine(nn.Module):\n",
    "    \"\"\"\n",
    "    This is a sinusoidal position encoding that generalized to 2-dimensional images\n",
    "    \"\"\"\n",
    "\n",
    "    def __init__(self, d_model, temp_bug_fix=True):\n",
    "        \"\"\"\n",
    "        Args:\n",
    "            max_shape (tuple): for 1/8 featmap, the max length of 256 corresponds to 2048 pixels\n",
    "            temp_bug_fix (bool): As noted in this [issue](https://github.com/zju3dv/LoFTR/issues/41),\n",
    "                the original implementation of LoFTR includes a bug in the pos-enc impl, which has little impact\n",
    "                on the final performance. For now, we keep both impls for backward compatability.\n",
    "                We will remove the buggy impl after re-training all variants of our released models.\n",
    "        \"\"\"\n",
    "        super().__init__()\n",
    "\n",
    "        div_term = torch.exp(torch.arange(0, d_model, 2).float() * (-math.log(10000.0) / (d_model)))\n",
    "        self.div_term = div_term[None,:, None, None]  # [1,C//2, 1, 1]\n",
    "        self.d_model = d_model\n",
    "        print('dim_div shape',self.div_term.size())\n",
    "\n",
    "    def forward(self, x):\n",
    "        \"\"\"\n",
    "        Args:\n",
    "            x: [N, L, S]\n",
    "            return [N,C,L,S]\n",
    "        \"\"\"\n",
    "        dis = x.unsqueeze(1)\n",
    "        device = x.device\n",
    "        pe = torch.zeros((x.shape[0],self.d_model, x.shape[1],x.shape[2]), device=device)\n",
    "        pe[:,0::2, :, :] = torch.sin(dis * self.div_term)\n",
    "        pe[:,1::2, :, :] = torch.cos(dis * self.div_term)\n",
    "        return pe\n",
    "\n",
    "geo = GeometryPositionEncodingSine(8)\n",
    "dis = torch.randn((1,2,3))\n",
    "print(dis)\n",
    "out = geo(dis)\n",
    "# print(out)\n",
    "print(out.shape)"
   ],
   "metadata": {
    "collapsed": false,
    "pycharm": {
     "name": "#%%\n"
    }
   }
  },
  {
   "cell_type": "code",
   "execution_count": 27,
   "outputs": [
    {
     "name": "stdout",
     "output_type": "stream",
     "text": [
      "tensor([[[-0.3563],\n",
      "         [-0.2508]],\n",
      "\n",
      "        [[ 1.5626],\n",
      "         [-0.6626]]])\n",
      "torch.Size([1, 1, 16])\n",
      "tensor([[[0, 1, 2, 3, 0, 1, 2, 3, 0, 1, 2, 3, 0, 1, 2, 3]]])\n",
      "torch.Size([2, 2, 16])\n"
     ]
    }
   ],
   "source": [
    "import torch\n",
    "kernelSize = 11\n",
    "paddingSize = 4\n",
    "\n",
    "data = torch.randn(size=[2,2,1])\n",
    "\n",
    "print(data)\n",
    "gridY = torch.arange(0, paddingSize ).view(1, 1, -1, 1).expand(1, 1,paddingSize, paddingSize).contiguous()\n",
    "gridX = torch.arange(0, paddingSize).view(1, 1, 1, -1).expand(1, 1, paddingSize,  paddingSize).contiguous().reshape(1,1,-1)\n",
    "\n",
    "print(gridX.shape)\n",
    "print(gridX)\n",
    "data  = data+gridX\n",
    "print(data.shape)\n",
    "\n",
    "# grid = torch.cat((gridX, gridY), dim=3)\n",
    "# print(grid)\n",
    "# print(gridX.shape)\n",
    "# print('grid size:',grid.shape)\n",
    "\n"
   ],
   "metadata": {
    "collapsed": false,
    "pycharm": {
     "name": "#%%\n"
    }
   }
  },
  {
   "cell_type": "code",
   "execution_count": 23,
   "outputs": [
    {
     "name": "stdout",
     "output_type": "stream",
     "text": [
      "torch.Size([1, 121, 2])\n",
      "tensor([[[-1.0000e+00, -1.0000e+00],\n",
      "         [-8.0000e-01, -1.0000e+00],\n",
      "         [-6.0000e-01, -1.0000e+00],\n",
      "         [-4.0000e-01, -1.0000e+00],\n",
      "         [-2.0000e-01, -1.0000e+00],\n",
      "         [-1.4901e-08, -1.0000e+00],\n",
      "         [ 2.0000e-01, -1.0000e+00],\n",
      "         [ 4.0000e-01, -1.0000e+00],\n",
      "         [ 6.0000e-01, -1.0000e+00],\n",
      "         [ 8.0000e-01, -1.0000e+00],\n",
      "         [ 1.0000e+00, -1.0000e+00],\n",
      "         [-1.0000e+00, -8.0000e-01],\n",
      "         [-8.0000e-01, -8.0000e-01],\n",
      "         [-6.0000e-01, -8.0000e-01],\n",
      "         [-4.0000e-01, -8.0000e-01],\n",
      "         [-2.0000e-01, -8.0000e-01],\n",
      "         [-1.4901e-08, -8.0000e-01],\n",
      "         [ 2.0000e-01, -8.0000e-01],\n",
      "         [ 4.0000e-01, -8.0000e-01],\n",
      "         [ 6.0000e-01, -8.0000e-01],\n",
      "         [ 8.0000e-01, -8.0000e-01],\n",
      "         [ 1.0000e+00, -8.0000e-01],\n",
      "         [-1.0000e+00, -6.0000e-01],\n",
      "         [-8.0000e-01, -6.0000e-01],\n",
      "         [-6.0000e-01, -6.0000e-01],\n",
      "         [-4.0000e-01, -6.0000e-01],\n",
      "         [-2.0000e-01, -6.0000e-01],\n",
      "         [-1.4901e-08, -6.0000e-01],\n",
      "         [ 2.0000e-01, -6.0000e-01],\n",
      "         [ 4.0000e-01, -6.0000e-01],\n",
      "         [ 6.0000e-01, -6.0000e-01],\n",
      "         [ 8.0000e-01, -6.0000e-01],\n",
      "         [ 1.0000e+00, -6.0000e-01],\n",
      "         [-1.0000e+00, -4.0000e-01],\n",
      "         [-8.0000e-01, -4.0000e-01],\n",
      "         [-6.0000e-01, -4.0000e-01],\n",
      "         [-4.0000e-01, -4.0000e-01],\n",
      "         [-2.0000e-01, -4.0000e-01],\n",
      "         [-1.4901e-08, -4.0000e-01],\n",
      "         [ 2.0000e-01, -4.0000e-01],\n",
      "         [ 4.0000e-01, -4.0000e-01],\n",
      "         [ 6.0000e-01, -4.0000e-01],\n",
      "         [ 8.0000e-01, -4.0000e-01],\n",
      "         [ 1.0000e+00, -4.0000e-01],\n",
      "         [-1.0000e+00, -2.0000e-01],\n",
      "         [-8.0000e-01, -2.0000e-01],\n",
      "         [-6.0000e-01, -2.0000e-01],\n",
      "         [-4.0000e-01, -2.0000e-01],\n",
      "         [-2.0000e-01, -2.0000e-01],\n",
      "         [-1.4901e-08, -2.0000e-01],\n",
      "         [ 2.0000e-01, -2.0000e-01],\n",
      "         [ 4.0000e-01, -2.0000e-01],\n",
      "         [ 6.0000e-01, -2.0000e-01],\n",
      "         [ 8.0000e-01, -2.0000e-01],\n",
      "         [ 1.0000e+00, -2.0000e-01],\n",
      "         [-1.0000e+00, -1.4901e-08],\n",
      "         [-8.0000e-01, -1.4901e-08],\n",
      "         [-6.0000e-01, -1.4901e-08],\n",
      "         [-4.0000e-01, -1.4901e-08],\n",
      "         [-2.0000e-01, -1.4901e-08],\n",
      "         [-1.4901e-08, -1.4901e-08],\n",
      "         [ 2.0000e-01, -1.4901e-08],\n",
      "         [ 4.0000e-01, -1.4901e-08],\n",
      "         [ 6.0000e-01, -1.4901e-08],\n",
      "         [ 8.0000e-01, -1.4901e-08],\n",
      "         [ 1.0000e+00, -1.4901e-08],\n",
      "         [-1.0000e+00,  2.0000e-01],\n",
      "         [-8.0000e-01,  2.0000e-01],\n",
      "         [-6.0000e-01,  2.0000e-01],\n",
      "         [-4.0000e-01,  2.0000e-01],\n",
      "         [-2.0000e-01,  2.0000e-01],\n",
      "         [-1.4901e-08,  2.0000e-01],\n",
      "         [ 2.0000e-01,  2.0000e-01],\n",
      "         [ 4.0000e-01,  2.0000e-01],\n",
      "         [ 6.0000e-01,  2.0000e-01],\n",
      "         [ 8.0000e-01,  2.0000e-01],\n",
      "         [ 1.0000e+00,  2.0000e-01],\n",
      "         [-1.0000e+00,  4.0000e-01],\n",
      "         [-8.0000e-01,  4.0000e-01],\n",
      "         [-6.0000e-01,  4.0000e-01],\n",
      "         [-4.0000e-01,  4.0000e-01],\n",
      "         [-2.0000e-01,  4.0000e-01],\n",
      "         [-1.4901e-08,  4.0000e-01],\n",
      "         [ 2.0000e-01,  4.0000e-01],\n",
      "         [ 4.0000e-01,  4.0000e-01],\n",
      "         [ 6.0000e-01,  4.0000e-01],\n",
      "         [ 8.0000e-01,  4.0000e-01],\n",
      "         [ 1.0000e+00,  4.0000e-01],\n",
      "         [-1.0000e+00,  6.0000e-01],\n",
      "         [-8.0000e-01,  6.0000e-01],\n",
      "         [-6.0000e-01,  6.0000e-01],\n",
      "         [-4.0000e-01,  6.0000e-01],\n",
      "         [-2.0000e-01,  6.0000e-01],\n",
      "         [-1.4901e-08,  6.0000e-01],\n",
      "         [ 2.0000e-01,  6.0000e-01],\n",
      "         [ 4.0000e-01,  6.0000e-01],\n",
      "         [ 6.0000e-01,  6.0000e-01],\n",
      "         [ 8.0000e-01,  6.0000e-01],\n",
      "         [ 1.0000e+00,  6.0000e-01],\n",
      "         [-1.0000e+00,  8.0000e-01],\n",
      "         [-8.0000e-01,  8.0000e-01],\n",
      "         [-6.0000e-01,  8.0000e-01],\n",
      "         [-4.0000e-01,  8.0000e-01],\n",
      "         [-2.0000e-01,  8.0000e-01],\n",
      "         [-1.4901e-08,  8.0000e-01],\n",
      "         [ 2.0000e-01,  8.0000e-01],\n",
      "         [ 4.0000e-01,  8.0000e-01],\n",
      "         [ 6.0000e-01,  8.0000e-01],\n",
      "         [ 8.0000e-01,  8.0000e-01],\n",
      "         [ 1.0000e+00,  8.0000e-01],\n",
      "         [-1.0000e+00,  1.0000e+00],\n",
      "         [-8.0000e-01,  1.0000e+00],\n",
      "         [-6.0000e-01,  1.0000e+00],\n",
      "         [-4.0000e-01,  1.0000e+00],\n",
      "         [-2.0000e-01,  1.0000e+00],\n",
      "         [-1.4901e-08,  1.0000e+00],\n",
      "         [ 2.0000e-01,  1.0000e+00],\n",
      "         [ 4.0000e-01,  1.0000e+00],\n",
      "         [ 6.0000e-01,  1.0000e+00],\n",
      "         [ 8.0000e-01,  1.0000e+00],\n",
      "         [ 1.0000e+00,  1.0000e+00]]])\n"
     ]
    }
   ],
   "source": [
    "featSize = 11\n",
    "gridY = torch.linspace(-1, 1, steps = featSize).view(1, -1, 1, 1).expand(1, featSize, featSize, 1)\n",
    "gridX = torch.linspace(-1, 1, steps = featSize).view(1, 1, -1, 1).expand(1, featSize,  featSize, 1)\n",
    "grid = torch.cat((gridX, gridY), dim=3)\n",
    "grid = grid.view(1,-1,2)\n",
    "print(grid.shape)\n",
    "print(grid)"
   ],
   "metadata": {
    "collapsed": false,
    "pycharm": {
     "name": "#%%\n"
    }
   }
  },
  {
   "cell_type": "code",
   "execution_count": 16,
   "outputs": [
    {
     "name": "stdout",
     "output_type": "stream",
     "text": [
      "tensor([[[[0.6206, 0.1479, 0.7961, 0.2118, 0.0869, 0.6389, 0.0293, 0.7476],\n",
      "          [0.3708, 0.4652, 0.8750, 0.7365, 0.8504, 0.1977, 0.3954, 0.8611],\n",
      "          [0.8842, 0.3237, 0.0056, 0.3348, 0.0518, 0.5535, 0.8364, 0.6321],\n",
      "          [0.3069, 0.6408, 0.4480, 0.9343, 0.2293, 0.3833, 0.6137, 0.6677]]]])\n",
      "torch.Size([1, 25, 8])\n",
      "tensor([[[0.0000, 0.0000, 0.0000, 0.0000, 0.0000, 0.6206, 0.7961, 0.0869],\n",
      "         [0.0000, 0.0000, 0.0000, 0.0000, 0.0000, 0.1479, 0.2118, 0.6389],\n",
      "         [0.0000, 0.0000, 0.0000, 0.0000, 0.6206, 0.7961, 0.0869, 0.0293],\n",
      "         [0.0000, 0.0000, 0.0000, 0.0000, 0.1479, 0.2118, 0.6389, 0.7476],\n",
      "         [0.0000, 0.0000, 0.0000, 0.0000, 0.7961, 0.0869, 0.0293, 0.0000],\n",
      "         [0.0000, 0.0000, 0.0000, 0.0000, 0.0000, 0.3708, 0.8750, 0.8504],\n",
      "         [0.0000, 0.0000, 0.0000, 0.0000, 0.0000, 0.4652, 0.7365, 0.1977],\n",
      "         [0.0000, 0.0000, 0.0000, 0.0000, 0.3708, 0.8750, 0.8504, 0.3954],\n",
      "         [0.0000, 0.0000, 0.0000, 0.0000, 0.4652, 0.7365, 0.1977, 0.8611],\n",
      "         [0.0000, 0.0000, 0.0000, 0.0000, 0.8750, 0.8504, 0.3954, 0.0000],\n",
      "         [0.0000, 0.6206, 0.7961, 0.0869, 0.0000, 0.8842, 0.0056, 0.0518],\n",
      "         [0.0000, 0.1479, 0.2118, 0.6389, 0.0000, 0.3237, 0.3348, 0.5535],\n",
      "         [0.6206, 0.7961, 0.0869, 0.0293, 0.8842, 0.0056, 0.0518, 0.8364],\n",
      "         [0.1479, 0.2118, 0.6389, 0.7476, 0.3237, 0.3348, 0.5535, 0.6321],\n",
      "         [0.7961, 0.0869, 0.0293, 0.0000, 0.0056, 0.0518, 0.8364, 0.0000],\n",
      "         [0.0000, 0.3708, 0.8750, 0.8504, 0.0000, 0.3069, 0.4480, 0.2293],\n",
      "         [0.0000, 0.4652, 0.7365, 0.1977, 0.0000, 0.6408, 0.9343, 0.3833],\n",
      "         [0.3708, 0.8750, 0.8504, 0.3954, 0.3069, 0.4480, 0.2293, 0.6137],\n",
      "         [0.4652, 0.7365, 0.1977, 0.8611, 0.6408, 0.9343, 0.3833, 0.6677],\n",
      "         [0.8750, 0.8504, 0.3954, 0.0000, 0.4480, 0.2293, 0.6137, 0.0000],\n",
      "         [0.0000, 0.8842, 0.0056, 0.0518, 0.0000, 0.0000, 0.0000, 0.0000],\n",
      "         [0.0000, 0.3237, 0.3348, 0.5535, 0.0000, 0.0000, 0.0000, 0.0000],\n",
      "         [0.8842, 0.0056, 0.0518, 0.8364, 0.0000, 0.0000, 0.0000, 0.0000],\n",
      "         [0.3237, 0.3348, 0.5535, 0.6321, 0.0000, 0.0000, 0.0000, 0.0000],\n",
      "         [0.0056, 0.0518, 0.8364, 0.0000, 0.0000, 0.0000, 0.0000, 0.0000]]])\n"
     ]
    }
   ],
   "source": [
    "import torch\n",
    "import torch.nn.functional as F\n",
    "import numpy as np\n",
    "from einops.einops import rearrange, repeat\n",
    "data = torch.rand(1,1,4,8)\n",
    "W = 5\n",
    "stride = 2\n",
    "print(data)\n",
    "image0_unfold = F.unfold(data, kernel_size=(W, W), stride=stride, padding=W // 2)  # input: tensor数据，四维， Batchsize, channel, height, width\n",
    "print(image0_unfold.shape)\n",
    "print(image0_unfold)\n",
    "# image0_unfold = rearrange(image0_unfold, 'n (c ww) l -> n l ww c', ww=W ** 2)\n",
    "#\n",
    "# image0_unfold = image0_unfold[[0,0],[0,1]].squeeze(-1) # L,ww\n",
    "#\n",
    "# mask_unfold = image0_unfold > 0\n",
    "#\n",
    "# b_ids, i_ids = torch.where(mask_unfold)\n",
    "#\n",
    "# x = i_ids % 3\n",
    "# y = torch.div(i_ids, 3, rounding_mode='trunc')\n",
    "#\n",
    "# print(image0_unfold)\n",
    "# index_nonzero =torch.argmax(image0_unfold, dim=1)\n",
    "# print('index_non',index_nonzero)\n",
    "# coords_x = (index_nonzero%3).reshape(-1,1)\n",
    "# coords_y =  torch.div(index_nonzero, 3, rounding_mode='trunc').reshape(-1,1)\n",
    "# coords = torch.cat((coords_x,coords_y),dim=-1)\n",
    "# print(coords)"
   ],
   "metadata": {
    "collapsed": false,
    "pycharm": {
     "name": "#%%\n"
    }
   }
  },
  {
   "cell_type": "code",
   "execution_count": 12,
   "outputs": [
    {
     "name": "stdout",
     "output_type": "stream",
     "text": [
      "2\n"
     ]
    },
    {
     "ename": "TypeError",
     "evalue": "unsupported operand type(s) for <<: 'str' and 'int'",
     "output_type": "error",
     "traceback": [
      "\u001B[0;31m---------------------------------------------------------------------------\u001B[0m",
      "\u001B[0;31mTypeError\u001B[0m                                 Traceback (most recent call last)",
      "\u001B[0;32m/tmp/ipykernel_30139/1380143093.py\u001B[0m in \u001B[0;36m<module>\u001B[0;34m\u001B[0m\n\u001B[1;32m      2\u001B[0m \u001B[0mprint\u001B[0m\u001B[0;34m(\u001B[0m\u001B[0ma\u001B[0m\u001B[0;34m<<\u001B[0m\u001B[0;36m1\u001B[0m\u001B[0;34m)\u001B[0m\u001B[0;34m\u001B[0m\u001B[0;34m\u001B[0m\u001B[0m\n\u001B[1;32m      3\u001B[0m \u001B[0ma\u001B[0m\u001B[0;34m=\u001B[0m\u001B[0;34m'1'\u001B[0m\u001B[0;34m\u001B[0m\u001B[0;34m\u001B[0m\u001B[0m\n\u001B[0;32m----> 4\u001B[0;31m \u001B[0ma\u001B[0m\u001B[0;34m<<\u001B[0m\u001B[0;36m1\u001B[0m\u001B[0;34m\u001B[0m\u001B[0;34m\u001B[0m\u001B[0m\n\u001B[0m",
      "\u001B[0;31mTypeError\u001B[0m: unsupported operand type(s) for <<: 'str' and 'int'"
     ]
    }
   ],
   "source": [],
   "metadata": {
    "collapsed": false,
    "pycharm": {
     "name": "#%%\n"
    }
   }
  },
  {
   "cell_type": "code",
   "execution_count": 100,
   "outputs": [
    {
     "name": "stdout",
     "output_type": "stream",
     "text": [
      "cosine similarity: [[0.8660254 0.8660254 0.8660254]\n",
      " [1.        1.        1.       ]\n",
      " [1.        1.        1.       ]]\n"
     ]
    },
    {
     "name": "stderr",
     "output_type": "stream",
     "text": [
      "/home/gzr/anaconda3/envs/loftr/lib/python3.8/site-packages/sklearn/metrics/pairwise.py:56: DeprecationWarning: `np.float` is a deprecated alias for the builtin `float`. To silence this warning, use `float` by itself. Doing this will not modify any behavior and is safe. If you specifically wanted the numpy scalar type, use `np.float64` here.\n",
      "Deprecated in NumPy 1.20; for more details and guidance: https://numpy.org/devdocs/release/1.20.0-notes.html#deprecations\n",
      "  dtype = np.float\n"
     ]
    }
   ],
   "source": [
    "import numpy as np\n",
    "from sklearn.metrics.pairwise import cosine_similarity, paired_distances\n",
    "\n",
    "x = np.array([[1, 0, 1, 1, 1, 0],[0, 0, 1, 1, 1, 0],[0, 0, 1, 1, 1, 0]])\n",
    "y = np.array([[0, 0, 1, 1, 1, 0],[0, 0, 1, 1, 1, 0],[0, 0, 1, 1, 1, 0]])\n",
    "# 余弦相似度\n",
    "simi = cosine_similarity(x, y)\n",
    "print('cosine similarity:', simi)\n",
    "# # 余弦距离 = 1 - 余弦相似度\n",
    "# dist = paired_distances(x, y, metric='cosine')\n",
    "# print('cosine distance:', dist)"
   ],
   "metadata": {
    "collapsed": false,
    "pycharm": {
     "name": "#%%\n"
    }
   }
  },
  {
   "cell_type": "code",
   "execution_count": 2,
   "outputs": [
    {
     "name": "stdout",
     "output_type": "stream",
     "text": [
      "tensor([0., 0., 1., 1., 0., 0., 0., 1., 0., 0., 0., 0.])\n",
      "tensor([1., 1., 1., 1., 1., 0., 0., 0., 0., 1., 0., 0.])\n",
      "tensor(0.4167)\n"
     ]
    }
   ],
   "source": [
    "import torch\n",
    "import torch.nn.functional as F\n",
    "#假设feature1为N*C*W*H， feature2也为N*C*W*H（基本网络中的tensor都是这样）\n",
    "feature1 = torch.tensor([0, 0, 1, 1, 0, 0,0., 1, 0, 0, 0, 0])#将特征转换为N*(C*W*H)，即两维\n",
    "feature2 = torch.tensor([1, 1, 1, 1, 1, 0,0., 0, 0, 1, 0, 0])\n",
    "#\n",
    "# feature1 = F.normalize(feature1,p=2,dim=0)  #F.normalize只能处理两维的数据，L2归一化\n",
    "# feature2 = F.normalize(feature2,p=2,dim=0)\n",
    "print(feature1)\n",
    "print(feature2)\n",
    "\n",
    "dis = ((feature1-feature2)**2).sum(-1)/(feature2.shape[0])\n",
    "\n",
    "print(dis)\n",
    "\n",
    "a = torch.rand(2,3)\n"
   ],
   "metadata": {
    "collapsed": false,
    "pycharm": {
     "name": "#%%\n"
    }
   }
  },
  {
   "cell_type": "code",
   "execution_count": 12,
   "outputs": [
    {
     "name": "stdout",
     "output_type": "stream",
     "text": [
      "tensor([[[78.2036, 45.6120, 94.0905, 90.8038, 89.9274],\n",
      "         [69.5287, 99.9690, 18.7903, 30.0074, 33.4260],\n",
      "         [79.4677, 51.1680, 93.0087, 48.0694, 38.4967],\n",
      "         [55.3696, 68.4633, 89.2155, 19.1479, 31.4294],\n",
      "         [64.1098, 35.9677, 20.3331, 77.1543, 99.2718]]])\n"
     ]
    },
    {
     "data": {
      "text/plain": "<Figure size 432x288 with 1 Axes>",
      "image/png": "[encoded data removed]"
     },
     "metadata": {
      "needs_background": "light"
     },
     "output_type": "display_data"
    },
    {
     "name": "stdout",
     "output_type": "stream",
     "text": [
      "theta tensor([[ 1., -0., -1.],\n",
      "        [ 0.,  1., -1.]])\n",
      "tensor([[[[ 0.0000,  0.0000,  0.0000,  0.0000,  0.0000],\n",
      "          [ 0.0000,  0.0000,  0.0000,  0.0000,  0.0000],\n",
      "          [ 0.0000,  0.0000, 78.2036, 45.6120, 94.0905],\n",
      "          [ 0.0000,  0.0000, 69.5287, 99.9690, 18.7903],\n",
      "          [ 0.0000,  0.0000, 79.4677, 51.1680, 93.0087]]]])\n"
     ]
    },
    {
     "data": {
      "text/plain": "<Figure size 432x288 with 1 Axes>",
      "image/png": "[encoded data removed]"
     },
     "metadata": {
      "needs_background": "light"
     },
     "output_type": "display_data"
    }
   ],
   "source": [
    "import torch\n",
    "from torch.nn import functional as F\n",
    "import matplotlib.pyplot as plt\n",
    "import numpy as np\n",
    "import math\n",
    "W = 5\n",
    "H  = 5\n",
    "img_torch = torch.rand(1,H,W) *100 # theta 的第三列为平移比例，向右为负，向下为负；\n",
    "print(img_torch)\n",
    "plt.imshow(img_torch.numpy().transpose(1,2,0))\n",
    "plt.show()\n",
    "angle = 0#* math.pi / 180\n",
    "theta = torch.tensor([[np.cos(angle), -np.sin(angle),-1],\n",
    "                  [np.sin(angle), np.cos(angle),-1]], dtype=torch.float)\n",
    "\n",
    "print('theta',theta)\n",
    "\n",
    "grid = F.affine_grid(theta.unsqueeze(0), img_torch.unsqueeze(0).size(),align_corners=True)\n",
    "\n",
    "output = F.grid_sample(img_torch.unsqueeze(0), grid,align_corners=True)\n",
    "print(output)\n",
    "new_img_torch = output[0]\n",
    "plt.imshow(new_img_torch.numpy().transpose(1,2,0))\n",
    "plt.show()\n",
    "# bs = 1\n",
    "# theta = torch.cat((theta, torch.tensor([[0,0,1]])), dim=0).unsqueeze(0)  # [x,y]\n",
    "# print(theta)\n",
    "# T = torch.tensor([[[2 / W, 0, -1],\n",
    "#                            [0, 2 / H, -1],\n",
    "#                            [0, 0, 1]]])\n",
    "# T_inv = torch.linalg.inv(T)\n",
    "# T = T.repeat(bs, 1, 1)\n",
    "# T_inv = T_inv.repeat(bs, 1, 1)\n",
    "# M = torch.einsum('bij,bjk-> bik', T_inv, theta.inverse())\n",
    "# M = torch.einsum('bij,bjk->bik', M, T)\n",
    "# # M = M.inverse()\n",
    "# # [0,0,1]\n",
    "# P = torch.tensor([[[0], [0], [1.0]]])\n",
    "#\n",
    "# # print(P.shape)\n",
    "# P1 = torch.einsum('bij,bjk->bik', M, P)\n",
    "# print('P1:',P1)\n",
    "\n",
    "# print(M)"
   ],
   "metadata": {
    "collapsed": false,
    "pycharm": {
     "name": "#%%\n"
    }
   }
  },
  {
   "cell_type": "markdown",
   "source": [],
   "metadata": {
    "collapsed": false
   }
  },
  {
   "cell_type": "code",
   "execution_count": 103,
   "outputs": [
    {
     "name": "stdout",
     "output_type": "stream",
     "text": [
      "tensor([[0.0197, 0.8453],\n",
      "        [0.0599, 0.9183],\n",
      "        [0.7063, 0.0162],\n",
      "        [0.1816, 0.3993],\n",
      "        [0.3095, 0.7907],\n",
      "        [0.9358, 0.1015],\n",
      "        [0.3192, 0.1652],\n",
      "        [0.8860, 0.8906],\n",
      "        [0.9184, 0.4837],\n",
      "        [0.2416, 0.8395]])\n",
      "tensor([[0.0197, 0.8453],\n",
      "        [0.0599, 0.9183],\n",
      "        [0.7063, 0.0162],\n",
      "        [0.1816, 0.3993],\n",
      "        [0.3095, 0.7907],\n",
      "        [0.9358, 0.1015],\n",
      "        [0.3192, 0.1652],\n",
      "        [0.8860, 0.8906],\n",
      "        [0.9184, 0.4837],\n",
      "        [0.2416, 0.8395]])\n"
     ]
    }
   ],
   "source": [
    "import numpy as np\n",
    "a = torch.rand(10,2)\n",
    "print(a)\n",
    "mask_x = a[:,0]<-0.5\n",
    "mask_y = a[:,1]<0.5\n",
    "\n",
    "mask = mask_x*mask_y\n",
    "if mask.sum(0)==0:\n",
    "    pass\n",
    "else:\n",
    "    a = a[mask]\n",
    "print(a)"
   ],
   "metadata": {
    "collapsed": false,
    "pycharm": {
     "name": "#%%\n"
    }
   }
  },
  {
   "cell_type": "code",
   "execution_count": 59,
   "outputs": [
    {
     "name": "stdout",
     "output_type": "stream",
     "text": [
      "tensor([[[  0.0000, -49.6512,   0.0000],\n",
      "         [-49.6512,   0.0000,  29.8519],\n",
      "         [  0.0000,  29.8519,   0.0000]]])\n",
      "torch.Size([1, 3, 3])\n",
      "tensor([[[1.0000, 0.7535, 1.0000],\n",
      "         [0.7535, 1.0000, 0.9109],\n",
      "         [1.0000, 0.9109, 1.0000]]])\n"
     ]
    }
   ],
   "source": [
    "import torch\n",
    "data = [[[10.,5],[8, 10],[10, 50]]] #\n",
    "data2 = [[[18.,105],[16, 160],[18, 150]]] #\n",
    "src_keypts = torch.tensor(data)\n",
    "tgt_keypts = torch.tensor(data2)\n",
    "sigma_spat = 100\n",
    "src_dist = torch.norm((src_keypts[:, :, None, :] - src_keypts[:, None, :, :]), dim=-1)\n",
    "corr_compatibility = src_dist - torch.norm((tgt_keypts[:, :, None, :] - tgt_keypts[:, None, :, :]),dim=-1)\n",
    "\n",
    "print(corr_compatibility)\n",
    "corr_compatibility = torch.clamp(1.0 - corr_compatibility ** 2 /sigma_spat ** 2, min=0)\n",
    "\n",
    "\n",
    "print(src_dist.shape)\n",
    "\n",
    "print(corr_compatibility)"
   ],
   "metadata": {
    "collapsed": false,
    "pycharm": {
     "name": "#%%\n"
    }
   }
  },
  {
   "cell_type": "code",
   "execution_count": 120,
   "outputs": [
    {
     "name": "stdout",
     "output_type": "stream",
     "text": [
      "gt R:\n",
      " [[ 0.8660254 -0.5      ]\n",
      " [ 0.5        0.8660254]]\n",
      "gt T:\n",
      " [[10]\n",
      " [20]]\n",
      "Estimated R:\n",
      " tensor([[[ 0.8660, -0.5000],\n",
      "         [ 0.5000,  0.8660]]])\n",
      "Estimated T:\n",
      " tensor([[[10.0000],\n",
      "         [20.0000]]])\n",
      "tensor([[[ 0.8660, -0.5000, 10.0000],\n",
      "         [ 0.5000,  0.8660, 20.0000],\n",
      "         [ 0.0000,  0.0000,  1.0000]]])\n"
     ]
    }
   ],
   "source": [
    "import numpy as np\n",
    "def integrate_trans(R, t):\n",
    "    \"\"\"\n",
    "    Integrate SE2 transformations from R and t, support torch.Tensor and np.ndarry.\n",
    "    Input\n",
    "        - R: [2, 2] or [bs, 2, 3], rotation matrix\n",
    "        - t: [2, 1] or [bs, 2, 1], translation matrix\n",
    "    Output\n",
    "        - trans: [3, 3] or [bs, 3, 3], SE2 transformation matrix\n",
    "    \"\"\"\n",
    "    if len(R.shape) == 3: # batch\n",
    "        if isinstance(R, torch.Tensor):\n",
    "            trans = torch.eye(3)[None].repeat(R.shape[0], 1, 1).to(R.device)\n",
    "        else:\n",
    "            trans = np.eye(3)[None]\n",
    "        trans[:, :2, :2] = R\n",
    "        trans[:, :2, 2:3] = t.view([-1, 2, 1])\n",
    "    else:\n",
    "        if isinstance(R, torch.Tensor):\n",
    "            trans = torch.eye(3).to(R.device)\n",
    "        else:\n",
    "            trans = np.eye(3)\n",
    "        trans[:2, :2] = R\n",
    "        trans[:2, 2:3] = t\n",
    "    return trans\n",
    "\n",
    "def rigid_transform_2d( A, B, weights=None, weight_threshold=0):\n",
    "    \"\"\"\n",
    "    Input:\n",
    "        - A:       [bs, num_corr, 2], source point cloud\n",
    "        - B:       [bs, num_corr, 2], target point cloud\n",
    "        - weights: [bs, num_corr]     weight for each correspondence\n",
    "        - weight_threshold: float,    clips points with weight below threshold\n",
    "    Output:\n",
    "        - R, t\n",
    "    \"\"\"\n",
    "    bs = A.shape[0]\n",
    "    if weights is None:\n",
    "        weights = torch.ones_like(A[:, :, 0])\n",
    "    weights[weights < weight_threshold] = 0\n",
    "\n",
    "     # find mean of point cloud\n",
    "    centroid_A = torch.sum(A * weights[:, :, None], dim=1, keepdim=True) / (torch.sum(weights, dim=1, keepdim=True)[:, :, None] + 1e-6)\n",
    "    centroid_B = torch.sum(B * weights[:, :, None], dim=1, keepdim=True) / (torch.sum(weights, dim=1, keepdim=True)[:, :, None] + 1e-6)\n",
    "    # subtract mean\n",
    "    Am = A - centroid_A\n",
    "    Bm = B - centroid_B\n",
    "\n",
    "    # construct weight covariance matrix\n",
    "    Weight = torch.diag_embed(weights)\n",
    "    H = Am.permute(0, 2, 1) @ Weight @ Bm\n",
    "    U, S, Vt = torch.svd(H.cpu())\n",
    "    U, S, Vt = U.to(weights.device), S.to(weights.device), Vt.to(weights.device)\n",
    "\n",
    "\n",
    "    delta_UV = torch.det(Vt @ U.permute(0, 2, 1))\n",
    "    eye = torch.eye(2)[None, :, :].repeat(bs, 1, 1).to(A.device)\n",
    "    eye[:, -1, -1] = delta_UV\n",
    "    R = Vt @ eye @ U.permute(0, 2, 1)\n",
    "    t = centroid_B.permute(0,2,1) - R @ centroid_A.permute(0,2,1)\n",
    "    print('Estimated R:\\n',R)\n",
    "    print('Estimated T:\\n',t)\n",
    "    trans = integrate_trans(R,t)\n",
    "    print(trans)\n",
    "\n",
    "\n",
    "bs_src_point = np.array([[[1.,0],[2, 1],[3, 2],[1,1]]]) #\n",
    "bs_src_point = bs_src_point[0].T\n",
    "bs_src_point = bs_src_point[None]\n",
    "theta = 30\n",
    "theta = (theta/180.0)*np.pi\n",
    "real_rot = np.array([ [np.cos(theta),-np.sin(theta)],\n",
    "                      [np.sin(theta),np.cos(theta)]\n",
    "])\n",
    "real_t = np.array([10,20]).reshape(2,1)\n",
    "bs_tgt_point = real_rot[None,:,:]@data + real_t[None]\n",
    "\n",
    "\n",
    "src_keypts = torch.tensor(bs_src_point).permute(0,2,1).to(torch.float32)\n",
    "tgt_keypts = torch.tensor(bs_tgt_point).permute(0,2,1).to(torch.float32)\n",
    "\n",
    "print('gt R:\\n',real_rot)\n",
    "print('gt T:\\n',real_t)\n",
    "rigid_transform_2d(src_keypts,tgt_keypts)"
   ],
   "metadata": {
    "collapsed": false,
    "pycharm": {
     "name": "#%%\n"
    }
   }
  },
  {
   "cell_type": "code",
   "execution_count": 40,
   "outputs": [
    {
     "name": "stdout",
     "output_type": "stream",
     "text": [
      "tensor([[[0., 0., 0., 0.],\n",
      "         [0., 0., 0., 0.]],\n",
      "\n",
      "        [[0., 0., 0., 0.],\n",
      "         [1., 1., 1., 1.]]])\n",
      "tensor([[1., 1., 1., 1.],\n",
      "        [1., 1., 1., 1.]]) tensor([[0.4963, 0.7682, 0.0885, 0.1320],\n",
      "        [0.3074, 0.6341, 0.4901, 0.8964]])\n",
      "start!\n",
      "tensor([0.0000, 2.3280])\n"
     ]
    }
   ],
   "source": [
    "import torch\n",
    "import random\n",
    "torch.manual_seed(0)\n",
    "N = 2\n",
    "C = 4\n",
    "a_tensor = torch.ones(N,C)\n",
    "\n",
    "b_tensor = torch.rand(N,C)\n",
    "\n",
    "mask = torch.zeros((N,N,C))\n",
    "mask[0,0] = 0\n",
    "mask[0,1] = 0\n",
    "mask[1,1] = 1\n",
    "print(mask)\n",
    "\n",
    "\n",
    "print(a_tensor,b_tensor)\n",
    "print('start!')\n",
    "out = torch.einsum('lc, lc, llc-> l', a_tensor, b_tensor,mask)\n",
    "print(out)\n",
    "\n"
   ],
   "metadata": {
    "collapsed": false,
    "pycharm": {
     "name": "#%%\n"
    }
   }
  },
  {
   "cell_type": "code",
   "execution_count": 22,
   "outputs": [
    {
     "name": "stdout",
     "output_type": "stream",
     "text": [
      "3.8129999999999997\n"
     ]
    }
   ],
   "source": [
    "a  = 0.4963 + 0.7682 + 0.0885 + 0.1320\n",
    "b  = 0.3074 + 0.6341 + 0.4901 + 0.8964\n",
    "print(a+b)"
   ],
   "metadata": {
    "collapsed": false,
    "pycharm": {
     "name": "#%%\n"
    }
   }
  },
  {
   "cell_type": "code",
   "execution_count": 61,
   "outputs": [
    {
     "name": "stdout",
     "output_type": "stream",
     "text": [
      "a: tensor(-0.6536)\n",
      "tensor(-0.6536)\n"
     ]
    }
   ],
   "source": [
    "import torch\n",
    "m=torch.tensor(7)\n",
    "n=torch.tensor(5)\n",
    "cos_m = torch.cos(m)\n",
    "sin_m = torch.sin(m)\n",
    "cos_n = torch.cos(n)\n",
    "sin_n = torch.sin(n)\n",
    "a = (cos_m**2-sin_m**2)*(cos_n**2-sin_n**2)+4*sin_m*cos_m*sin_n*cos_n\n",
    "print('a:',a)\n",
    "b = torch.cos(m-n)**2 -torch.sin(m-n)**2\n",
    "print(b)"
   ],
   "metadata": {
    "collapsed": false,
    "pycharm": {
     "name": "#%%\n"
    }
   }
  },
  {
   "cell_type": "code",
   "execution_count": 69,
   "outputs": [
    {
     "name": "stdout",
     "output_type": "stream",
     "text": [
      "0\n"
     ]
    }
   ],
   "source": [
    "import torch\n",
    "\n",
    "\n",
    "my_list = torch.tensor([0,0,0,0,0,1,1,1,1,2,2,2,2,0,0])\n",
    "c = len(torch.where(my_list  == 3)[0])\n",
    "print(c)"
   ],
   "metadata": {
    "collapsed": false,
    "pycharm": {
     "name": "#%%\n"
    }
   }
  },
  {
   "cell_type": "code",
   "execution_count": 22,
   "outputs": [
    {
     "name": "stdout",
     "output_type": "stream",
     "text": [
      "torch.Size([3, 1])\n",
      "tensor([-0.4269]) tensor([0.1525])\n"
     ]
    }
   ],
   "source": [
    "import torch\n",
    "H = torch.tensor([[ 0.9768,  0.1079, -0.2546],\n",
    "        [-0.1801,  0.9710, -0.3758],\n",
    "        [ 0.0040, -0.0284,  1.0000]])\n",
    "point_a = torch.tensor([[-0.2250,  0.5000,1]]).reshape(-1,1)\n",
    "print(point_a.shape)\n",
    "des = torch.einsum('ij,jk->ik',H,point_a)\n",
    "x = des[0]/des[2]\n",
    "y = des[1]/des[2]\n",
    "print(x,y)"
   ],
   "metadata": {
    "collapsed": false,
    "pycharm": {
     "name": "#%%\n"
    }
   }
  },
  {
   "cell_type": "code",
   "execution_count": 89,
   "outputs": [
    {
     "name": "stdout",
     "output_type": "stream",
     "text": [
      "tensor(0.1063)\n"
     ]
    }
   ],
   "source": [
    "import torch\n",
    "torch.manual_seed(0)\n",
    "def chamfer_loss(points_src, points_tgt):\n",
    "    ''' Computes minimal distances of each point in points_src to points_tgt.\n",
    "\n",
    "    Args:\n",
    "        points_src (torch tensor): source points\n",
    "        normals_src (torch tensor): source normals\n",
    "        points_tgt (torch tensor): target points\n",
    "        normals_tgt (torch tensor): target normals\n",
    "    '''\n",
    "    dist_matrix = ((points_src.unsqueeze(2) - points_tgt.unsqueeze(1))**2).sum(-1)\n",
    "    dist_complete = (dist_matrix.min(-1)[0]).mean(-1)\n",
    "    dist_acc = (dist_matrix.min(-2)[0]).mean(-1)\n",
    "    dist = ((dist_acc + dist_complete)/2).mean()\n",
    "    return dist\n",
    "points_src = torch.rand(1,300, 2)\n",
    "points_tgt = torch.rand(1,300, 2)\n",
    "dist = chamfer_loss(points_src, points_tgt)\n",
    "# dist = chamfer_loss_chunk_efficient(points_src, points_tgt)\n",
    "print(dist)"
   ],
   "metadata": {
    "collapsed": false,
    "pycharm": {
     "name": "#%%\n"
    }
   }
  },
  {
   "cell_type": "code",
   "execution_count": 47,
   "outputs": [
    {
     "name": "stdout",
     "output_type": "stream",
     "text": [
      "tensor([[ True, False],\n",
      "        [False,  True],\n",
      "        [ True,  True],\n",
      "        [ True,  True]])\n",
      "tensor([[0, 0],\n",
      "        [0, 1],\n",
      "        [1, 0],\n",
      "        [1, 1],\n",
      "        [2, 0],\n",
      "        [2, 1],\n",
      "        [3, 0],\n",
      "        [3, 1]])\n",
      "tensor([[[0.6100, 0.0000],\n",
      "         [0.6100, 0.0000]],\n",
      "\n",
      "        [[0.6100, 0.0000],\n",
      "         [0.4000, 4.0000]],\n",
      "\n",
      "        [[0.4000, 4.0000],\n",
      "         [0.6100, 0.0000]],\n",
      "\n",
      "        [[0.4000, 4.0000],\n",
      "         [0.4000, 4.0000]],\n",
      "\n",
      "        [[0.8000, 1.0000],\n",
      "         [0.6100, 0.0000]],\n",
      "\n",
      "        [[0.8000, 1.0000],\n",
      "         [0.4000, 4.0000]],\n",
      "\n",
      "        [[0.7000, 2.0000],\n",
      "         [0.6100, 0.0000]],\n",
      "\n",
      "        [[0.7000, 2.0000],\n",
      "         [0.4000, 4.0000]]])\n"
     ]
    }
   ],
   "source": [
    "import torch\n",
    "box=[]\n",
    "cls=torch.Tensor([[0.61,0],[0.4,4],[0.8,1],[0.7,2]])\n",
    "\n",
    "print(cls>0.6)\n",
    "idxs=torch.nonzero(torch.gt(cls,-1))\n",
    "v = cls[idxs]\n",
    "print(idxs)\n",
    "print(v)"
   ],
   "metadata": {
    "collapsed": false,
    "pycharm": {
     "name": "#%%\n"
    }
   }
  },
  {
   "cell_type": "code",
   "execution_count": 78,
   "outputs": [
    {
     "name": "stdout",
     "output_type": "stream",
     "text": [
      "tensor([[0.6016, 0.7989, 0.0477, 0.1287, 0.4125],\n",
      "        [0.5679, 0.4743, 0.5905, 0.5682, 0.2088],\n",
      "        [0.6339, 0.6633, 0.2469, 0.3012, 0.2092],\n",
      "        [0.0349, 0.4483, 0.7936, 0.3642, 0.9357],\n",
      "        [0.6745, 0.0864, 0.9215, 0.3261, 0.0056]])\n",
      "tensor([[0, 0],\n",
      "        [0, 1],\n",
      "        [0, 2],\n",
      "        [0, 3],\n",
      "        [0, 4],\n",
      "        [1, 0],\n",
      "        [1, 1],\n",
      "        [1, 2],\n",
      "        [1, 3],\n",
      "        [1, 4],\n",
      "        [2, 0],\n",
      "        [2, 1],\n",
      "        [2, 2],\n",
      "        [2, 3],\n",
      "        [2, 4],\n",
      "        [3, 0],\n",
      "        [3, 1],\n",
      "        [3, 2],\n",
      "        [3, 3],\n",
      "        [3, 4],\n",
      "        [4, 0],\n",
      "        [4, 1],\n",
      "        [4, 2],\n",
      "        [4, 3],\n",
      "        [4, 4]])\n",
      "torch.Size([25, 1])\n"
     ]
    }
   ],
   "source": [
    "ma1t = torch.rand(5,5)\n",
    "print(ma1t)\n",
    "x,y = torch.meshgrid([torch.arange(5),torch.arange(5)])\n",
    "val = ma1t[x,y]\n",
    "point = torch.cat([x.unsqueeze(-1),y.unsqueeze(-1)],dim=2).reshape(-1,2)\n",
    "val = val.reshape(-1,1)\n",
    "print(point)\n",
    "print(val.shape)"
   ],
   "metadata": {
    "collapsed": false,
    "pycharm": {
     "name": "#%%\n"
    }
   }
  },
  {
   "cell_type": "code",
   "execution_count": 6,
   "outputs": [
    {
     "name": "stdout",
     "output_type": "stream",
     "text": [
      "torch.Size([14, 3])\n"
     ]
    }
   ],
   "source": [
    "import torch\n",
    "box=[]\n",
    "cls=torch.rand([4,3,3])\n",
    "idxs=torch.nonzero(torch.gt(cls,0.6))\n",
    "print(idxs.shape)"
   ],
   "metadata": {
    "collapsed": false,
    "pycharm": {
     "name": "#%%\n"
    }
   }
  },
  {
   "cell_type": "code",
   "execution_count": 63,
   "outputs": [
    {
     "data": {
      "text/plain": "tensor(0.4731)"
     },
     "execution_count": 63,
     "metadata": {},
     "output_type": "execute_result"
    }
   ],
   "source": [
    "torch.manual_seed(0)\n",
    "def NCC_Score(y_true, y_pred):\n",
    "\n",
    "    # print(y_true.shape)\n",
    "    # print(y_pred.shape)\n",
    "\n",
    "    smooth= 1e-07\n",
    "\n",
    "    m_y_true, m_y_pred = torch.mean(y_true), torch.mean(y_pred)\n",
    "\n",
    "    diff_y_true = (y_true - m_y_true)\n",
    "    diff_y_pred = (y_pred - m_y_pred)\n",
    "    nom = torch.sum(diff_y_true * diff_y_pred)\n",
    "    den0 = torch.sum(torch.square(diff_y_true)) * torch.sum(torch.square(diff_y_pred))\n",
    "    den = torch.sqrt(den0 + smooth)\n",
    "    NCC = (nom + smooth) / ( den + smooth)\n",
    "\n",
    "    return NCC\n",
    "y_true = torch.rand([1,1,3,3])\n",
    "y_pred = torch.rand([1,1,3,3])\n",
    "NCC_Score(y_true,y_pred)"
   ],
   "metadata": {
    "collapsed": false,
    "pycharm": {
     "name": "#%%\n"
    }
   }
  },
  {
   "cell_type": "code",
   "execution_count": 80,
   "outputs": [
    {
     "name": "stdout",
     "output_type": "stream",
     "text": [
      "torch.Size([2, 1, 30, 30])\n"
     ]
    },
    {
     "data": {
      "text/plain": "tensor(-0.1111)"
     },
     "execution_count": 80,
     "metadata": {},
     "output_type": "execute_result"
    }
   ],
   "source": [
    "torch.manual_seed(0)\n",
    "class NCC:\n",
    "    \"\"\"\n",
    "    Local (over window) normalized cross correlation loss.\n",
    "    \"\"\"\n",
    "    def __init__(self, win=None):\n",
    "        self.win = win\n",
    "\n",
    "    def loss(self, y_true, y_pred,_device):\n",
    "        I = y_true\n",
    "        J = y_pred\n",
    "\n",
    "        # get dimension of volume\n",
    "        # assumes I, J are sized [batch_size, *vol_shape, nb_feats]\n",
    "        ndims = len(list(I.size())) - 2\n",
    "        assert ndims in [1, 2, 3], \"volumes should be 1 to 3 dimensions. found: %d\" % ndims\n",
    "\n",
    "        # set window size\n",
    "        win = [9] * ndims if self.win is None else self.win\n",
    "\n",
    "        # compute filters\n",
    "        sum_filt = torch.ones([1, 1, *win]).to(_device)\n",
    "\n",
    "        pad_no = math.floor(win[0]/2)\n",
    "\n",
    "        if ndims == 1:\n",
    "            stride = (1)\n",
    "            padding = (pad_no)\n",
    "        elif ndims == 2:\n",
    "            stride = (1,1)\n",
    "            padding = (pad_no, pad_no)\n",
    "        else:\n",
    "            stride = (1,1,1)\n",
    "            padding = (pad_no, pad_no, pad_no)\n",
    "\n",
    "        # get convolution function\n",
    "        conv_fn = getattr(F, 'conv%dd' % ndims)\n",
    "\n",
    "        # compute CC squares\n",
    "        I2 = I * I\n",
    "        J2 = J * J\n",
    "        IJ = I * J\n",
    "        I_sum = conv_fn(I, sum_filt, stride=stride, padding=padding)\n",
    "        J_sum = conv_fn(J, sum_filt, stride=stride, padding=padding)\n",
    "        I2_sum = conv_fn(I2, sum_filt, stride=stride, padding=padding)\n",
    "        J2_sum = conv_fn(J2, sum_filt, stride=stride, padding=padding)\n",
    "        IJ_sum = conv_fn(IJ, sum_filt, stride=stride, padding=padding)\n",
    "\n",
    "        win_size = np.prod(win)\n",
    "        u_I = I_sum / win_size\n",
    "        u_J = J_sum / win_size\n",
    "\n",
    "        cross = IJ_sum - u_J * I_sum - u_I * J_sum + u_I * u_J * win_size\n",
    "        I_var = I2_sum - 2 * u_I * I_sum + u_I * u_I * win_size\n",
    "        J_var = J2_sum - 2 * u_J * J_sum + u_J * u_J * win_size\n",
    "\n",
    "        cc = cross * cross / torch.sqrt(I_var * J_var + 1e-5)\n",
    "        print(cc.shape)\n",
    "\n",
    "        return -torch.mean(cc)\n",
    "\n",
    "y_true = torch.rand([2,1,30,30])\n",
    "y_pred = torch.rand([2,1,30,30])\n",
    "ncc = NCC(win=[3,3])\n",
    "ncc.loss(y_true,y_pred,y_true.device)"
   ],
   "metadata": {
    "collapsed": false,
    "pycharm": {
     "name": "#%%\n"
    }
   }
  },
  {
   "cell_type": "code",
   "execution_count": 4,
   "outputs": [],
   "source": [
    "import torch\n",
    "data = torch.rand([2,1,5,5])\n",
    "b_ids,_,i_ids,j_ids = torch.where(data>0)"
   ],
   "metadata": {
    "collapsed": false,
    "pycharm": {
     "name": "#%%\n"
    }
   }
  },
  {
   "cell_type": "code",
   "execution_count": 21,
   "outputs": [
    {
     "name": "stdout",
     "output_type": "stream",
     "text": [
      "torch.Size([1, 4, 2])\n",
      "tensor([[[ 1.0000e+00,  5.5372e-08,  1.0000e+00],\n",
      "         [ 2.2991e-09,  1.0000e+00, -5.1619e-08],\n",
      "         [-4.1991e-09,  2.5021e-09,  1.0000e+00]]])\n"
     ]
    }
   ],
   "source": [],
   "metadata": {
    "collapsed": false,
    "pycharm": {
     "name": "#%%\n"
    }
   }
  },
  {
   "cell_type": "code",
   "execution_count": null,
   "outputs": [],
   "source": [
    "def index_points(points, idx):\n",
    "    \"\"\"\n",
    "    Input:\n",
    "        points: input points data, [B, N, C]\n",
    "        idx: sample index data, [B, S]\n",
    "    Return:\n",
    "        new_points:, indexed points data, [B, S, C]\n",
    "    \"\"\"\n",
    "    device = points.device\n",
    "    B = points.shape[0]\n",
    "    view_shape = list(idx.shape)\n",
    "    view_shape[1:] = [1] * (len(view_shape) - 1)\n",
    "    repeat_shape = list(idx.shape)\n",
    "    repeat_shape[0] = 1\n",
    "    batch_indices = torch.arange(B, dtype=torch.long).to(device).view(view_shape).repeat(repeat_shape)\n",
    "    new_points = points[batch_indices, idx, :]\n",
    "    return new_points\n",
    "\n",
    "\n",
    "\n",
    "def chamfer_loss_chunk_efficient(points_src, points_tgt):\n",
    "    ''' Computes minimal distances of each point in points_src to points_tgt.\n",
    "    with less memory, 1, partition the points to chunks;\n",
    "    2, with no grad\n",
    "    Args:\n",
    "        points_src (torch tensor): source points\n",
    "        normals_src (torch tensor): source normals\n",
    "        points_tgt (torch tensor): target points\n",
    "        normals_tgt (torch tensor): target normals\n",
    "    '''\n",
    "    with torch.no_grad():\n",
    "        B, N, _ = points_src.shape\n",
    "        chunk_size = 1000\n",
    "        G = points_tgt.shape[1]\n",
    "        chunk_num = math.ceil(G/chunk_size)\n",
    "        point_tgt_list = torch.chunk(points_tgt, chunk_num, 1)\n",
    "        dist_complete_list = []\n",
    "        dist_complete_index_list = []\n",
    "        dist_acc_list = []\n",
    "        for p_tgt in point_tgt_list:\n",
    "            dist_matrix = ((points_src.unsqueeze(2) - p_tgt.unsqueeze(1)) ** 2).sum(-1)  # B N T\n",
    "            rest = dist_matrix.min(-1)\n",
    "            dist_complete_list.append(rest[0])  # B N 1\n",
    "            dist_complete_index_list.append(rest[1])\n",
    "            dist_acc_list.append((dist_matrix.min(-2)[1]))  # B 1 C\n",
    "        target_closest_index = torch.stack(dist_acc_list).permute(1, 0, 2).reshape(B, -1)  # B T\n",
    "\n",
    "        # R B N\n",
    "        row_index = torch.stack(dist_complete_list).min(0)[1]\n",
    "        BNR = torch.stack(dist_complete_index_list).permute(1,2,0).reshape(B*N, -1)  # B N R\n",
    "\n",
    "        BN = BNR[torch.arange(B*N), row_index.reshape(-1)].reshape(B, N)\n",
    "\n",
    "        src_cloest_index = row_index*chunk_size + BN\n",
    "        src_cloest_point = index_points(points_tgt, src_cloest_index)\n",
    "        target_closest_point = index_points(points_src, target_closest_index)\n",
    "    dist_complete = ((points_src - src_cloest_point)**2).sum(-1).mean()\n",
    "    dist_acc = ((points_tgt - target_closest_point) ** 2).sum(-1).mean()\n",
    "\n",
    "    dist = ((dist_acc*1 + dist_complete*1)/2)\n",
    "    return dist"
   ],
   "metadata": {
    "collapsed": false,
    "pycharm": {
     "name": "#%%\n"
    }
   }
  },
  {
   "cell_type": "code",
   "execution_count": 25,
   "outputs": [
    {
     "data": {
      "text/plain": "torch.Size([2, 10, 2])"
     },
     "execution_count": 25,
     "metadata": {},
     "output_type": "execute_result"
    }
   ],
   "source": [
    "    import torch\n",
    "    def cal_newpos(position, transformation):\n",
    "        '''\n",
    "\n",
    "        :param position: bs*N*2\n",
    "        :param transformation: bs*3*3\n",
    "        :return:\n",
    "        '''\n",
    "        pts_x = trans[:,0,0,None] * position[:, :, 0] + trans[:,0,1,None] * position[:, :, 1] + trans[:,0,2,None]\n",
    "        pts_y = trans[:,1,0,None] * position[:, :, 0] + trans[:,1,1,None] * position[:, :, 1] + trans[:,1,2,None]\n",
    "        pts_z = trans[:,2,0,None] * position[:, :, 0] + trans[:,2,1,None] * position[:, :, 1] + trans[:,2,2,None]\n",
    "        new_position = torch.cat([(pts_x/pts_z)[:,:,None], (pts_y/pts_z)[:,:,None]], dim=-1)\n",
    "        return new_position\n",
    "\n",
    "    cal_newpos(position,trans).shape"
   ],
   "metadata": {
    "collapsed": false,
    "pycharm": {
     "name": "#%%\n"
    }
   }
  },
  {
   "cell_type": "code",
   "execution_count": 105,
   "outputs": [
    {
     "name": "stdout",
     "output_type": "stream",
     "text": [
      "[[ 1.  0. 29.]\n",
      " [ 0.  1. 63.]\n",
      " [ 0.  0.  1.]]\n",
      "(512, 512)\n",
      "(512, 512)\n",
      "(512, 512)\n"
     ]
    }
   ],
   "source": [],
   "metadata": {
    "collapsed": false,
    "pycharm": {
     "name": "#%%\n"
    }
   }
  },
  {
   "cell_type": "code",
   "execution_count": 225,
   "outputs": [
    {
     "name": "stdout",
     "output_type": "stream",
     "text": [
      "tensor([[0.0000, 0.6087, 0.0057, 0.2234],\n",
      "        [0.0000, 0.2333, 0.1677, 0.6775]])\n",
      "tensor([[0.0000, 0.0000, 0.0057, 0.2234],\n",
      "        [0.0000, 0.1181, 0.1677, 0.0000]])\n",
      "tensor([[0.0000, 0.0000, 0.0057, 0.0000],\n",
      "        [0.0000, 0.0237, 0.0000, 0.0000]])\n",
      "tensor([[0., 0., 0., 0.],\n",
      "        [0., 0., 0., 0.]])\n",
      "tensor([[0., 0., 0., 0.],\n",
      "        [0., 0., 0., 0.]])\n",
      "Sampled pts:  tensor([[0, 1, 3, 2, 0],\n",
      "        [0, 3, 2, 1, 0]])\n"
     ]
    }
   ],
   "source": [
    "def farthest_point_sample(xyz, npoint):\n",
    "    \"\"\"\n",
    "    Input:\n",
    "        xyz: pointcloud data, [B, N, 2]\n",
    "        npoint: number of samples\n",
    "    Return:\n",
    "        centroids: sampled pointcloud index, [B, npoint]\n",
    "    \"\"\"\n",
    "    device = xyz.device\n",
    "    B, N, C = xyz.shape\n",
    "    centroids = torch.zeros(B, npoint, dtype=torch.long).to(device)     # 采样点矩阵（B, npoint）\n",
    "    distance = torch.ones(B, N).to(device) * 1e10                       # 采样点到所有点距离（B, N）\n",
    "    batch_indices = torch.arange(B, dtype=torch.long).to(device)        # batch_size 数组\n",
    "    farthest = torch.randint(0, N, (B,), dtype=torch.long).to(device)  # 初始时随机选择一点\n",
    "\n",
    "    for i in range(npoint):\n",
    "        centroids[:, i] = farthest                                      # 更新第i个最远点\n",
    "        centroid = xyz[batch_indices, farthest, :].view(B, 1, 2)        # 取出这个最远点的xyz坐标\n",
    "        dist = torch.sum((xyz - centroid) ** 2, -1)                     # 计算点集中的所有点到这个最远点的欧式距离\n",
    "        mask = dist < distance\n",
    "        distance[mask] = dist[mask]                                     # 更新distance，记录样本中每个点距离所有已出现的采样点的最小距离\n",
    "        farthest = torch.max(distance, -1)[1]                           # 返回最远点索引\n",
    "\n",
    "    return centroids\n",
    "\n",
    "\n",
    "\n",
    "sim_data = torch.rand(2,4,2)\n",
    "# print(sim_data)\n",
    "\n",
    "centroids = farthest_point_sample(sim_data, 5)\n",
    "\n",
    "print(\"Sampled pts: \", centroids)"
   ],
   "metadata": {
    "collapsed": false,
    "pycharm": {
     "name": "#%%\n"
    }
   }
  },
  {
   "cell_type": "code",
   "execution_count": 1,
   "outputs": [
    {
     "name": "stdout",
     "output_type": "stream",
     "text": [
      "(227, 229)\n",
      "(227, 229)\n",
      "(227, 229)\n"
     ]
    },
    {
     "name": "stderr",
     "output_type": "stream",
     "text": [
      "/tmp/ipykernel_5280/3112701461.py:17: DeprecationWarning: `np.int` is a deprecated alias for the builtin `int`. To silence this warning, use `int` by itself. Doing this will not modify any behavior and is safe. When replacing `np.int`, you may wish to use e.g. `np.int64` or `np.int32` to specify the precision. If you wish to review your current use, check the release note link for additional information.\n",
      "Deprecated in NumPy 1.20; for more details and guidance: https://numpy.org/devdocs/release/1.20.0-notes.html#deprecations\n",
      "  point = point.astype(np.int)\n"
     ]
    }
   ],
   "source": [
    "import cv2\n",
    "import torch\n",
    "import numpy as np\n",
    "import kornia\n",
    "path_base = '/home/gzr/Data/zwb_data/hole_wb/0'#'/home/gzr/Data/generative_steel/process/data/final_train/rotate_0'\n",
    "image1_path = path_base+'/images/test/130_homo.png'\n",
    "template_path = path_base+'/images/test/130_template.png'\n",
    "image = cv2.imread(image1_path,0)\n",
    "\n",
    "template = cv2.imread(template_path,0)\n",
    "template_rgb = cv2.imread(template_path)\n",
    "image_homo_rgb = cv2.imread(image1_path)\n",
    "trans = np.load(path_base+'/trans/test/130_trans_homo.npy')\n",
    "points = np.load(path_base+'/points/test/130_template.npy')\n",
    "# print(points)\n",
    "for point in points:\n",
    "    point = point.astype(np.int)\n",
    "    # print(point)\n",
    "    cv2.circle(template_rgb, point, 1,  (0, 0, 255),2)\n",
    "cv2.imwrite('./2.png', template_rgb)\n",
    "\n",
    "after_warp = cv2.warpPerspective(template,trans,(image.shape[1], image.shape[0]))\n",
    "\n",
    "\n",
    "print(after_warp.shape)\n",
    "print(image.shape)\n",
    "ave_aligned = ((after_warp*0.5 + image*0.5)).round().astype(np.int32)\n",
    "#ave_aligned = ((after_warp[0]*0.5 + image*0.5).cpu().detach().numpy()).round().astype(np.int32)\n",
    "cv2.imwrite('./1.png', ave_aligned)\n",
    "print(ave_aligned.shape)"
   ],
   "metadata": {
    "collapsed": false,
    "pycharm": {
     "name": "#%%\n"
    }
   }
  },
  {
   "cell_type": "code",
   "execution_count": 195,
   "outputs": [
    {
     "name": "stdout",
     "output_type": "stream",
     "text": [
      "(512, 512)\n"
     ]
    }
   ],
   "source": [
    "path_image = '/home/gzr/Data/generative_steel/process/data/images/synthesized_image/00870.png'\n",
    "path_mask = '/home/gzr/Data/generative_steel/process/data/masks/00870.png'\n",
    "image = cv2.imread(path_image,0)\n",
    "mask = cv2.imread(path_mask,0)\n",
    "image = cv2.resize(image,(512,512))\n",
    "ave_aligned = ((image*0.7 + mask*0.3)).round().astype(np.int32)\n",
    "cv2.imwrite('./1.png', ave_aligned)\n",
    "print(ave_aligned.shape)"
   ],
   "metadata": {
    "collapsed": false,
    "pycharm": {
     "name": "#%%\n"
    }
   }
  },
  {
   "cell_type": "code",
   "execution_count": 168,
   "outputs": [
    {
     "name": "stdout",
     "output_type": "stream",
     "text": [
      "(512, 512)\n"
     ]
    }
   ],
   "source": [
    "path_image = '/home/gzr/Data/generative_steel/process/data/rotate_images/00770.png'\n",
    "path_mask = '/home/gzr/Data/generative_steel/process/rotate/00770.png'\n",
    "image = cv2.imread(path_image,0)\n",
    "mask = cv2.imread(path_mask,0)\n",
    "image = cv2.resize(image,(512,512))\n",
    "ave_aligned = ((image*0.6 + mask*0.4)).round().astype(np.int32)\n",
    "cv2.imwrite('./2.png', ave_aligned)\n",
    "print(ave_aligned.shape)"
   ],
   "metadata": {
    "collapsed": false,
    "pycharm": {
     "name": "#%%\n"
    }
   }
  },
  {
   "cell_type": "code",
   "execution_count": 198,
   "outputs": [
    {
     "name": "stdout",
     "output_type": "stream",
     "text": [
      "tensor([[[0.0000, 0.0000, 0.0000, 0.0000, 0.0000, 0.0000, 0.0000, 0.0000,\n",
      "          0.0000, 0.0000, 0.0000, 0.0000, 0.0000, 0.0000, 0.0000, 0.0000,\n",
      "          0.0000, 0.0000, 0.0000, 0.0000, 0.0000, 0.0000, 0.0000, 0.0000,\n",
      "          0.0000],\n",
      "         [0.0000, 0.0000, 0.0000, 0.0000, 0.0000, 0.0000, 0.0000, 0.0000,\n",
      "          0.0000, 0.0000, 0.0000, 0.0000, 0.0000, 0.0000, 0.0000, 0.0000,\n",
      "          0.0000, 0.0000, 0.0000, 0.0000, 0.0000, 0.0000, 0.0000, 0.0000,\n",
      "          0.0000],\n",
      "         [0.0000, 0.0000, 0.0000, 0.0000, 0.0000, 0.0000, 0.0000, 0.0000,\n",
      "          0.0000, 0.0000, 0.0000, 0.0000, 0.0000, 0.0000, 0.0000, 0.0000,\n",
      "          0.0000, 0.0000, 0.0000, 0.0000, 0.0000, 0.0000, 0.0000, 0.0000,\n",
      "          0.0000],\n",
      "         [0.0000, 0.0000, 0.0000, 0.0000, 0.0000, 0.0000, 0.0000, 0.0000,\n",
      "          0.0000, 0.0000, 0.0000, 0.0000, 0.0000, 0.0000, 0.0000, 0.0000,\n",
      "          0.0000, 0.0000, 0.0000, 0.0000, 0.0000, 0.0000, 0.0000, 0.0000,\n",
      "          0.0000],\n",
      "         [0.0000, 0.0000, 0.0000, 0.0000, 0.0000, 0.0000, 0.0000, 0.0000,\n",
      "          0.0000, 0.0000, 0.0000, 0.0000, 0.0000, 0.0000, 0.0000, 0.0000,\n",
      "          0.0000, 0.0000, 0.0000, 0.0000, 0.0000, 0.0000, 0.0000, 0.0000,\n",
      "          0.0000],\n",
      "         [0.0000, 0.0000, 0.0000, 0.0000, 0.0000, 0.0000, 0.0000, 0.0000,\n",
      "          0.0000, 0.0000, 0.0000, 0.0000, 0.0000, 0.0000, 0.0000, 0.0000,\n",
      "          0.0000, 0.0000, 0.0000, 0.0000, 0.0000, 0.0000, 0.0000, 0.0000,\n",
      "          0.0000],\n",
      "         [0.0000, 0.0000, 0.0000, 0.0000, 0.0000, 0.0000, 0.0000, 0.0000,\n",
      "          0.0000, 0.0000, 0.0000, 0.0000, 0.0000, 0.0000, 0.0000, 0.0000,\n",
      "          0.0000, 0.0000, 0.0000, 0.0000, 0.0000, 0.0000, 0.0000, 0.0000,\n",
      "          0.0000],\n",
      "         [0.0000, 0.0000, 0.0000, 0.0000, 0.0000, 0.0000, 0.0000, 0.0060,\n",
      "          0.0250, 0.0527, 0.0656, 0.0527, 0.0250, 0.0060, 0.0000, 0.0000,\n",
      "          0.0000, 0.0000, 0.0000, 0.0000, 0.0000, 0.0000, 0.0000, 0.0000,\n",
      "          0.0000],\n",
      "         [0.0000, 0.0000, 0.0000, 0.0000, 0.0000, 0.0000, 0.0000, 0.0250,\n",
      "          0.1033, 0.2181, 0.2716, 0.2181, 0.1033, 0.0250, 0.0000, 0.0000,\n",
      "          0.0000, 0.0000, 0.0000, 0.0000, 0.0000, 0.0000, 0.0000, 0.0000,\n",
      "          0.0000],\n",
      "         [0.0000, 0.0000, 0.0000, 0.0000, 0.0000, 0.0000, 0.0000, 0.0527,\n",
      "          0.2181, 0.4604, 0.5732, 0.4604, 0.2181, 0.0527, 0.0000, 0.0000,\n",
      "          0.0000, 0.0000, 0.0000, 0.0000, 0.0000, 0.0000, 0.0000, 0.0000,\n",
      "          0.0000],\n",
      "         [0.0000, 0.0000, 0.0000, 0.0000, 0.0000, 0.0000, 0.0000, 0.0656,\n",
      "          0.2716, 0.5732, 0.7135, 0.5732, 0.2716, 0.0656, 0.0000, 0.0000,\n",
      "          0.0000, 0.0000, 0.0000, 0.0000, 0.0000, 0.0000, 0.0000, 0.0000,\n",
      "          0.0000],\n",
      "         [0.0000, 0.0000, 0.0000, 0.0000, 0.0000, 0.0000, 0.0000, 0.0527,\n",
      "          0.2181, 0.4604, 0.5732, 0.4604, 0.2181, 0.0527, 0.0000, 0.0000,\n",
      "          0.0000, 0.0000, 0.0000, 0.0000, 0.0000, 0.0000, 0.0000, 0.0000,\n",
      "          0.0000],\n",
      "         [0.0000, 0.0000, 0.0000, 0.0000, 0.0000, 0.0000, 0.0000, 0.0250,\n",
      "          0.1033, 0.2181, 0.2716, 0.2181, 0.1033, 0.0250, 0.0000, 0.0000,\n",
      "          0.0000, 0.0000, 0.0000, 0.0000, 0.0000, 0.0000, 0.0000, 0.0000,\n",
      "          0.0000],\n",
      "         [0.0000, 0.0000, 0.0000, 0.0000, 0.0000, 0.0000, 0.0000, 0.0060,\n",
      "          0.0250, 0.0527, 0.0656, 0.0527, 0.0250, 0.0060, 0.0000, 0.0000,\n",
      "          0.0000, 0.0000, 0.0000, 0.0000, 0.0000, 0.0000, 0.0000, 0.0000,\n",
      "          0.0000],\n",
      "         [0.0000, 0.0000, 0.0000, 0.0000, 0.0000, 0.0000, 0.0000, 0.0000,\n",
      "          0.0000, 0.0000, 0.0000, 0.0000, 0.0000, 0.0000, 0.0000, 0.0000,\n",
      "          0.0000, 0.0000, 0.0000, 0.0000, 0.0000, 0.0000, 0.0000, 0.0000,\n",
      "          0.0000],\n",
      "         [0.0000, 0.0000, 0.0000, 0.0000, 0.0000, 0.0000, 0.0000, 0.0000,\n",
      "          0.0000, 0.0000, 0.0000, 0.0000, 0.0000, 0.0000, 0.0000, 0.0000,\n",
      "          0.0000, 0.0000, 0.0000, 0.0000, 0.0000, 0.0000, 0.0000, 0.0000,\n",
      "          0.0000],\n",
      "         [0.0000, 0.0000, 0.0000, 0.0000, 0.0000, 0.0000, 0.0000, 0.0000,\n",
      "          0.0000, 0.0000, 0.0000, 0.0000, 0.0000, 0.0000, 0.0000, 0.0000,\n",
      "          0.0000, 0.0000, 0.0000, 0.0000, 0.0000, 0.0000, 0.0000, 0.0000,\n",
      "          0.0000],\n",
      "         [0.0000, 0.0000, 0.0000, 0.0000, 0.0000, 0.0000, 0.0000, 0.0000,\n",
      "          0.0000, 0.0000, 0.0000, 0.0000, 0.0000, 0.0000, 0.0000, 0.0000,\n",
      "          0.0000, 0.0000, 0.0000, 0.0000, 0.0000, 0.0000, 0.0000, 0.0000,\n",
      "          0.0000],\n",
      "         [0.0000, 0.0000, 0.0000, 0.0000, 0.0000, 0.0000, 0.0000, 0.0000,\n",
      "          0.0000, 0.0000, 0.0000, 0.0000, 0.0000, 0.0000, 0.0000, 0.0000,\n",
      "          0.0000, 0.0000, 0.0000, 0.0000, 0.0000, 0.0000, 0.0000, 0.0000,\n",
      "          0.0000],\n",
      "         [0.0000, 0.0000, 0.0000, 0.0000, 0.0000, 0.0000, 0.0000, 0.0000,\n",
      "          0.0000, 0.0000, 0.0000, 0.0000, 0.0000, 0.0000, 0.0000, 0.0000,\n",
      "          0.0000, 0.0000, 0.0000, 0.0000, 0.0000, 0.0000, 0.0000, 0.0000,\n",
      "          0.0000],\n",
      "         [0.0000, 0.0000, 0.0000, 0.0000, 0.0000, 0.0000, 0.0000, 0.0000,\n",
      "          0.0000, 0.0000, 0.0000, 0.0000, 0.0000, 0.0000, 0.0000, 0.0000,\n",
      "          0.0000, 0.0000, 0.0000, 0.0000, 0.0000, 0.0000, 0.0000, 0.0000,\n",
      "          0.0000],\n",
      "         [0.0000, 0.0000, 0.0000, 0.0000, 0.0000, 0.0000, 0.0000, 0.0000,\n",
      "          0.0000, 0.0000, 0.0000, 0.0000, 0.0000, 0.0000, 0.0000, 0.0000,\n",
      "          0.0000, 0.0000, 0.0000, 0.0000, 0.0000, 0.0000, 0.0000, 0.0000,\n",
      "          0.0000],\n",
      "         [0.0000, 0.0000, 0.0000, 0.0000, 0.0000, 0.0000, 0.0000, 0.0000,\n",
      "          0.0000, 0.0000, 0.0000, 0.0000, 0.0000, 0.0000, 0.0000, 0.0000,\n",
      "          0.0000, 0.0000, 0.0000, 0.0000, 0.0000, 0.0000, 0.0000, 0.0000,\n",
      "          0.0000],\n",
      "         [0.0000, 0.0000, 0.0000, 0.0000, 0.0000, 0.0000, 0.0000, 0.0000,\n",
      "          0.0000, 0.0000, 0.0000, 0.0000, 0.0000, 0.0000, 0.0000, 0.0000,\n",
      "          0.0000, 0.0000, 0.0000, 0.0000, 0.0000, 0.0000, 0.0000, 0.0000,\n",
      "          0.0000],\n",
      "         [0.0000, 0.0000, 0.0000, 0.0000, 0.0000, 0.0000, 0.0000, 0.0000,\n",
      "          0.0000, 0.0000, 0.0000, 0.0000, 0.0000, 0.0000, 0.0000, 0.0000,\n",
      "          0.0000, 0.0000, 0.0000, 0.0000, 0.0000, 0.0000, 0.0000, 0.0000,\n",
      "          0.0000]]])\n"
     ]
    },
    {
     "data": {
      "text/plain": "<Figure size 432x288 with 1 Axes>",
      "image/png": "[encoded data removed]"
     },
     "metadata": {},
     "output_type": "display_data"
    }
   ],
   "source": [
    "import torch\n",
    "import torchvision.transforms\n",
    "import random\n",
    "labelf = torch.zeros(1,25,25)\n",
    "\n",
    "len = 1\n",
    "for i in range(-len,len+1):\n",
    "    for j in range(-len,len+1):\n",
    "        labelf[0][10+i][10+j] = 1\n",
    "# print(labelf)\n",
    "labelf_gussu = torchvision.transforms.GaussianBlur(kernel_size=(5, 5))(labelf)\n",
    "print(labelf_gussu)\n",
    "import matplotlib.pyplot as plt\n",
    "import matplotlib\n",
    "plt.imshow(labelf_gussu[0])\n",
    "plt.xticks([])  # 去掉x轴\n",
    "plt.yticks([])  # 去掉y轴\n",
    "plt.axis('off')  # 去掉坐标轴\n",
    "plt.savefig('1.png')\n",
    "plt.show()\n",
    "# X = [[0.1, 0.2, 0.3],\n",
    "#      [0.4, 0.5, 0.6],\n",
    "#      [0.7, 0.8, 0.9]]\n",
    "# plt.imshow(X)\n",
    "# plt.colorbar()\n",
    "# plt.show()\n"
   ],
   "metadata": {
    "collapsed": false,
    "pycharm": {
     "name": "#%%\n"
    }
   }
  },
  {
   "cell_type": "code",
   "execution_count": 14,
   "outputs": [
    {
     "name": "stdout",
     "output_type": "stream",
     "text": [
      "tensor([[[0.0000, 2.0003, 2.0003, 1.9732, 1.2634],\n",
      "         [1.0451, 0.0000, 0.7069, 0.8216, 1.0451],\n",
      "         [3.0461, 2.6117, 0.0000, 3.0461, 2.1872],\n",
      "         [0.5411, 0.4152, 0.6095, 0.0000, 0.6095],\n",
      "         [1.5458, 2.3789, 2.3789, 2.7238, 0.0000]],\n",
      "\n",
      "        [[0.0000, 2.1256, 1.2206, 2.1256, 2.1204],\n",
      "         [3.1200, 0.0000, 1.6429, 2.6827, 3.1200],\n",
      "         [0.8220, 1.0405, 0.0000, 1.2689, 1.2689],\n",
      "         [1.4741, 0.8953, 1.4741, 0.0000, 0.8183],\n",
      "         [1.4199, 1.4363, 1.4363, 1.0545, 0.0000]]])\n"
     ]
    }
   ],
   "source": [
    "\n",
    "import torch\n",
    "import random\n",
    "random.seed(0)\n",
    "\n",
    "points = torch.randn((2,5,2))\n",
    "# print(src_keypts)\n",
    "batch_size = points.shape[0]\n",
    "num_point = points.shape[1]\n",
    "points_dist = torch.norm((points[:, :, None, :] - points[:, None, :, :]), dim=-1)\n",
    "\n",
    "angel_k = 3\n",
    "knn_indices = points_dist.topk(k=angel_k+1,dim=2,largest=False)[1][:,:,1:] # (B,N,k)  k+1 : get out the itself indice\n",
    "# print(knn_indices)\n",
    "knn_indices = knn_indices.unsqueeze(3).expand(batch_size,num_point,angel_k,2) # (B,N,K,2)\n",
    "expanded_points = points.unsqueeze(1).expand(batch_size,num_point,num_point,2) # (B,N,K,2)\n",
    "knn_points = torch.gather(expanded_points,dim=2,index=knn_indices) # (B,N,k,2)\n",
    "\n",
    "ref_vectors = knn_points - points.unsqueeze(2)  # (B, N, k, 2)\n",
    "anc_vectors = points.unsqueeze(1) - points.unsqueeze(2)  # (B, N, N, 2)\n",
    "ref_vectors = ref_vectors.unsqueeze(2).expand(batch_size, num_point, num_point, angel_k, 2)  # (B, N, N, k, 2)\n",
    "anc_vectors = anc_vectors.unsqueeze(3).expand(batch_size, num_point, num_point, angel_k, 2)  # (B, N, N, k, 2)\n",
    "zeros = torch.zeros(batch_size, num_point, num_point, angel_k,1)\n",
    "ref_vectors = torch.cat((ref_vectors,zeros),dim=-1)\n",
    "anc_vectors = torch.cat((anc_vectors,zeros),dim=-1)\n",
    "sin_values = torch.linalg.norm(torch.cross(ref_vectors, anc_vectors, dim=-1), dim=-1)  # (B, N, N, k)\n",
    "cos_values = torch.sum(ref_vectors * anc_vectors, dim=-1)  # (B, N, N, k)\n",
    "angles = torch.atan2(sin_values, cos_values)  # (B, N, N, k)\n",
    "angle,_ = torch.max(angles,dim=-1)\n",
    "print(angle)\n",
    "\n",
    "# a_indices = angles * self.factor_a\n"
   ],
   "metadata": {
    "collapsed": false,
    "pycharm": {
     "name": "#%%\n"
    }
   }
  },
  {
   "cell_type": "code",
   "execution_count": 82,
   "outputs": [
    {
     "name": "stdout",
     "output_type": "stream",
     "text": [
      "tensor([0.5631, 0.3623]) tensor([ 0.0236, -0.0448])\n",
      "tensor(-0.0338)\n",
      "-0.03377951\n"
     ]
    }
   ],
   "source": [
    "import numpy as np\n",
    "a= torch.randn(2)\n",
    "b= torch.randn(2)\n",
    "print(a,b)\n",
    "# c = torch.cross(a, b, dim=-1)\n",
    "d = np.cross(a,b)\n",
    "print(a[0]*b[1]-a[1]*b[0])\n",
    "print(d)"
   ],
   "metadata": {
    "collapsed": false,
    "pycharm": {
     "name": "#%%\n"
    }
   }
  },
  {
   "cell_type": "code",
   "execution_count": 105,
   "outputs": [
    {
     "name": "stdout",
     "output_type": "stream",
     "text": [
      "tensor([[0., 1., 0., 0., 1., 0., 0., 0., 0., 1., 1., 0., 0., 0., 0., 0.],\n",
      "        [1., 0., 0., 1., 1., 0., 0., 0., 0., 0., 0., 0., 0., 0., 0., 0.],\n",
      "        [0., 0., 0., 0., 0., 0., 0., 0., 0., 0., 1., 0., 0., 0., 0., 0.],\n",
      "        [0., 0., 0., 0., 0., 0., 0., 0., 0., 0., 1., 0., 0., 0., 0., 0.]])\n"
     ]
    }
   ],
   "source": [
    "mask = torch.zeros(4,16)\n",
    "mask[0][10] = 1\n",
    "mask[0][4] = 1\n",
    "mask[0][1] = 1\n",
    "mask[0][9] = 1\n",
    "mask[3][10] = 1\n",
    "mask[2][10] = 1\n",
    "mask[1][3] = 1\n",
    "mask[1][4] = 1\n",
    "mask[1][0] = 1\n",
    "print(mask)"
   ],
   "metadata": {
    "collapsed": false,
    "pycharm": {
     "name": "#%%\n"
    }
   }
  },
  {
   "cell_type": "code",
   "execution_count": 148,
   "outputs": [
    {
     "name": "stdout",
     "output_type": "stream",
     "text": [
      "torch.Size([15, 15])\n"
     ]
    },
    {
     "ename": "IndexError",
     "evalue": "tuple index out of range",
     "output_type": "error",
     "traceback": [
      "\u001B[0;31m---------------------------------------------------------------------------\u001B[0m",
      "\u001B[0;31mIndexError\u001B[0m                                Traceback (most recent call last)",
      "\u001B[0;32m/tmp/ipykernel_2648/556071699.py\u001B[0m in \u001B[0;36m<module>\u001B[0;34m\u001B[0m\n\u001B[1;32m     22\u001B[0m \u001B[0mheatmap_plot\u001B[0m\u001B[0;34m[\u001B[0m\u001B[0;36m3\u001B[0m\u001B[0;34m]\u001B[0m\u001B[0;34m[\u001B[0m\u001B[0;36m10\u001B[0m\u001B[0;34m]\u001B[0m\u001B[0;34m=\u001B[0m\u001B[0;36m0.3\u001B[0m\u001B[0;34m\u001B[0m\u001B[0;34m\u001B[0m\u001B[0m\n\u001B[1;32m     23\u001B[0m \u001B[0mprint\u001B[0m\u001B[0;34m(\u001B[0m\u001B[0mheatmap_plot\u001B[0m\u001B[0;34m.\u001B[0m\u001B[0mshape\u001B[0m\u001B[0;34m)\u001B[0m\u001B[0;34m\u001B[0m\u001B[0;34m\u001B[0m\u001B[0m\n\u001B[0;32m---> 24\u001B[0;31m \u001B[0mheatmap_plot\u001B[0m \u001B[0;34m=\u001B[0m \u001B[0mtorchvision\u001B[0m\u001B[0;34m.\u001B[0m\u001B[0mtransforms\u001B[0m\u001B[0;34m.\u001B[0m\u001B[0mGaussianBlur\u001B[0m\u001B[0;34m(\u001B[0m\u001B[0mkernel_size\u001B[0m\u001B[0;34m=\u001B[0m\u001B[0;34m(\u001B[0m\u001B[0;36m3\u001B[0m\u001B[0;34m,\u001B[0m \u001B[0;36m3\u001B[0m\u001B[0;34m)\u001B[0m\u001B[0;34m)\u001B[0m\u001B[0;34m(\u001B[0m\u001B[0mheatmap_plot\u001B[0m\u001B[0;34m)\u001B[0m\u001B[0;34m\u001B[0m\u001B[0;34m\u001B[0m\u001B[0m\n\u001B[0m\u001B[1;32m     25\u001B[0m \u001B[0mprint\u001B[0m\u001B[0;34m(\u001B[0m\u001B[0mheatmap_plot\u001B[0m\u001B[0;34m)\u001B[0m\u001B[0;34m\u001B[0m\u001B[0;34m\u001B[0m\u001B[0m\n\u001B[1;32m     26\u001B[0m \u001B[0;34m\u001B[0m\u001B[0m\n",
      "\u001B[0;32m~/anaconda3/envs/loftr/lib/python3.8/site-packages/torch/nn/modules/module.py\u001B[0m in \u001B[0;36m_call_impl\u001B[0;34m(self, *input, **kwargs)\u001B[0m\n\u001B[1;32m   1100\u001B[0m         if not (self._backward_hooks or self._forward_hooks or self._forward_pre_hooks or _global_backward_hooks\n\u001B[1;32m   1101\u001B[0m                 or _global_forward_hooks or _global_forward_pre_hooks):\n\u001B[0;32m-> 1102\u001B[0;31m             \u001B[0;32mreturn\u001B[0m \u001B[0mforward_call\u001B[0m\u001B[0;34m(\u001B[0m\u001B[0;34m*\u001B[0m\u001B[0minput\u001B[0m\u001B[0;34m,\u001B[0m \u001B[0;34m**\u001B[0m\u001B[0mkwargs\u001B[0m\u001B[0;34m)\u001B[0m\u001B[0;34m\u001B[0m\u001B[0;34m\u001B[0m\u001B[0m\n\u001B[0m\u001B[1;32m   1103\u001B[0m         \u001B[0;31m# Do not call functions when jit is used\u001B[0m\u001B[0;34m\u001B[0m\u001B[0;34m\u001B[0m\u001B[0;34m\u001B[0m\u001B[0m\n\u001B[1;32m   1104\u001B[0m         \u001B[0mfull_backward_hooks\u001B[0m\u001B[0;34m,\u001B[0m \u001B[0mnon_full_backward_hooks\u001B[0m \u001B[0;34m=\u001B[0m \u001B[0;34m[\u001B[0m\u001B[0;34m]\u001B[0m\u001B[0;34m,\u001B[0m \u001B[0;34m[\u001B[0m\u001B[0;34m]\u001B[0m\u001B[0;34m\u001B[0m\u001B[0;34m\u001B[0m\u001B[0m\n",
      "\u001B[0;32m~/anaconda3/envs/loftr/lib/python3.8/site-packages/torchvision/transforms/transforms.py\u001B[0m in \u001B[0;36mforward\u001B[0;34m(self, img)\u001B[0m\n\u001B[1;32m   1747\u001B[0m         \"\"\"\n\u001B[1;32m   1748\u001B[0m         \u001B[0msigma\u001B[0m \u001B[0;34m=\u001B[0m \u001B[0mself\u001B[0m\u001B[0;34m.\u001B[0m\u001B[0mget_params\u001B[0m\u001B[0;34m(\u001B[0m\u001B[0mself\u001B[0m\u001B[0;34m.\u001B[0m\u001B[0msigma\u001B[0m\u001B[0;34m[\u001B[0m\u001B[0;36m0\u001B[0m\u001B[0;34m]\u001B[0m\u001B[0;34m,\u001B[0m \u001B[0mself\u001B[0m\u001B[0;34m.\u001B[0m\u001B[0msigma\u001B[0m\u001B[0;34m[\u001B[0m\u001B[0;36m1\u001B[0m\u001B[0;34m]\u001B[0m\u001B[0;34m)\u001B[0m\u001B[0;34m\u001B[0m\u001B[0;34m\u001B[0m\u001B[0m\n\u001B[0;32m-> 1749\u001B[0;31m         \u001B[0;32mreturn\u001B[0m \u001B[0mF\u001B[0m\u001B[0;34m.\u001B[0m\u001B[0mgaussian_blur\u001B[0m\u001B[0;34m(\u001B[0m\u001B[0mimg\u001B[0m\u001B[0;34m,\u001B[0m \u001B[0mself\u001B[0m\u001B[0;34m.\u001B[0m\u001B[0mkernel_size\u001B[0m\u001B[0;34m,\u001B[0m \u001B[0;34m[\u001B[0m\u001B[0msigma\u001B[0m\u001B[0;34m,\u001B[0m \u001B[0msigma\u001B[0m\u001B[0;34m]\u001B[0m\u001B[0;34m)\u001B[0m\u001B[0;34m\u001B[0m\u001B[0;34m\u001B[0m\u001B[0m\n\u001B[0m\u001B[1;32m   1750\u001B[0m \u001B[0;34m\u001B[0m\u001B[0m\n\u001B[1;32m   1751\u001B[0m     \u001B[0;32mdef\u001B[0m \u001B[0m__repr__\u001B[0m\u001B[0;34m(\u001B[0m\u001B[0mself\u001B[0m\u001B[0;34m)\u001B[0m\u001B[0;34m:\u001B[0m\u001B[0;34m\u001B[0m\u001B[0;34m\u001B[0m\u001B[0m\n",
      "\u001B[0;32m~/anaconda3/envs/loftr/lib/python3.8/site-packages/torchvision/transforms/functional.py\u001B[0m in \u001B[0;36mgaussian_blur\u001B[0;34m(img, kernel_size, sigma)\u001B[0m\n\u001B[1;32m   1256\u001B[0m         \u001B[0mt_img\u001B[0m \u001B[0;34m=\u001B[0m \u001B[0mto_tensor\u001B[0m\u001B[0;34m(\u001B[0m\u001B[0mimg\u001B[0m\u001B[0;34m)\u001B[0m\u001B[0;34m\u001B[0m\u001B[0;34m\u001B[0m\u001B[0m\n\u001B[1;32m   1257\u001B[0m \u001B[0;34m\u001B[0m\u001B[0m\n\u001B[0;32m-> 1258\u001B[0;31m     \u001B[0moutput\u001B[0m \u001B[0;34m=\u001B[0m \u001B[0mF_t\u001B[0m\u001B[0;34m.\u001B[0m\u001B[0mgaussian_blur\u001B[0m\u001B[0;34m(\u001B[0m\u001B[0mt_img\u001B[0m\u001B[0;34m,\u001B[0m \u001B[0mkernel_size\u001B[0m\u001B[0;34m,\u001B[0m \u001B[0msigma\u001B[0m\u001B[0;34m)\u001B[0m\u001B[0;34m\u001B[0m\u001B[0;34m\u001B[0m\u001B[0m\n\u001B[0m\u001B[1;32m   1259\u001B[0m \u001B[0;34m\u001B[0m\u001B[0m\n\u001B[1;32m   1260\u001B[0m     \u001B[0;32mif\u001B[0m \u001B[0;32mnot\u001B[0m \u001B[0misinstance\u001B[0m\u001B[0;34m(\u001B[0m\u001B[0mimg\u001B[0m\u001B[0;34m,\u001B[0m \u001B[0mtorch\u001B[0m\u001B[0;34m.\u001B[0m\u001B[0mTensor\u001B[0m\u001B[0;34m)\u001B[0m\u001B[0;34m:\u001B[0m\u001B[0;34m\u001B[0m\u001B[0;34m\u001B[0m\u001B[0m\n",
      "\u001B[0;32m~/anaconda3/envs/loftr/lib/python3.8/site-packages/torchvision/transforms/functional_tensor.py\u001B[0m in \u001B[0;36mgaussian_blur\u001B[0;34m(img, kernel_size, sigma)\u001B[0m\n\u001B[1;32m    822\u001B[0m     \u001B[0mdtype\u001B[0m \u001B[0;34m=\u001B[0m \u001B[0mimg\u001B[0m\u001B[0;34m.\u001B[0m\u001B[0mdtype\u001B[0m \u001B[0;32mif\u001B[0m \u001B[0mtorch\u001B[0m\u001B[0;34m.\u001B[0m\u001B[0mis_floating_point\u001B[0m\u001B[0;34m(\u001B[0m\u001B[0mimg\u001B[0m\u001B[0;34m)\u001B[0m \u001B[0;32melse\u001B[0m \u001B[0mtorch\u001B[0m\u001B[0;34m.\u001B[0m\u001B[0mfloat32\u001B[0m\u001B[0;34m\u001B[0m\u001B[0;34m\u001B[0m\u001B[0m\n\u001B[1;32m    823\u001B[0m     \u001B[0mkernel\u001B[0m \u001B[0;34m=\u001B[0m \u001B[0m_get_gaussian_kernel2d\u001B[0m\u001B[0;34m(\u001B[0m\u001B[0mkernel_size\u001B[0m\u001B[0;34m,\u001B[0m \u001B[0msigma\u001B[0m\u001B[0;34m,\u001B[0m \u001B[0mdtype\u001B[0m\u001B[0;34m=\u001B[0m\u001B[0mdtype\u001B[0m\u001B[0;34m,\u001B[0m \u001B[0mdevice\u001B[0m\u001B[0;34m=\u001B[0m\u001B[0mimg\u001B[0m\u001B[0;34m.\u001B[0m\u001B[0mdevice\u001B[0m\u001B[0;34m)\u001B[0m\u001B[0;34m\u001B[0m\u001B[0;34m\u001B[0m\u001B[0m\n\u001B[0;32m--> 824\u001B[0;31m     \u001B[0mkernel\u001B[0m \u001B[0;34m=\u001B[0m \u001B[0mkernel\u001B[0m\u001B[0;34m.\u001B[0m\u001B[0mexpand\u001B[0m\u001B[0;34m(\u001B[0m\u001B[0mimg\u001B[0m\u001B[0;34m.\u001B[0m\u001B[0mshape\u001B[0m\u001B[0;34m[\u001B[0m\u001B[0;34m-\u001B[0m\u001B[0;36m3\u001B[0m\u001B[0;34m]\u001B[0m\u001B[0;34m,\u001B[0m \u001B[0;36m1\u001B[0m\u001B[0;34m,\u001B[0m \u001B[0mkernel\u001B[0m\u001B[0;34m.\u001B[0m\u001B[0mshape\u001B[0m\u001B[0;34m[\u001B[0m\u001B[0;36m0\u001B[0m\u001B[0;34m]\u001B[0m\u001B[0;34m,\u001B[0m \u001B[0mkernel\u001B[0m\u001B[0;34m.\u001B[0m\u001B[0mshape\u001B[0m\u001B[0;34m[\u001B[0m\u001B[0;36m1\u001B[0m\u001B[0;34m]\u001B[0m\u001B[0;34m)\u001B[0m\u001B[0;34m\u001B[0m\u001B[0;34m\u001B[0m\u001B[0m\n\u001B[0m\u001B[1;32m    825\u001B[0m \u001B[0;34m\u001B[0m\u001B[0m\n\u001B[1;32m    826\u001B[0m     \u001B[0mimg\u001B[0m\u001B[0;34m,\u001B[0m \u001B[0mneed_cast\u001B[0m\u001B[0;34m,\u001B[0m \u001B[0mneed_squeeze\u001B[0m\u001B[0;34m,\u001B[0m \u001B[0mout_dtype\u001B[0m \u001B[0;34m=\u001B[0m \u001B[0m_cast_squeeze_in\u001B[0m\u001B[0;34m(\u001B[0m\u001B[0mimg\u001B[0m\u001B[0;34m,\u001B[0m \u001B[0;34m[\u001B[0m\u001B[0mkernel\u001B[0m\u001B[0;34m.\u001B[0m\u001B[0mdtype\u001B[0m\u001B[0;34m,\u001B[0m \u001B[0;34m]\u001B[0m\u001B[0;34m)\u001B[0m\u001B[0;34m\u001B[0m\u001B[0;34m\u001B[0m\u001B[0m\n",
      "\u001B[0;31mIndexError\u001B[0m: tuple index out of range"
     ]
    }
   ],
   "source": [
    "\n",
    "import torch.nn.functional as F\n",
    "from kornia.geometry.subpix import dsnt\n",
    "import math\n",
    "import torchvision\n",
    "import torch\n",
    "from kornia.utils.grid import create_meshgrid\n",
    "torch.manual_seed(0)\n",
    "feat_f0,feat_f1 = torch.randn((4,225,64)),torch.randn((4,225,64))\n",
    "\n",
    "# feat_f0 = feat_f1\n",
    "M, WW, C = feat_f0.shape\n",
    "W = int(math.sqrt(WW))\n",
    "# b_ids,i_ids = torch.where(mask)\n",
    "# feat_f0_picked = feat_f0[b_ids, i_ids, :]\n",
    "\n",
    "sim_matrix = torch.einsum(\"nlc,nsc->nls\", feat_f0, feat_f1)\n",
    "\n",
    "softmax_temp = 1#1./C**0.5\n",
    "heatmap = (F.softmax(sim_matrix*softmax_temp, 1) * F.softmax(sim_matrix*softmax_temp, 2)).view(M,WW,W,W) #[B,N,H,W]\n",
    "heatmap_plot = heatmap[0][0]\n",
    "\n",
    "# coords_normalized = dsnt.spatial_expectation2d(heatmap,True)\n",
    "# print('coords_normalized:',coords_normalized)\n",
    "\n",
    "# grid_normalized = create_meshgrid(W, W, True, heatmap.device).reshape(1,1, -1, 2)  # [1, WW, 2]\n",
    "# print('grid_normalized',grid_normalized.shape)\n",
    "# # compute std over <x, y>\n",
    "# print(heatmap.shape)\n",
    "# print(grid_normalized.shape) # [M,N,]\n",
    "#\n",
    "# cc = grid_normalized ** 2 * heatmap.view(M,WW, WW, 1)\n",
    "# print('cc',cc.shape)\n",
    "# cc = torch.sum(grid_normalized ** 2 * heatmap.view(M,WW, WW, 1), dim=2)\n",
    "# print('cc',cc.shape)\n",
    "#\n",
    "# print(heatmap.shape)\n",
    "# var = torch.sum(grid_normalized ** 2 * heatmap.view(M,WW, WW, 1), dim=2) - coords_normalized ** 2  # [M,N, 2]\n",
    "# std = torch.sum(torch.sqrt(torch.clamp(var, min=1e-10)), -1)  # [M]  clamp needed for numerical stability\n",
    "# print(var.shape)\n",
    "\n",
    "# print(coords_normalized.shape)\n",
    "# print(std.unsqueeze(-1).shape)\n",
    "# print(coords_normalized.shape)\n"
   ],
   "metadata": {
    "collapsed": false,
    "pycharm": {
     "name": "#%%\n"
    }
   }
  },
  {
   "cell_type": "code",
   "execution_count": 7,
   "outputs": [
    {
     "name": "stdout",
     "output_type": "stream",
     "text": [
      "tensor([[[ 2.5257e-01,  2.0074e-01],\n",
      "         [-5.8142e-02,  5.7750e-02],\n",
      "         [ 4.9692e-01, -1.4854e-01],\n",
      "         [ 2.2080e-01,  3.6648e-02],\n",
      "         [-2.3753e-02,  2.0779e-01],\n",
      "         [ 8.5926e-02, -1.7117e-01],\n",
      "         [ 7.4822e-03,  6.6056e-02],\n",
      "         [-9.5009e-03,  6.3915e-02],\n",
      "         [ 3.4156e-02, -3.9605e-02],\n",
      "         [ 4.7725e-02, -4.1983e-02]],\n",
      "\n",
      "        [[-1.7535e-01,  1.7920e-01],\n",
      "         [ 6.0847e-02,  5.9953e-02],\n",
      "         [ 4.5144e-02,  1.5138e-01],\n",
      "         [ 1.2192e-01, -4.5469e-02],\n",
      "         [-7.5722e-02, -2.1664e-01],\n",
      "         [ 2.8752e-01,  3.6028e-01],\n",
      "         [ 1.3572e-01, -1.0623e-02],\n",
      "         [-1.0346e-01, -2.1705e-01],\n",
      "         [-7.2428e-02, -5.1125e-01],\n",
      "         [-8.2906e-02, -5.3942e-06]],\n",
      "\n",
      "        [[-4.0005e-02,  2.1970e-01],\n",
      "         [ 2.0428e-01, -5.4741e-03],\n",
      "         [ 8.8297e-02,  1.6655e-02],\n",
      "         [-1.2486e-01,  1.5341e-01],\n",
      "         [-4.7809e-01, -1.6685e-01],\n",
      "         [-1.0210e-01,  1.5660e-01],\n",
      "         [-3.1013e-02, -2.7983e-01],\n",
      "         [ 1.6888e-01, -4.3842e-02],\n",
      "         [-3.9524e-01, -1.2739e-01],\n",
      "         [ 2.0587e-01, -1.0209e-01]],\n",
      "\n",
      "        [[-2.0035e-01,  7.1084e-02],\n",
      "         [ 1.7077e-01,  1.3880e-01],\n",
      "         [-2.0366e-01, -1.2419e-02],\n",
      "         [-1.1338e-01, -2.2817e-01],\n",
      "         [ 4.0648e-01, -1.2695e-01],\n",
      "         [ 2.3633e-01, -1.0505e-01],\n",
      "         [ 5.1673e-01, -1.8718e-01],\n",
      "         [-1.0598e-01, -2.9975e-02],\n",
      "         [ 1.9188e-01,  1.4307e-01],\n",
      "         [ 8.9588e-02,  1.0107e-01]]])\n"
     ]
    },
    {
     "name": "stderr",
     "output_type": "stream",
     "text": [
      "/home/gzr/anaconda3/envs/loftr/lib/python3.8/site-packages/torch/functional.py:445: UserWarning: torch.meshgrid: in an upcoming release, it will be required to pass the indexing argument. (Triggered internally at  ../aten/src/ATen/native/TensorShape.cpp:2157.)\n",
      "  return _VF.meshgrid(tensors, **kwargs)  # type: ignore[attr-defined]\n"
     ]
    }
   ],
   "source": [
    "import torch.nn.functional as F\n",
    "from kornia.geometry.subpix import dsnt\n",
    "import math\n",
    "import torch\n",
    "torch.manual_seed(0)\n",
    "heatmaps = torch.randn(4,10,5,5)\n",
    "# print(heatmaps)\n",
    "t = dsnt.spatial_softmax2d(heatmaps)\n",
    "coords_normalized = dsnt.spatial_expectation2d(t,True)\n",
    "print(coords_normalized)\n",
    "# torch.sum(coords_normalized)"
   ],
   "metadata": {
    "collapsed": false,
    "pycharm": {
     "name": "#%%\n"
    }
   }
  },
  {
   "cell_type": "code",
   "execution_count": 212,
   "outputs": [
    {
     "name": "stdout",
     "output_type": "stream",
     "text": [
      "tensor(1.) sum\n",
      "tensor([[[[0.0133, 0.1468, 0.0133],\n",
      "          [0.0133, 0.7273, 0.0296],\n",
      "          [0.0133, 0.0133, 0.0296]]]])\n",
      "tensor(1.0000) sum\n",
      "tensor([[[2.0653, 1.7656]]])\n"
     ]
    },
    {
     "data": {
      "text/plain": "tensor([[[1.0326, 0.8828]]])"
     },
     "execution_count": 212,
     "metadata": {},
     "output_type": "execute_result"
    }
   ],
   "source": [
    "heatmaps = torch.tensor([[[\n",
    "[0.0, 0.3, 0.],\n",
    "[0., 0.5, 0.1],\n",
    "[0., 0., 0.1]]]])\n",
    "print(torch.sum(heatmaps),'sum')\n",
    "heatmaps = dsnt.spatial_softmax2d(heatmaps,temperature=torch.tensor(8))\n",
    "print(heatmaps)\n",
    "sum = torch.sum(heatmaps)\n",
    "print(sum,'sum')\n",
    "c = (dsnt.spatial_expectation2d(heatmaps, True)+1)*(5//2)\n",
    "print(c)\n",
    "dsnt.spatial_expectation2d(heatmaps, False)"
   ],
   "metadata": {
    "collapsed": false,
    "pycharm": {
     "name": "#%%\n"
    }
   }
  },
  {
   "cell_type": "code",
   "execution_count": 118,
   "outputs": [
    {
     "name": "stdout",
     "output_type": "stream",
     "text": [
      "torch.Size([1, 3, 3])\n",
      "tensor([[[0.3333, 0.3333, 0.4223],\n",
      "         [0.3333, 0.3333, 0.4223],\n",
      "         [0.3333, 0.3333, 0.1554]]])\n",
      "tensor([[[0.3333, 0.3333, 0.3333],\n",
      "         [0.3333, 0.3333, 0.3333],\n",
      "         [0.3616, 0.3616, 0.2769]]])\n",
      "tensor([[True, True, True]])\n"
     ]
    }
   ],
   "source": [
    "sim_matrix = torch.tensor([[\n",
    "[1., 1., 1.],\n",
    "[1., 1, 1.],\n",
    "[1., 1, 0.]]])\n",
    "print(sim_matrix.shape)\n",
    "\n",
    "heatmap = F.softmax(sim_matrix, 1) #* F.softmax(sim_matrix*softmax_temp, 2))#.view(M,WW,W,W) #[B,N,H,W]\n",
    "\n",
    "print(heatmap)\n",
    "heatmap =   F.softmax(F.softmax(sim_matrix, 2), 2) #.view(M,WW,W,W) #[B,N,H,W]\n",
    "print(heatmap)\n",
    "print(torch.sum(heatmap,dim=2)>0)"
   ],
   "metadata": {
    "collapsed": false,
    "pycharm": {
     "name": "#%%\n"
    }
   }
  },
  {
   "cell_type": "code",
   "execution_count": 135,
   "outputs": [
    {
     "name": "stdout",
     "output_type": "stream",
     "text": [
      "tensor([[0, 1, 2, 3, 4, 0, 1, 2, 3, 4, 0, 1, 2, 3, 4, 0, 1, 2, 3, 4, 0, 1, 2, 3,\n",
      "         4]])\n"
     ]
    }
   ],
   "source": [
    "W = 5\n",
    "gridX = torch.arange(0, W).view(1, 1, -1).expand(1, W, W).contiguous().reshape(1, -1)\n",
    "print(gridX)"
   ],
   "metadata": {
    "collapsed": false,
    "pycharm": {
     "name": "#%%\n"
    }
   }
  },
  {
   "cell_type": "code",
   "execution_count": 17,
   "outputs": [
    {
     "name": "stdout",
     "output_type": "stream",
     "text": [
      "tensor([[[1., 1.],\n",
      "         [2., 2.],\n",
      "         [0., 0.],\n",
      "         [0., 0.],\n",
      "         [0., 0.],\n",
      "         [0., 0.],\n",
      "         [0., 0.],\n",
      "         [0., 0.],\n",
      "         [0., 0.]],\n",
      "\n",
      "        [[0., 0.],\n",
      "         [0., 0.],\n",
      "         [0., 0.],\n",
      "         [0., 0.],\n",
      "         [0., 0.],\n",
      "         [0., 0.],\n",
      "         [0., 0.],\n",
      "         [0., 0.],\n",
      "         [0., 0.]],\n",
      "\n",
      "        [[0., 0.],\n",
      "         [0., 0.],\n",
      "         [0., 0.],\n",
      "         [0., 0.],\n",
      "         [0., 0.],\n",
      "         [0., 0.],\n",
      "         [0., 0.],\n",
      "         [0., 0.],\n",
      "         [0., 0.]],\n",
      "\n",
      "        [[0., 0.],\n",
      "         [0., 0.],\n",
      "         [0., 0.],\n",
      "         [0., 0.],\n",
      "         [0., 0.],\n",
      "         [0., 0.],\n",
      "         [0., 0.],\n",
      "         [0., 0.],\n",
      "         [3., 3.]],\n",
      "\n",
      "        [[0., 0.],\n",
      "         [0., 0.],\n",
      "         [0., 0.],\n",
      "         [0., 0.],\n",
      "         [0., 0.],\n",
      "         [0., 0.],\n",
      "         [0., 0.],\n",
      "         [0., 0.],\n",
      "         [0., 0.]]])\n"
     ]
    }
   ],
   "source": [
    "c = torch.ones([2,2])\n",
    "flow_map_mask = torch.zeros(5, 9,2)\n",
    "# print(flow_map_mask)\n",
    "list_1 = [0,0,3]\n",
    "list_2 = [0,1,8]\n",
    "data = torch.tensor([[1.0,1],[2,2],[3,3]])\n",
    "flow_map_mask[list_1, list_2] = data\n",
    "print(flow_map_mask)\n",
    "\n"
   ],
   "metadata": {
    "collapsed": false,
    "pycharm": {
     "name": "#%%\n"
    }
   }
  },
  {
   "cell_type": "code",
   "execution_count": 91,
   "outputs": [
    {
     "name": "stderr",
     "output_type": "stream",
     "text": [
      "/tmp/ipykernel_28846/3897286098.py:52: UserWarning: __floordiv__ is deprecated, and its behavior will change in a future version of pytorch. It currently rounds toward 0 (like the 'trunc' function NOT 'floor'). This results in incorrect rounding for negative values. To keep the current behavior, use torch.div(a, b, rounding_mode='trunc'), or for actual floor division, use torch.div(a, b, rounding_mode='floor').\n",
      "  mkpts0 = torch.stack((indices0 % w*scale+scale//2, indices0//w*scale+scale//2),dim=1)\n",
      "/tmp/ipykernel_28846/3897286098.py:60: UserWarning: __floordiv__ is deprecated, and its behavior will change in a future version of pytorch. It currently rounds toward 0 (like the 'trunc' function NOT 'floor'). This results in incorrect rounding for negative values. To keep the current behavior, use torch.div(a, b, rounding_mode='trunc'), or for actual floor division, use torch.div(a, b, rounding_mode='floor').\n",
      "  mkpts1 = torch.stack((indices1 % w*scale+scale//2, indices1//w*scale+scale//2),dim=1)\n"
     ]
    },
    {
     "data": {
      "text/plain": "<Figure size 1200x450 with 2 Axes>",
      "image/png": "[encoded data removed]"
     },
     "metadata": {},
     "output_type": "display_data"
    }
   ],
   "source": [
    "import torch\n",
    "import numpy as np\n",
    "import cv2\n",
    "from matplotlib.collections import LineCollection\n",
    "import bisect\n",
    "import matplotlib.pyplot as plt\n",
    "import matplotlib\n",
    "torch.random.seed()\n",
    "h,w = 60,80\n",
    "scale = 8\n",
    "\n",
    "img1_path = '/home/gzr/Data/hole_data/hole_dataset/0_hole/images/training/1.png'\n",
    "img0_path = '/home/gzr/Data/hole_data/hole_dataset/0_hole/images/training/1_template.png'\n",
    "img1 = cv2.imread(img1_path)\n",
    "img0 = cv2.imread(img0_path)\n",
    "\n",
    "\n",
    "def dynamic_alpha(conf,\n",
    "                  milestones=[0,0.1,0.2, 0.3,0.4, 0.5,0.6,0.7,0.8,0.9, 1],\n",
    "                  alphas=[0,0.1,0.2, 0.3,0.4, 0.5,0.6,0.7,0.8,0.9, 1]):\n",
    "    if conf == 0:\n",
    "        return 0\n",
    "    ranges = list(zip(alphas, alphas[1:] + [None]))\n",
    "    loc = bisect.bisect_right(milestones, conf) - 1\n",
    "    _range = ranges[loc]\n",
    "    if _range[1] is None:\n",
    "        return _range[0]\n",
    "    return _range[1] + (milestones[loc + 1] - conf) / (\n",
    "            milestones[loc + 1] - milestones[loc]) * (_range[0] - _range[1])\n",
    "\n",
    "def visualize_self_attention_map(att_mat_0, img0, att_mat_1, img1, rk, pos_0,pos_1):\n",
    "    r\"\"\"\n",
    "\n",
    "    :param att_mat: (L,S,h)\n",
    "    :param img:\n",
    "    :param rk:\n",
    "    :return:\n",
    "    \"\"\"\n",
    "    top_n = 50\n",
    "    # 0. Average the attention weights across all heads.\n",
    "    att_mat_0 = torch.mean(att_mat_0, dim=-1)\n",
    "    att_mat_1 = torch.mean(att_mat_1, dim=-1)\n",
    "    # 1. normalize the weights\n",
    "    att_mat_0 = att_mat_0/att_mat_0.sum(dim=-1) # (L,S)\n",
    "    att_mat_1 = att_mat_1/att_mat_1.sum(dim=-1) # (L,S)\n",
    "\n",
    "    # center position\n",
    "    pos0_flatten = pos_0[0]//scale + (pos_0[1]//scale) * w\n",
    "    att_val_0 = att_mat_0[pos0_flatten]\n",
    "    sorted, indices = torch.sort(att_val_0,descending=True)\n",
    "    sorted0, indices0= sorted[0:top_n], indices[0:top_n]\n",
    "    mkpts0 = torch.stack((indices0 % w*scale+scale//2, indices0//w*scale+scale//2),dim=1)\n",
    "    sorted0 = np.array(sorted0)\n",
    "\n",
    "\n",
    "    pos1_flatten = pos_1[0]//scale + (pos_1[1]//scale) * w\n",
    "    att_val_1 = att_mat_0[pos1_flatten]\n",
    "    sorted, indices = torch.sort(att_val_1,descending=True)\n",
    "    sorted1, indices1= sorted[0:top_n], indices[0:top_n]\n",
    "    mkpts1 = torch.stack((indices1 % w*scale+scale//2, indices1//w*scale+scale//2),dim=1)\n",
    "    sorted1 = np.array(sorted1)\n",
    "\n",
    "    fig, axes = plt.subplots(1, 2, figsize=(10, 6), dpi=100)\n",
    "    axes[0].imshow(img0, cmap='gray')\n",
    "    axes[1].imshow(img1, cmap='gray')\n",
    "    for i in range(2):  # clear all frames\n",
    "        axes[i].get_yaxis().set_ticks([])\n",
    "        axes[i].get_xaxis().set_ticks([])\n",
    "        for spine in axes[i].spines.values():\n",
    "            spine.set_visible(False)\n",
    "    plt.tight_layout(pad=1)\n",
    "    fig.canvas.draw()\n",
    "    transFigure = fig.transFigure.inverted()\n",
    "\n",
    "\n",
    "    fkpts0 = transFigure.transform(axes[0].transData.transform(mkpts0))\n",
    "    fkpts1 = transFigure.transform(axes[1].transData.transform(mkpts1))\n",
    "    fpos_0 = transFigure.transform(axes[0].transData.transform(pos_0))\n",
    "    fpos_1 = transFigure.transform(axes[1].transData.transform(pos_1))\n",
    "\n",
    "    fig.lines = [matplotlib.lines.Line2D((fpos_0[0], fkpts0[i, 0]),\n",
    "                                         (fpos_0[1], fkpts0[i, 1]),zorder=1,\n",
    "                                         transform=fig.transFigure,color=[1,0,0,1],  linewidth=1) #\n",
    "                 for i in range(len(mkpts0))\n",
    "                 ] + \\\n",
    "                [matplotlib.lines.Line2D((fpos_1[0], fkpts1[i, 0]),\n",
    "                                         (fpos_1[1], fkpts1[i, 1]),\n",
    "                                         transform=fig.transFigure,zorder=1,color=[1,0,0,dynamic_alpha(sorted1[i])*1000], linewidth=1)\n",
    "                 for i in range(len(mkpts1))\n",
    "                 ]\n",
    "\n",
    "    axes[0].scatter(mkpts0[:, 0], mkpts0[:, 1], c='green', s=10,alpha=1)\n",
    "    axes[1].scatter(mkpts1[:, 0], mkpts1[:, 1], c='green', s=10,alpha=1)\n",
    "    #\n",
    "    axes[0].scatter(pos_0[0], pos_0[1], c='green', s=40,alpha=1)\n",
    "    axes[1].scatter(pos_1[0], pos_1[1], c='green', s=40,alpha=1)\n",
    "    plt.show()\n",
    "\n",
    "    plt.savefig('./'+str(rk)+'.png', bbox_inches='tight', pad_inches=0)\n",
    "    plt.close()\n",
    "\n",
    "\n",
    "\n",
    "att_mat_0 = torch.rand(h*w,h*w,4)\n",
    "att_mat_1 = torch.rand(h*w,h*w,4)\n",
    "visualize_self_attention_map(att_mat_0,img0,att_mat_1,img1,rk=1,pos_0=[320,240],pos_1=[320,240])\n"
   ],
   "metadata": {
    "collapsed": false,
    "pycharm": {
     "name": "#%%\n"
    }
   }
  },
  {
   "cell_type": "code",
   "execution_count": 51,
   "outputs": [
    {
     "data": {
      "text/plain": "0.55"
     },
     "execution_count": 51,
     "metadata": {},
     "output_type": "execute_result"
    }
   ],
   "source": [
    "dynamic_alpha(0.55)"
   ],
   "metadata": {
    "collapsed": false,
    "pycharm": {
     "name": "#%%\n"
    }
   }
  },
  {
   "cell_type": "code",
   "execution_count": 93,
   "outputs": [
    {
     "name": "stdout",
     "output_type": "stream",
     "text": [
      "tensor([  4,  20, 128,   6])\n"
     ]
    }
   ],
   "source": [
    "num_matches_pred = torch.tensor([2,100,1327,32])\n",
    "\n",
    "num_to_padding = torch.clip(num_matches_pred*0.2, min=4, max=128).long()\n",
    "print(num_to_padding)"
   ],
   "metadata": {
    "collapsed": false,
    "pycharm": {
     "name": "#%%\n"
    }
   }
  },
  {
   "cell_type": "code",
   "execution_count": 110,
   "outputs": [
    {
     "ename": "RuntimeError",
     "evalue": "random_ expects 'from' to be less than 'to', but got from=1 >= to=1",
     "output_type": "error",
     "traceback": [
      "\u001B[0;31m---------------------------------------------------------------------------\u001B[0m",
      "\u001B[0;31mRuntimeError\u001B[0m                              Traceback (most recent call last)",
      "\u001B[0;32m/tmp/ipykernel_2648/2700918599.py\u001B[0m in \u001B[0;36m<module>\u001B[0;34m\u001B[0m\n\u001B[1;32m      1\u001B[0m \u001B[0mlow\u001B[0m \u001B[0;34m=\u001B[0m \u001B[0;36m1\u001B[0m\u001B[0;34m\u001B[0m\u001B[0;34m\u001B[0m\u001B[0m\n\u001B[1;32m      2\u001B[0m \u001B[0mhigh\u001B[0m \u001B[0;34m=\u001B[0m \u001B[0;36m2\u001B[0m\u001B[0;34m\u001B[0m\u001B[0;34m\u001B[0m\u001B[0m\n\u001B[0;32m----> 3\u001B[0;31m torch.randint(\n\u001B[0m\u001B[1;32m      4\u001B[0m                     \u001B[0mlow\u001B[0m\u001B[0;34m,\u001B[0m\u001B[0;34m\u001B[0m\u001B[0;34m\u001B[0m\u001B[0m\n\u001B[1;32m      5\u001B[0m                     \u001B[0mhigh\u001B[0m\u001B[0;34m-\u001B[0m\u001B[0;36m1\u001B[0m\u001B[0;34m,\u001B[0m\u001B[0;34m\u001B[0m\u001B[0;34m\u001B[0m\u001B[0m\n",
      "\u001B[0;31mRuntimeError\u001B[0m: random_ expects 'from' to be less than 'to', but got from=1 >= to=1"
     ]
    }
   ],
   "source": [
    "low = 1\n",
    "high = 2\n",
    "torch.randint(low,\n",
    "                    high-1,\n",
    "                    (10,))"
   ],
   "metadata": {
    "collapsed": false,
    "pycharm": {
     "name": "#%%\n"
    }
   }
  },
  {
   "cell_type": "code",
   "execution_count": 120,
   "outputs": [
    {
     "name": "stdout",
     "output_type": "stream",
     "text": [
      "torch.Size([1, 3, 3])\n",
      "torch.Size([3, 3])\n"
     ]
    }
   ],
   "source": [
    "theta = torch.tensor([1, 0, 0, 0, 1, 0, 0, 0, 1], dtype=torch.float).view(1, 3, 3)\n",
    "print(theta.shape)\n",
    "theta_inv = torch.tensor([1, 0, 0, 0, 1, 0, 0, 0, 1], dtype=torch.float).view(1, 3, 3).repeat(4, 1, 1)\n",
    "trans = torch.tensor([1, 0, 0, 0, 1, 0, 0, 0, 1], dtype=torch.float).view(1, 3, 3)\n",
    "trans_inverse = trans.inverse()\n",
    "print(theta[0].shape)\n",
    "M = torch.einsum('bij,bjk->bik', theta[0].unsqueeze(0), trans_inverse)[0]"
   ],
   "metadata": {
    "collapsed": false,
    "pycharm": {
     "name": "#%%\n"
    }
   }
  },
  {
   "cell_type": "code",
   "execution_count": null,
   "outputs": [],
   "source": [],
   "metadata": {
    "collapsed": false,
    "pycharm": {
     "name": "#%%\n"
    }
   }
  },
  {
   "cell_type": "code",
   "execution_count": 5,
   "outputs": [
    {
     "name": "stdout",
     "output_type": "stream",
     "text": [
      "torch.Size([256, 25])\n",
      "torch.Size([3317])\n",
      "tensor([0, 0, 0, 0, 0, 0, 0, 0, 0, 0, 0, 1, 1, 1, 1, 1, 1, 1, 1, 1, 1, 1, 1, 2,\n",
      "        2, 2, 2, 2, 2, 2, 2, 2, 2, 3, 3, 3, 3, 3, 3, 3, 3, 3, 3, 3, 3, 3, 3, 3,\n",
      "        3, 4, 4, 4, 4, 4, 4, 4, 4, 4, 4, 5, 5, 5, 5, 5, 5, 5, 5, 5, 5, 5, 5, 6,\n",
      "        6, 6, 6, 6, 6, 6, 6, 6, 6, 6, 6, 6, 6, 7, 7, 7, 7, 7, 7, 7, 7, 7, 7, 7,\n",
      "        8, 8, 8, 8])\n"
     ]
    }
   ],
   "source": [
    "import torch\n",
    "patch_conf_matrix = torch.rand((256,25,25))\n",
    "mask_3d = patch_conf_matrix > 0.0 # N,L,S\n",
    "# 2. mutual nearest, and update the mask index\n",
    "mask_3d = mask_3d * (patch_conf_matrix == patch_conf_matrix.max(dim=2, keepdim=True)[0]) \\\n",
    "       *(patch_conf_matrix == patch_conf_matrix.max(dim=1, keepdim=True)[0])\n",
    "# this only works when at most one `True` in each row\n",
    "mask, all_j_ids = mask_3d.max(dim=2)  # only select the positions in the template meeting the mutual nearest\n",
    "# only select the positions in the template exsiting pixels\n",
    "print(mask.shape)\n",
    "b_ids_patch, i_ids_patch = torch.where(mask)\n",
    "j_ids_patch = all_j_ids[b_ids_patch, i_ids_patch]  # [n]\n",
    "mconf_patch = patch_conf_matrix[b_ids_patch, i_ids_patch, j_ids_patch]\n",
    "print(b_ids_patch.shape)\n",
    "print(b_ids_patch[0:100])"
   ],
   "metadata": {
    "collapsed": false,
    "pycharm": {
     "name": "#%%\n"
    }
   }
  },
  {
   "cell_type": "code",
   "execution_count": 115,
   "outputs": [
    {
     "name": "stdout",
     "output_type": "stream",
     "text": [
      "torch.Size([3, 32, 6, 8])\n",
      "torch.Size([384, 9])\n",
      "torch.Size([384, 9])\n",
      "torch.Size([3, 32, 6, 8])\n",
      "torch.Size([384, 9, 32])\n"
     ]
    }
   ],
   "source": [
    "import torch\n",
    "map = torch.rand(3,32,6,8)\n",
    "f_points = torch.rand(3,128,2).long()\n",
    "print(map.shape)\n",
    "W = 3\n",
    "device = f_points.device\n",
    "# out of bundary\n",
    "# mask = (f_points[:,:,0]>=W//2) * (f_points[:,:,0]<w-W//2) *  (f_points[:,:,1]>=W//2) * (f_points[:,:,0]<w-W//2)\n",
    "b_ids,i_ids = torch.where((f_points[:,:,0]>=0))  #[L]\n",
    "gridX = torch.arange(-W//2+1, W//2+1).view(1, 1, -1).expand(1, W, W).contiguous().reshape(1, -1).to(\n",
    "    device)  # (1,WW)\n",
    "gridY = torch.arange(-W//2+1, W//2+1).view(1, -1, 1).expand(1, W, W).contiguous().reshape(1, -1).to(\n",
    "    device)  # (1,WW)\n",
    "y_ids = f_points[b_ids,i_ids,1][:,None] + gridY  #(L,W*W)\n",
    "x_ids = f_points[b_ids,i_ids,0][:,None] + gridX  #(L,W*W)\n",
    "print(y_ids.shape)\n",
    "b_ids = b_ids[:,None].repeat(1,W*W)\n",
    "\n",
    "print(b_ids.shape)\n",
    "print(map.shape)\n",
    "feat_f0_sample = map[b_ids,:,y_ids, x_ids]  # [L,W*W,C]\n",
    "#\n",
    "print(feat_f0_sample.shape)\n"
   ],
   "metadata": {
    "collapsed": false,
    "pycharm": {
     "name": "#%%\n"
    }
   }
  },
  {
   "cell_type": "code",
   "execution_count": 129,
   "outputs": [
    {
     "name": "stdout",
     "output_type": "stream",
     "text": [
      "tensor([[0.5818, 0.7667, 0.4350, 0.6056, 0.1707],\n",
      "        [0.8674, 0.0578, 0.7170, 0.8106, 0.5487],\n",
      "        [0.8520, 0.8133, 0.6355, 0.9329, 0.1595],\n",
      "        [0.2666, 0.4421, 0.6924, 0.7487, 0.6637],\n",
      "        [0.3825, 0.9347, 0.1238, 0.7860, 0.3253]])\n",
      "tensor([[2, 0, 3],\n",
      "        [1, 2, 3]])\n",
      "torch.Size([2, 3])\n",
      "torch.Size([2, 3, 5])\n"
     ]
    }
   ],
   "source": [
    "c = torch.rand(5,5)\n",
    "print(c)\n",
    "index = torch.tensor([[2,0,3],[1,2,3]])\n",
    "print(index)\n",
    "print(index.shape)\n",
    "print(c[index, :].shape)\n"
   ],
   "metadata": {
    "collapsed": false,
    "pycharm": {
     "name": "#%%\n"
    }
   }
  },
  {
   "cell_type": "code",
   "execution_count": 19,
   "outputs": [
    {
     "name": "stdout",
     "output_type": "stream",
     "text": [
      "105020\n"
     ]
    },
    {
     "ename": "ValueError",
     "evalue": "slice step cannot be zero",
     "output_type": "error",
     "traceback": [
      "\u001B[0;31m---------------------------------------------------------------------------\u001B[0m",
      "\u001B[0;31mValueError\u001B[0m                                Traceback (most recent call last)",
      "\u001B[0;32m/tmp/ipykernel_26195/1833064998.py\u001B[0m in \u001B[0;36m<module>\u001B[0;34m\u001B[0m\n\u001B[1;32m    177\u001B[0m     \u001B[0mpath_image\u001B[0m \u001B[0;34m=\u001B[0m \u001B[0mpath_mask_list_test\u001B[0m\u001B[0;34m[\u001B[0m\u001B[0mi\u001B[0m\u001B[0;34m]\u001B[0m\u001B[0;34m\u001B[0m\u001B[0;34m\u001B[0m\u001B[0m\n\u001B[1;32m    178\u001B[0m     \u001B[0mpath_mask\u001B[0m \u001B[0;34m=\u001B[0m \u001B[0mpath_image\u001B[0m\u001B[0;34m.\u001B[0m\u001B[0mreplace\u001B[0m\u001B[0;34m(\u001B[0m\u001B[0;34m'/images'\u001B[0m\u001B[0;34m,\u001B[0m \u001B[0;34m'/masks'\u001B[0m\u001B[0;34m)\u001B[0m\u001B[0;34m.\u001B[0m\u001B[0mreplace\u001B[0m\u001B[0;34m(\u001B[0m\u001B[0;34m'.jpg'\u001B[0m\u001B[0;34m,\u001B[0m\u001B[0;34m'.png'\u001B[0m\u001B[0;34m)\u001B[0m\u001B[0;34m\u001B[0m\u001B[0;34m\u001B[0m\u001B[0m\n\u001B[0;32m--> 179\u001B[0;31m     \u001B[0mdeal_sample\u001B[0m\u001B[0;34m(\u001B[0m\u001B[0mpath_mask\u001B[0m\u001B[0;34m,\u001B[0m \u001B[0mpath_image\u001B[0m\u001B[0;34m,\u001B[0m \u001B[0mstr\u001B[0m\u001B[0;34m(\u001B[0m\u001B[0mcnt\u001B[0m\u001B[0;34m//\u001B[0m\u001B[0mnum_type\u001B[0m\u001B[0;34m)\u001B[0m\u001B[0;34m,\u001B[0m \u001B[0mcnt\u001B[0m\u001B[0;34m%\u001B[0m\u001B[0mnum_type\u001B[0m\u001B[0;34m)\u001B[0m\u001B[0;34m\u001B[0m\u001B[0;34m\u001B[0m\u001B[0m\n\u001B[0m\u001B[1;32m    180\u001B[0m     \u001B[0mcnt\u001B[0m \u001B[0;34m+=\u001B[0m \u001B[0;36m1\u001B[0m\u001B[0;34m\u001B[0m\u001B[0;34m\u001B[0m\u001B[0m\n",
      "\u001B[0;32m/tmp/ipykernel_26195/1833064998.py\u001B[0m in \u001B[0;36mdeal_sample\u001B[0;34m(path_mask, path_image, data_type, cnt)\u001B[0m\n\u001B[1;32m    156\u001B[0m     \u001B[0mimage_mask\u001B[0m \u001B[0;34m=\u001B[0m \u001B[0mcv2\u001B[0m\u001B[0;34m.\u001B[0m\u001B[0mimread\u001B[0m\u001B[0;34m(\u001B[0m\u001B[0mpath_mask\u001B[0m\u001B[0;34m,\u001B[0m \u001B[0;36m0\u001B[0m\u001B[0;34m)\u001B[0m\u001B[0;34m\u001B[0m\u001B[0;34m\u001B[0m\u001B[0m\n\u001B[1;32m    157\u001B[0m     \u001B[0mimage_save_dir\u001B[0m \u001B[0;34m=\u001B[0m \u001B[0;34m'/home/gzr/Data/coco/coco_dataset/'\u001B[0m \u001B[0;34m+\u001B[0m \u001B[0mdata_type\u001B[0m \u001B[0;34m+\u001B[0m \u001B[0;34m'/images/training/'\u001B[0m\u001B[0;34m\u001B[0m\u001B[0;34m\u001B[0m\u001B[0m\n\u001B[0;32m--> 158\u001B[0;31m     \u001B[0msave_data\u001B[0m\u001B[0;34m(\u001B[0m\u001B[0mimage_save_dir\u001B[0m\u001B[0;34m,\u001B[0m \u001B[0mimage\u001B[0m\u001B[0;34m,\u001B[0m \u001B[0mimage_mask\u001B[0m\u001B[0;34m,\u001B[0m \u001B[0mcnt\u001B[0m\u001B[0;34m)\u001B[0m\u001B[0;34m\u001B[0m\u001B[0;34m\u001B[0m\u001B[0m\n\u001B[0m\u001B[1;32m    159\u001B[0m \u001B[0;34m\u001B[0m\u001B[0m\n\u001B[1;32m    160\u001B[0m \u001B[0;34m\u001B[0m\u001B[0m\n",
      "\u001B[0;32m/tmp/ipykernel_26195/1833064998.py\u001B[0m in \u001B[0;36msave_data\u001B[0;34m(image_save_dir, image, image_mask, cnt, resize)\u001B[0m\n\u001B[1;32m    146\u001B[0m     \u001B[0mnp\u001B[0m\u001B[0;34m.\u001B[0m\u001B[0msave\u001B[0m\u001B[0;34m(\u001B[0m\u001B[0mos\u001B[0m\u001B[0;34m.\u001B[0m\u001B[0mpath\u001B[0m\u001B[0;34m.\u001B[0m\u001B[0mjoin\u001B[0m\u001B[0;34m(\u001B[0m\u001B[0mtrans_save_dir\u001B[0m\u001B[0;34m,\u001B[0m \u001B[0mstr\u001B[0m\u001B[0;34m(\u001B[0m\u001B[0mcnt\u001B[0m\u001B[0;34m)\u001B[0m \u001B[0;34m+\u001B[0m \u001B[0;34m'_trans.npy'\u001B[0m\u001B[0;34m)\u001B[0m\u001B[0;34m,\u001B[0m \u001B[0mM_trans\u001B[0m\u001B[0;34m)\u001B[0m\u001B[0;34m\u001B[0m\u001B[0;34m\u001B[0m\u001B[0m\n\u001B[1;32m    147\u001B[0m \u001B[0;34m\u001B[0m\u001B[0m\n\u001B[0;32m--> 148\u001B[0;31m     \u001B[0mtemplate_points\u001B[0m \u001B[0;34m=\u001B[0m \u001B[0mget_external_contours_points_sample\u001B[0m\u001B[0;34m(\u001B[0m\u001B[0mtemplate\u001B[0m\u001B[0;34m,\u001B[0m \u001B[0;36m20\u001B[0m\u001B[0;34m)\u001B[0m\u001B[0;34m\u001B[0m\u001B[0;34m\u001B[0m\u001B[0m\n\u001B[0m\u001B[1;32m    149\u001B[0m     \u001B[0mnp\u001B[0m\u001B[0;34m.\u001B[0m\u001B[0msave\u001B[0m\u001B[0;34m(\u001B[0m\u001B[0mos\u001B[0m\u001B[0;34m.\u001B[0m\u001B[0mpath\u001B[0m\u001B[0;34m.\u001B[0m\u001B[0mjoin\u001B[0m\u001B[0;34m(\u001B[0m\u001B[0mpoint_save_dir\u001B[0m\u001B[0;34m,\u001B[0m \u001B[0mstr\u001B[0m\u001B[0;34m(\u001B[0m\u001B[0mcnt\u001B[0m\u001B[0;34m)\u001B[0m \u001B[0;34m+\u001B[0m \u001B[0;34m'_template.npy'\u001B[0m\u001B[0;34m)\u001B[0m\u001B[0;34m,\u001B[0m \u001B[0mtemplate_points\u001B[0m\u001B[0;34m)\u001B[0m\u001B[0;34m\u001B[0m\u001B[0;34m\u001B[0m\u001B[0m\n\u001B[1;32m    150\u001B[0m     \u001B[0mwarp_image_Homo\u001B[0m\u001B[0;34m(\u001B[0m\u001B[0mos\u001B[0m\u001B[0;34m.\u001B[0m\u001B[0mpath\u001B[0m\u001B[0;34m.\u001B[0m\u001B[0mjoin\u001B[0m\u001B[0;34m(\u001B[0m\u001B[0mimage_save_dir\u001B[0m\u001B[0;34m,\u001B[0m \u001B[0mstr\u001B[0m\u001B[0;34m(\u001B[0m\u001B[0mcnt\u001B[0m\u001B[0;34m)\u001B[0m \u001B[0;34m+\u001B[0m \u001B[0;34m'.png'\u001B[0m\u001B[0;34m)\u001B[0m\u001B[0;34m,\u001B[0m\u001B[0mimage\u001B[0m\u001B[0;34m,\u001B[0m\u001B[0mH\u001B[0m\u001B[0;34m=\u001B[0m\u001B[0mimage\u001B[0m\u001B[0;34m.\u001B[0m\u001B[0mshape\u001B[0m\u001B[0;34m[\u001B[0m\u001B[0;36m0\u001B[0m\u001B[0;34m]\u001B[0m\u001B[0;34m,\u001B[0m\u001B[0mW\u001B[0m \u001B[0;34m=\u001B[0m \u001B[0mimage\u001B[0m\u001B[0;34m.\u001B[0m\u001B[0mshape\u001B[0m\u001B[0;34m[\u001B[0m\u001B[0;36m1\u001B[0m\u001B[0;34m]\u001B[0m\u001B[0;34m)\u001B[0m\u001B[0;34m\u001B[0m\u001B[0;34m\u001B[0m\u001B[0m\n",
      "\u001B[0;32m/tmp/ipykernel_26195/1833064998.py\u001B[0m in \u001B[0;36mget_external_contours_points_sample\u001B[0;34m(image, num_point)\u001B[0m\n\u001B[1;32m    108\u001B[0m \u001B[0;34m\u001B[0m\u001B[0m\n\u001B[1;32m    109\u001B[0m     \u001B[0mgap\u001B[0m \u001B[0;34m=\u001B[0m \u001B[0mxcnts\u001B[0m\u001B[0;34m.\u001B[0m\u001B[0mshape\u001B[0m\u001B[0;34m[\u001B[0m\u001B[0;36m0\u001B[0m\u001B[0;34m]\u001B[0m \u001B[0;34m//\u001B[0m \u001B[0mnum_point\u001B[0m\u001B[0;34m\u001B[0m\u001B[0;34m\u001B[0m\u001B[0m\n\u001B[0;32m--> 110\u001B[0;31m     \u001B[0mxcnts\u001B[0m \u001B[0;34m=\u001B[0m \u001B[0mxcnts\u001B[0m\u001B[0;34m[\u001B[0m\u001B[0;34m:\u001B[0m\u001B[0mnum_point\u001B[0m \u001B[0;34m*\u001B[0m \u001B[0mgap\u001B[0m\u001B[0;34m:\u001B[0m\u001B[0mgap\u001B[0m\u001B[0;34m,\u001B[0m \u001B[0;34m:\u001B[0m\u001B[0;34m]\u001B[0m\u001B[0;34m\u001B[0m\u001B[0;34m\u001B[0m\u001B[0m\n\u001B[0m\u001B[1;32m    111\u001B[0m     \u001B[0;32mreturn\u001B[0m \u001B[0mxcnts\u001B[0m\u001B[0;34m\u001B[0m\u001B[0;34m\u001B[0m\u001B[0m\n\u001B[1;32m    112\u001B[0m \u001B[0;34m\u001B[0m\u001B[0m\n",
      "\u001B[0;31mValueError\u001B[0m: slice step cannot be zero"
     ]
    }
   ],
   "source": [
    "import os\n",
    "import cv2\n",
    "import numpy as np\n",
    "import random\n",
    "import imgaug.augmenters as iaa\n",
    "np.random.seed(66)\n",
    "random.seed(66)\n",
    "\n",
    "image_base_1 = '/home/gzr/Data/coco/raw_data/val_dataset/'\n",
    "image_base_2 = '/home/gzr/Data/coco/raw_data/train_dataset/'\n",
    "W, H = 640, 480\n",
    "\n",
    "\n",
    "def get_range_random(min_=0.9, max_=1.1):\n",
    "    return random.random() * (max_ - min_) + min_\n",
    "\n",
    "\n",
    "def mkdir(path):\n",
    "    if not os.path.exists(path):\n",
    "        os.makedirs(path)\n",
    "\n",
    "def TwoPointRandInterP(p1,p2):\n",
    "    v = (p2[0]-p1[0], p2[1]-p1[1])\n",
    "    rr = random.random()\n",
    "    v = (v[0]*rr, v[1]*rr)\n",
    "    v = (int(v[0]+0.5), int(v[1]+0.5))\n",
    "    return (p1[0]+v[0], p1[1]+v[1])\n",
    "\n",
    "\n",
    "def positive_or_negative():\n",
    "  if random.random() < 0.5:\n",
    "    return 1\n",
    "  else:\n",
    "    return -1\n",
    "\n",
    "def get_newpoint_between(p1, p2):\n",
    "  v = (p2[0] - p1[0], p2[1] - p1[1])\n",
    "  rr = random.random()\n",
    "  v = (v[0] * rr, v[1] * rr)\n",
    "\n",
    "  return ( round(p1[0]+positive_or_negative() * v[0]), round(p1[1]+ positive_or_negative() * v[1]))\n",
    "\n",
    "def get_external_contours_points(image):\n",
    "    \"\"\"\n",
    "    :param image: (H,W)\n",
    "    :return: (N,2)\n",
    "    \"\"\"\n",
    "    assert (len(image.shape) == 2)\n",
    "    ret, binary = cv2.threshold(image, 127, 255, cv2.THRESH_BINARY)\n",
    "    contours, hierarchy = cv2.findContours(binary, cv2.RETR_EXTERNAL, cv2.CHAIN_APPROX_NONE)\n",
    "    xcnts = np.vstack([x.reshape(-1, 2) for x in contours])\n",
    "\n",
    "    # gap = xcnts.shape[0] // num_point\n",
    "    # xcnts = xcnts[:num_point * gap:gap, :]\n",
    "    return xcnts\n",
    "\n",
    "def RPTransform(w,h):\n",
    "    ratio = 0.1\n",
    "    c_c = ratio * w\n",
    "    d_d = ratio * h\n",
    "\n",
    "    A = (0,0)\n",
    "    B = (0,h-1)\n",
    "    C = (w-1,h-1)\n",
    "    D = (w-1,0)\n",
    "\n",
    "    a = (c_c,d_d)\n",
    "    b = (c_c, h-1-d_d)\n",
    "    c = (w-1-c_c, h-1-d_d)\n",
    "    d = (w-1-c_c, d_d)\n",
    "\n",
    "    At = get_newpoint_between(A, a)\n",
    "    Bt = get_newpoint_between(B, b)\n",
    "    Ct = get_newpoint_between(C, c)\n",
    "    Dt = get_newpoint_between(D, d)\n",
    "\n",
    "    Pts0 = np.array([(0, 0), (0, h), (w, h), (w, 0)]).astype('float32')\n",
    "    Pts1 = np.array([At, Bt, Ct, Dt]).astype('float32')\n",
    "    H = cv2.getPerspectiveTransform(Pts0, Pts1)\n",
    "    return H\n",
    "\n",
    "def warp_image_Homo(path,image, H=480, W=640):\n",
    "    Homo = RPTransform(w=H, h=W)\n",
    "    img = image # cv2.imread(path)\n",
    "\n",
    "    img_homo = cv2.warpPerspective(img, Homo, (W, H))\n",
    "    homo_path = path.replace('.png', '_homo.png')\n",
    "    cv2.imwrite(homo_path, img_homo)\n",
    "\n",
    "    path_trans = path.replace('images', 'trans')\n",
    "    path_trans = path_trans.replace('.png', '_trans.npy')\n",
    "    M = np.load(path_trans)\n",
    "    Homo_M = np.matmul(Homo, M)\n",
    "    Homo_M = Homo_M/Homo_M[2][2] # template -> img\n",
    "    path_trans_homo = path_trans.replace('trans.npy', 'trans_homo.npy')\n",
    "    np.save(path_trans_homo, Homo_M)\n",
    "    return Homo_M\n",
    "\n",
    "def get_external_contours_points_sample(image, num_point):\n",
    "    \"\"\"\n",
    "    :param image: (H,W)\n",
    "    :return: (N,2)\n",
    "    \"\"\"\n",
    "    assert (len(image.shape) == 2)\n",
    "    ret, binary = cv2.threshold(image, 127, 255, cv2.THRESH_BINARY)\n",
    "    contours, hierarchy = cv2.findContours(binary, cv2.RETR_EXTERNAL, cv2.CHAIN_APPROX_NONE)\n",
    "    xcnts = np.vstack([x.reshape(-1, 2) for x in contours])\n",
    "\n",
    "    gap = xcnts.shape[0] // num_point\n",
    "    xcnts = xcnts[:num_point * gap:gap, :]\n",
    "    return xcnts\n",
    "\n",
    "def save_data(image_save_dir, image, image_mask, cnt, resize=True):\n",
    "    point_save_dir = image_save_dir.replace('images', 'points')\n",
    "    trans_save_dir = image_save_dir.replace('images', 'trans')\n",
    "    mkdir(image_save_dir)\n",
    "    mkdir(point_save_dir)\n",
    "    mkdir(trans_save_dir)\n",
    "\n",
    "    # 2. resize data\n",
    "    if resize:\n",
    "        scale = [W / image.shape[1], H / image.shape[0]]  # x,y\n",
    "        image_mask = cv2.resize(image_mask, dsize=(W, H))\n",
    "        image = cv2.resize(image, dsize=(W, H))\n",
    "        w, h = image_mask.shape[1], image_mask.shape[0]\n",
    "    else:\n",
    "        assert image[:,:,0].shape == image_mask.shape\n",
    "        w, h = image_mask.shape[1], image_mask.shape[0]\n",
    "\n",
    "\n",
    "    points = get_external_contours_points(image_mask)\n",
    "    center = np.mean(points, axis=0)\n",
    "    random_scale = get_range_random(min_=0.9, max_=1.1)\n",
    "    random_angel = get_range_random(min_=-45, max_=45)\n",
    "    M = cv2.getRotationMatrix2D(center, angle=random_angel, scale=random_scale)\n",
    "    raw_add = np.array([0, 0, 1])\n",
    "    M = np.r_[M, [raw_add]]\n",
    "    translate = [w / 2 - center[0], h / 2 - center[1]]\n",
    "    M[0, 2] += translate[0]\n",
    "    M[1, 2] += translate[1]\n",
    "    M_trans = np.linalg.inv(M)  #\n",
    "\n",
    "    template = cv2.warpAffine(src=image_mask, M=M[0:2], dsize=(w, h))\n",
    "    # cv2.imwrite(os.path.join(image_save_dir, str(cnt) + '.png'), image)\n",
    "    cv2.imwrite(os.path.join(image_save_dir, str(cnt) + '_template.png'), template)\n",
    "    np.save(os.path.join(trans_save_dir, str(cnt) + '_trans.npy'), M_trans)\n",
    "\n",
    "    template_points = get_external_contours_points_sample(template, 20)\n",
    "    np.save(os.path.join(point_save_dir, str(cnt) + '_template.npy'), template_points)\n",
    "    warp_image_Homo(os.path.join(image_save_dir, str(cnt) + '.png'),image,H=image.shape[0],W = image.shape[1])\n",
    "\n",
    "def deal_sample(path_mask, path_image, data_type, cnt):\n",
    "\n",
    "    # raw_image\n",
    "    image = cv2.imread(path_image)\n",
    "    image_mask = cv2.imread(path_mask, 0)\n",
    "    image_save_dir = '/home/gzr/Data/coco/coco_dataset/' + data_type + '/images/training/'\n",
    "    save_data(image_save_dir, image, image_mask, cnt)\n",
    "\n",
    "\n",
    "\n",
    "num_test = 50000\n",
    "num_type= num_test//4\n",
    "path_image_list = []\n",
    "dir_images = image_base_2 + 'images/'\n",
    "files = os.listdir(dir_images)\n",
    "for file in files:\n",
    "    path_image = os.path.join(dir_images, file)\n",
    "    path_image_list.append(path_image)\n",
    "\n",
    "print(len(path_image_list))\n",
    "np.random.shuffle(path_image_list)\n",
    "path_mask_list_test = path_image_list[0:num_test]\n",
    "cnt = 0\n",
    "\n",
    "for i in range(len(path_mask_list_test)):\n",
    "    path_image = path_mask_list_test[i]\n",
    "    path_mask = path_image.replace('/images', '/masks').replace('.jpg','.png')\n",
    "    deal_sample(path_mask, path_image, str(cnt//num_type), cnt%num_type)\n",
    "    cnt += 1"
   ],
   "metadata": {
    "collapsed": false,
    "pycharm": {
     "name": "#%%\n"
    }
   }
  },
  {
   "cell_type": "code",
   "execution_count": 35,
   "outputs": [
    {
     "name": "stdout",
     "output_type": "stream",
     "text": [
      "torch.Size([4, 4, 2])\n",
      "tensor([[[   0.,    0.],\n",
      "         [1280.,    0.],\n",
      "         [   0.,  960.],\n",
      "         [1280.,  960.]],\n",
      "\n",
      "        [[   0.,    0.],\n",
      "         [ 640.,    0.],\n",
      "         [   0.,  480.],\n",
      "         [ 640.,  480.]],\n",
      "\n",
      "        [[   0.,    0.],\n",
      "         [ 640.,    0.],\n",
      "         [   0.,  480.],\n",
      "         [ 640.,  480.]],\n",
      "\n",
      "        [[   0.,    0.],\n",
      "         [ 640.,    0.],\n",
      "         [   0.,  480.],\n",
      "         [ 640.,  480.]]])\n"
     ]
    }
   ],
   "source": [
    "import numpy as np\n",
    "import torch\n",
    "court_poi = torch.tensor([[0,0],[640,0],[0,480],[640,480.0]]).unsqueeze(0).repeat(4,1,1)\n",
    "# print(court_poi)\n",
    "print(court_poi.shape)\n",
    "import kornia\n",
    "points_1 = court_poi  # BxNx3\n",
    "trans_01 = torch.eye(3).view(1, 3, 3).repeat(4,1,1)  # Bx4x4\n",
    "trans_01[0][0][0]=2\n",
    "trans_01[0][1][1]=2\n",
    "points_0 = kornia.geometry.linalg.transform_points(trans_01, points_1)  # BxNx3\n",
    "print(points_0)"
   ],
   "metadata": {
    "collapsed": false,
    "pycharm": {
     "name": "#%%\n"
    }
   }
  },
  {
   "cell_type": "code",
   "execution_count": null,
   "outputs": [],
   "source": [],
   "metadata": {
    "collapsed": false,
    "pycharm": {
     "name": "#%%\n"
    }
   }
  }
 ],
 "metadata": {
  "kernelspec": {
   "display_name": "Python 3",
   "language": "python",
   "name": "python3"
  },
  "language_info": {
   "codemirror_mode": {
    "name": "ipython",
    "version": 2
   },
   "file_extension": ".py",
   "mimetype": "text/x-python",
   "name": "python",
   "nbconvert_exporter": "python",
   "pygments_lexer": "ipython2",
   "version": "2.7.6"
  }
 },
 "nbformat": 4,
 "nbformat_minor": 0
}