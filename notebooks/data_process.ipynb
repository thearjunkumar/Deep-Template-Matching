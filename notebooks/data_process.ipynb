{
 "cells": [
  {
   "cell_type": "code",
   "execution_count": 1,
   "outputs": [],
   "source": [
    "from PIL import Image\n",
    "import numpy as np\n",
    "import os\n",
    "\n",
    "def crop_image(image, padding=50):\n",
    "    \"\"\"\n",
    "    crop the black block\n",
    "    :param image:(H,W)\n",
    "    :param padding:int\n",
    "    :return:image:(H_,W_) bias [x,y]\n",
    "    \"\"\"\n",
    "    assert (len(image.shape)==2)\n",
    "    H, W = image.shape[0],image.shape[1]\n",
    "    ind = list(np.nonzero(image))\n",
    "    max_y,min_y = int(np.max(ind[0])),int(np.min(ind[0]))\n",
    "    max_x,min_x = int(np.max(ind[1])),int(np.min(ind[1]))\n",
    "    min_x = max(min_x-padding,0)\n",
    "    min_y = max(min_y-padding,0)\n",
    "    max_x = min((max_x+padding),W)\n",
    "    max_y = min((max_y+padding),H)\n",
    "    cropped = image[min_y:max_y, min_x:max_x]\n",
    "    bias = np.array([min_x,min_y])\n",
    "    return cropped,bias\n",
    "\n",
    "\n",
    "def get_contours_points(image):\n",
    "    \"\"\"\n",
    "    :param image: (H,W)\n",
    "    :return: (N,2)\n",
    "    \"\"\"\n",
    "    assert (len(image.shape)==2)\n",
    "    ret, binary = cv2.threshold(image,127,255,cv2.THRESH_BINARY)\n",
    "    contours, hierarchy = cv2.findContours(binary,cv2.RETR_LIST,cv2.CHAIN_APPROX_NONE)\n",
    "    xcnts = np.vstack((x.reshape(-1,2) for x in contours))\n",
    "    return xcnts\n"
   ],
   "metadata": {
    "collapsed": false,
    "pycharm": {
     "name": "#%%\n"
    }
   }
  },
  {
   "cell_type": "code",
   "execution_count": 2,
   "outputs": [
    {
     "name": "stdout",
     "output_type": "stream",
     "text": [
      "2\n"
     ]
    },
    {
     "name": "stderr",
     "output_type": "stream",
     "text": [
      "/tmp/ipykernel_23075/563374039.py:34: FutureWarning: arrays to stack must be passed as a \"sequence\" type such as list or tuple. Support for non-sequence iterables such as generators is deprecated as of NumPy 1.16 and will raise an error in the future.\n",
      "  xcnts = np.vstack((x.reshape(-1,2) for x in contours))\n"
     ]
    },
    {
     "data": {
      "text/plain": "<Figure size 432x288 with 1 Axes>",
      "image/png": "[encoded data removed]"
     },
     "metadata": {
      "needs_background": "light"
     },
     "output_type": "display_data"
    },
    {
     "data": {
      "text/plain": "True"
     },
     "execution_count": 2,
     "metadata": {},
     "output_type": "execute_result"
    }
   ],
   "source": [
    "# 0：black 1:white\n",
    "\n",
    "import os.path\n",
    "import matplotlib.pyplot as plt\n",
    "import cv2\n",
    "import torch\n",
    "from src.dataset.linemod_2d import read_scannet_gray\n",
    "from src.utils.plotting import make_matching_figure\n",
    "data_dir = \"/home/gzr/Data/linemod_2d/DATA/steel\"\n",
    "image_id = \"00000\"\n",
    "image_dir = os.path.join(data_dir,image_id)\n",
    "image_path = os.path.join(image_dir,'matchedMask.jpg')\n",
    "\n",
    "\n",
    "img_mask = cv2.imread(image_path, cv2.IMREAD_GRAYSCALE)\n",
    "contours_points = get_contours_points(img_mask)\n",
    "\n",
    "img_mask ,bias = crop_image(img_mask, padding=20)\n",
    "\n",
    "\n",
    "# print(img_mask.shape)\n",
    "# img_mask = cv2.resize(img_mask, (400,200))\n",
    "img_mask = cv2.cvtColor(img_mask, cv2.COLOR_BGR2RGB)\n",
    "print(len(bias))\n",
    "np.savetxt(os.path.join(image_dir,'bias.txt'),bias,fmt='%i')\n",
    "\n",
    "plt.imshow(img_mask)\n",
    "plt.show()\n",
    "cv2.imwrite(os.path.join(image_dir,'template.jpg'),img_mask)\n",
    "\n",
    "\n"
   ],
   "metadata": {
    "collapsed": false,
    "pycharm": {
     "name": "#%%\n"
    }
   }
  },
  {
   "cell_type": "code",
   "execution_count": 143,
   "outputs": [
    {
     "ename": "AttributeError",
     "evalue": "'NoneType' object has no attribute 'shape'",
     "output_type": "error",
     "traceback": [
      "\u001B[0;31m---------------------------------------------------------------------------\u001B[0m",
      "\u001B[0;31mAttributeError\u001B[0m                            Traceback (most recent call last)",
      "\u001B[0;32m/tmp/ipykernel_3228/2824106850.py\u001B[0m in \u001B[0;36m<module>\u001B[0;34m\u001B[0m\n\u001B[1;32m     11\u001B[0m \u001B[0mimage\u001B[0m \u001B[0;34m=\u001B[0m \u001B[0mcv2\u001B[0m\u001B[0;34m.\u001B[0m\u001B[0mimread\u001B[0m\u001B[0;34m(\u001B[0m\u001B[0mimage_path\u001B[0m\u001B[0;34m,\u001B[0m \u001B[0mcv2\u001B[0m\u001B[0;34m.\u001B[0m\u001B[0mIMREAD_GRAYSCALE\u001B[0m\u001B[0;34m)\u001B[0m\u001B[0;34m\u001B[0m\u001B[0;34m\u001B[0m\u001B[0m\n\u001B[1;32m     12\u001B[0m \u001B[0mimg_size\u001B[0m  \u001B[0;34m=\u001B[0m \u001B[0;36m512\u001B[0m\u001B[0;34m\u001B[0m\u001B[0;34m\u001B[0m\u001B[0m\n\u001B[0;32m---> 13\u001B[0;31m image0, mask0, scale0 = read_megadepth_gray(\n\u001B[0m\u001B[1;32m     14\u001B[0m             mask_path, img_size, None, True, None)\n\u001B[1;32m     15\u001B[0m \u001B[0;34m\u001B[0m\u001B[0m\n",
      "\u001B[0;32m~/workspace/Template_Matching/src/utils/dataset.py\u001B[0m in \u001B[0;36mread_megadepth_gray\u001B[0;34m(path, resize, df, padding, augment_fn)\u001B[0m\n\u001B[1;32m    107\u001B[0m \u001B[0;34m\u001B[0m\u001B[0m\n\u001B[1;32m    108\u001B[0m     \u001B[0;31m# resize image\u001B[0m\u001B[0;34m\u001B[0m\u001B[0;34m\u001B[0m\u001B[0;34m\u001B[0m\u001B[0m\n\u001B[0;32m--> 109\u001B[0;31m     \u001B[0mw\u001B[0m\u001B[0;34m,\u001B[0m \u001B[0mh\u001B[0m \u001B[0;34m=\u001B[0m \u001B[0mimage\u001B[0m\u001B[0;34m.\u001B[0m\u001B[0mshape\u001B[0m\u001B[0;34m[\u001B[0m\u001B[0;36m1\u001B[0m\u001B[0;34m]\u001B[0m\u001B[0;34m,\u001B[0m \u001B[0mimage\u001B[0m\u001B[0;34m.\u001B[0m\u001B[0mshape\u001B[0m\u001B[0;34m[\u001B[0m\u001B[0;36m0\u001B[0m\u001B[0;34m]\u001B[0m\u001B[0;34m\u001B[0m\u001B[0;34m\u001B[0m\u001B[0m\n\u001B[0m\u001B[1;32m    110\u001B[0m     \u001B[0mw_new\u001B[0m\u001B[0;34m,\u001B[0m \u001B[0mh_new\u001B[0m \u001B[0;34m=\u001B[0m \u001B[0mget_resized_wh\u001B[0m\u001B[0;34m(\u001B[0m\u001B[0mw\u001B[0m\u001B[0;34m,\u001B[0m \u001B[0mh\u001B[0m\u001B[0;34m,\u001B[0m \u001B[0mresize\u001B[0m\u001B[0;34m)\u001B[0m\u001B[0;34m\u001B[0m\u001B[0;34m\u001B[0m\u001B[0m\n\u001B[1;32m    111\u001B[0m     \u001B[0mw_new\u001B[0m\u001B[0;34m,\u001B[0m \u001B[0mh_new\u001B[0m \u001B[0;34m=\u001B[0m \u001B[0mget_divisible_wh\u001B[0m\u001B[0;34m(\u001B[0m\u001B[0mw_new\u001B[0m\u001B[0;34m,\u001B[0m \u001B[0mh_new\u001B[0m\u001B[0;34m,\u001B[0m \u001B[0mdf\u001B[0m\u001B[0;34m)\u001B[0m\u001B[0;34m\u001B[0m\u001B[0;34m\u001B[0m\u001B[0m\n",
      "\u001B[0;31mAttributeError\u001B[0m: 'NoneType' object has no attribute 'shape'"
     ]
    }
   ],
   "source": [
    "from src.utils.dataset import read_megadepth_gray, read_megadepth_depth,pad_bottom_right\n",
    "import matplotlib.cm as cm\n",
    "data_dir = \"/home/gzr/Data/linemod_2d/DATA/steel\"\n",
    "image_id = \"00003\"\n",
    "image_dir = os.path.join(data_dir,image_id)\n",
    "\n",
    "mask_path = os.path.join(image_dir,'template.jpg')\n",
    "image_path = os.path.join(image_dir,'localObjImg.jpg')\n",
    "\n",
    "mask = cv2.imread(mask_path, cv2.IMREAD_GRAYSCALE)\n",
    "image = cv2.imread(image_path, cv2.IMREAD_GRAYSCALE)\n",
    "img_size  = 512\n",
    "image0, mask0, scale0 = read_megadepth_gray(\n",
    "            mask_path, img_size, None, True, None)\n",
    "\n",
    "\n",
    "image1, mask1, scale1 = read_megadepth_gray(\n",
    "            image_path, img_size, None, True, None)\n",
    "\n",
    "image0 = cv2.resize(mask,dsize=(0,0),fx=1/float(scale1[0]),fy=1/float(scale1[1]))\n",
    "image0, mask = pad_bottom_right(image0, img_size, ret_mask=True)\n",
    "\n",
    "print(image0.shape)\n",
    "bias = np.loadtxt(os.path.join(image_dir,'bias.txt'))\n",
    "\n",
    "mkpts0 = np.array([[310,25],[10,30]]) # x,y\n",
    "mkpts1 = mkpts0 + [bias[0]/scale1[0],bias[1]/scale1[1]]\n",
    "mconf = [0.2,1]\n",
    "color = cm.jet(mconf)\n",
    "print(scale1)\n",
    "# fig = make_matching_figure(mask, image, mkpts0, mkpts1, color)\n",
    "fig = make_matching_figure(image0.squeeze(), image1.squeeze(), mkpts0, mkpts1, color)\n",
    "plt.savefig(os.path.join(image_dir,'a.jpg'), bbox_inches='tight', pad_inches=0,figsize=(1000,1000))\n",
    "plt.close()\n",
    "fig\n"
   ],
   "metadata": {
    "collapsed": false,
    "pycharm": {
     "name": "#%%\n"
    }
   }
  },
  {
   "cell_type": "code",
   "execution_count": 1,
   "outputs": [
    {
     "name": "stdout",
     "output_type": "stream",
     "text": [
      "00000 \t\n"
     ]
    },
    {
     "ename": "AttributeError",
     "evalue": "'NoneType' object has no attribute 'shape'",
     "output_type": "error",
     "traceback": [
      "\u001B[0;31m---------------------------------------------------------------------------\u001B[0m",
      "\u001B[0;31mAttributeError\u001B[0m                            Traceback (most recent call last)",
      "\u001B[0;32m/tmp/ipykernel_6666/1631860166.py\u001B[0m in \u001B[0;36m<module>\u001B[0;34m\u001B[0m\n\u001B[1;32m     46\u001B[0m     \u001B[0mimage_id\u001B[0m \u001B[0;34m=\u001B[0m \u001B[0;34mf'{i:05d}'\u001B[0m\u001B[0;34m\u001B[0m\u001B[0;34m\u001B[0m\u001B[0m\n\u001B[1;32m     47\u001B[0m     \u001B[0mprint\u001B[0m\u001B[0;34m(\u001B[0m\u001B[0mimage_id\u001B[0m\u001B[0;34m,\u001B[0m\u001B[0;34m'\\t'\u001B[0m\u001B[0;34m)\u001B[0m\u001B[0;34m\u001B[0m\u001B[0;34m\u001B[0m\u001B[0m\n\u001B[0;32m---> 48\u001B[0;31m     \u001B[0mprocess_image\u001B[0m\u001B[0;34m(\u001B[0m\u001B[0mimage_id\u001B[0m\u001B[0;34m)\u001B[0m\u001B[0;34m\u001B[0m\u001B[0;34m\u001B[0m\u001B[0m\n\u001B[0m\u001B[1;32m     49\u001B[0m \u001B[0;31m# f=open(\"img_list.txt\",\"w\")\u001B[0m\u001B[0;34m\u001B[0m\u001B[0;34m\u001B[0m\u001B[0;34m\u001B[0m\u001B[0m\n\u001B[1;32m     50\u001B[0m \u001B[0;31m# for i in range(8166):\u001B[0m\u001B[0;34m\u001B[0m\u001B[0;34m\u001B[0m\u001B[0;34m\u001B[0m\u001B[0m\n",
      "\u001B[0;32m/tmp/ipykernel_6666/1631860166.py\u001B[0m in \u001B[0;36mprocess_image\u001B[0;34m(image_id)\u001B[0m\n\u001B[1;32m     36\u001B[0m     \u001B[0mimg_mask\u001B[0m \u001B[0;34m=\u001B[0m \u001B[0mcv2\u001B[0m\u001B[0;34m.\u001B[0m\u001B[0mimread\u001B[0m\u001B[0;34m(\u001B[0m\u001B[0mimage_path\u001B[0m\u001B[0;34m,\u001B[0m \u001B[0mcv2\u001B[0m\u001B[0;34m.\u001B[0m\u001B[0mIMREAD_GRAYSCALE\u001B[0m\u001B[0;34m)\u001B[0m\u001B[0;34m\u001B[0m\u001B[0;34m\u001B[0m\u001B[0m\n\u001B[1;32m     37\u001B[0m \u001B[0;34m\u001B[0m\u001B[0m\n\u001B[0;32m---> 38\u001B[0;31m     \u001B[0mimg_mask\u001B[0m \u001B[0;34m,\u001B[0m\u001B[0mbias\u001B[0m \u001B[0;34m=\u001B[0m \u001B[0mcrop_image\u001B[0m\u001B[0;34m(\u001B[0m\u001B[0mimg_mask\u001B[0m\u001B[0;34m,\u001B[0m \u001B[0mpadding\u001B[0m\u001B[0;34m=\u001B[0m\u001B[0;36m16\u001B[0m\u001B[0;34m)\u001B[0m\u001B[0;34m\u001B[0m\u001B[0;34m\u001B[0m\u001B[0m\n\u001B[0m\u001B[1;32m     39\u001B[0m     \u001B[0mimg_mask\u001B[0m \u001B[0;34m=\u001B[0m \u001B[0mcv2\u001B[0m\u001B[0;34m.\u001B[0m\u001B[0mcvtColor\u001B[0m\u001B[0;34m(\u001B[0m\u001B[0mimg_mask\u001B[0m\u001B[0;34m,\u001B[0m \u001B[0mcv2\u001B[0m\u001B[0;34m.\u001B[0m\u001B[0mCOLOR_BGR2RGB\u001B[0m\u001B[0;34m)\u001B[0m\u001B[0;34m\u001B[0m\u001B[0;34m\u001B[0m\u001B[0m\n\u001B[1;32m     40\u001B[0m     \u001B[0mnp\u001B[0m\u001B[0;34m.\u001B[0m\u001B[0msavetxt\u001B[0m\u001B[0;34m(\u001B[0m\u001B[0mos\u001B[0m\u001B[0;34m.\u001B[0m\u001B[0mpath\u001B[0m\u001B[0;34m.\u001B[0m\u001B[0mjoin\u001B[0m\u001B[0;34m(\u001B[0m\u001B[0mimage_dir\u001B[0m\u001B[0;34m,\u001B[0m\u001B[0;34m'bias.txt'\u001B[0m\u001B[0;34m)\u001B[0m\u001B[0;34m,\u001B[0m\u001B[0mbias\u001B[0m\u001B[0;34m,\u001B[0m\u001B[0mfmt\u001B[0m\u001B[0;34m=\u001B[0m\u001B[0;34m'%i'\u001B[0m\u001B[0;34m)\u001B[0m\u001B[0;34m\u001B[0m\u001B[0;34m\u001B[0m\u001B[0m\n",
      "\u001B[0;32m/tmp/ipykernel_6666/1631860166.py\u001B[0m in \u001B[0;36mcrop_image\u001B[0;34m(image, padding)\u001B[0m\n\u001B[1;32m     17\u001B[0m     \u001B[0;34m:\u001B[0m\u001B[0;32mreturn\u001B[0m\u001B[0;34m:\u001B[0m\u001B[0mimage\u001B[0m\u001B[0;34m:\u001B[0m\u001B[0;34m(\u001B[0m\u001B[0mH_\u001B[0m\u001B[0;34m,\u001B[0m\u001B[0mW_\u001B[0m\u001B[0;34m)\u001B[0m \u001B[0mbias\u001B[0m \u001B[0;34m[\u001B[0m\u001B[0mx\u001B[0m\u001B[0;34m,\u001B[0m\u001B[0my\u001B[0m\u001B[0;34m]\u001B[0m\u001B[0;34m\u001B[0m\u001B[0;34m\u001B[0m\u001B[0m\n\u001B[1;32m     18\u001B[0m     \"\"\"\n\u001B[0;32m---> 19\u001B[0;31m     \u001B[0;32massert\u001B[0m \u001B[0;34m(\u001B[0m\u001B[0mlen\u001B[0m\u001B[0;34m(\u001B[0m\u001B[0mimage\u001B[0m\u001B[0;34m.\u001B[0m\u001B[0mshape\u001B[0m\u001B[0;34m)\u001B[0m\u001B[0;34m==\u001B[0m\u001B[0;36m2\u001B[0m\u001B[0;34m)\u001B[0m\u001B[0;34m\u001B[0m\u001B[0;34m\u001B[0m\u001B[0m\n\u001B[0m\u001B[1;32m     20\u001B[0m     \u001B[0mH\u001B[0m\u001B[0;34m,\u001B[0m \u001B[0mW\u001B[0m \u001B[0;34m=\u001B[0m \u001B[0mimage\u001B[0m\u001B[0;34m.\u001B[0m\u001B[0mshape\u001B[0m\u001B[0;34m[\u001B[0m\u001B[0;36m0\u001B[0m\u001B[0;34m]\u001B[0m\u001B[0;34m,\u001B[0m\u001B[0mimage\u001B[0m\u001B[0;34m.\u001B[0m\u001B[0mshape\u001B[0m\u001B[0;34m[\u001B[0m\u001B[0;36m1\u001B[0m\u001B[0;34m]\u001B[0m\u001B[0;34m\u001B[0m\u001B[0;34m\u001B[0m\u001B[0m\n\u001B[1;32m     21\u001B[0m     \u001B[0mind\u001B[0m \u001B[0;34m=\u001B[0m \u001B[0mlist\u001B[0m\u001B[0;34m(\u001B[0m\u001B[0mnp\u001B[0m\u001B[0;34m.\u001B[0m\u001B[0mnonzero\u001B[0m\u001B[0;34m(\u001B[0m\u001B[0mimage\u001B[0m\u001B[0;34m)\u001B[0m\u001B[0;34m)\u001B[0m\u001B[0;34m\u001B[0m\u001B[0;34m\u001B[0m\u001B[0m\n",
      "\u001B[0;31mAttributeError\u001B[0m: 'NoneType' object has no attribute 'shape'"
     ]
    }
   ],
   "source": [
    "# batch process\n",
    "import os.path\n",
    "import matplotlib.pyplot as plt\n",
    "import cv2\n",
    "import torch\n",
    "import numpy as np\n",
    "from src.dataset.linemod_2d import read_scannet_gray\n",
    "from src.utils.plotting import make_matching_figure\n",
    "data_dir = \"/home/gzr/Data/linemod_2d/DATA/steel_train\"\n",
    "\n",
    "def crop_image(image, padding=50):\n",
    "    \"\"\"\n",
    "    crop the black block\n",
    "    :param image:(H,W)\n",
    "    :param padding:int\n",
    "    :return:image:(H_,W_) bias [x,y]\n",
    "    \"\"\"\n",
    "    assert (len(image.shape)==2)\n",
    "    H, W = image.shape[0],image.shape[1]\n",
    "    ind = list(np.nonzero(image))\n",
    "    max_y,min_y = int(np.max(ind[0])),int(np.min(ind[0]))\n",
    "    max_x,min_x = int(np.max(ind[1])),int(np.min(ind[1]))\n",
    "    min_x = max(min_x-padding,0)\n",
    "    min_y = max(min_y-padding,0)\n",
    "    max_x = min((max_x+padding),W)\n",
    "    max_y = min((max_y+padding),H)\n",
    "    cropped = image[min_y:max_y, min_x:max_x]\n",
    "    bias = np.array([min_x,min_y])\n",
    "    return cropped,bias\n",
    "\n",
    "\n",
    "def process_image(image_id):\n",
    "    image_dir = os.path.join(data_dir,image_id)\n",
    "    image_path = os.path.join(image_dir,'matchedMask.jpg')\n",
    "    img_mask = cv2.imread(image_path, cv2.IMREAD_GRAYSCALE)\n",
    "\n",
    "    img_mask ,bias = crop_image(img_mask, padding=20)\n",
    "    img_mask = cv2.cvtColor(img_mask, cv2.COLOR_BGR2RGB)\n",
    "    np.savetxt(os.path.join(image_dir,'bias.txt'),bias,fmt='%i')\n",
    "    # plt.imshow(img_mask)\n",
    "    # plt.show()\n",
    "    cv2.imwrite(os.path.join(image_dir,'template.jpg'),img_mask)\n",
    "\n",
    "for i in range(0,8166):\n",
    "    image_id = f'{i:05d}'\n",
    "    print(image_id,'\\t')\n",
    "    process_image(image_id)\n",
    "# f=open(\"img_list.txt\",\"w\")\n",
    "# for i in range(8166):\n",
    "#\n",
    "#     image_id = f'{i:05d}'\n",
    "#     f.write(image_id+'\\n')\n",
    "# f.close()\n"
   ],
   "metadata": {
    "collapsed": false,
    "pycharm": {
     "name": "#%%\n"
    }
   }
  },
  {
   "cell_type": "code",
   "execution_count": 3,
   "outputs": [
    {
     "name": "stdout",
     "output_type": "stream",
     "text": [
      "5\n",
      "6\n"
     ]
    }
   ],
   "source": [
    "for i in range(5,7):\n",
    "    print(i)"
   ],
   "metadata": {
    "collapsed": false,
    "pycharm": {
     "name": "#%%\n"
    }
   }
  },
  {
   "cell_type": "code",
   "execution_count": 7,
   "outputs": [
    {
     "name": "stdout",
     "output_type": "stream",
     "text": [
      "(494, 2167)\n"
     ]
    }
   ],
   "source": [
    "image = cv2.imread('/home/gzr/Data/linemod_2d/DATA/steel_test/08156/matchedEdge.jpg',0)\n",
    "print(image.shape)"
   ],
   "metadata": {
    "collapsed": false,
    "pycharm": {
     "name": "#%%\n"
    }
   }
  },
  {
   "cell_type": "code",
   "execution_count": null,
   "outputs": [],
   "source": [],
   "metadata": {
    "collapsed": false,
    "pycharm": {
     "name": "#%%\n"
    }
   }
  }
 ],
 "metadata": {
  "kernelspec": {
   "display_name": "Python 3",
   "language": "python",
   "name": "python3"
  },
  "language_info": {
   "codemirror_mode": {
    "name": "ipython",
    "version": 2
   },
   "file_extension": ".py",
   "mimetype": "text/x-python",
   "name": "python",
   "nbconvert_exporter": "python",
   "pygments_lexer": "ipython2",
   "version": "2.7.6"
  }
 },
 "nbformat": 4,
 "nbformat_minor": 0
}